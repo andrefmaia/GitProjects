{
 "cells": [
  {
   "cell_type": "markdown",
   "id": "9f4ade3e",
   "metadata": {},
   "source": [
    "# Introduction Pandas"
   ]
  },
  {
   "cell_type": "code",
   "execution_count": 8,
   "id": "c2e48574",
   "metadata": {},
   "outputs": [],
   "source": [
    "import pandas as pd\n"
   ]
  },
  {
   "cell_type": "code",
   "execution_count": 10,
   "id": "b7998060",
   "metadata": {},
   "outputs": [
    {
     "ename": "SyntaxError",
     "evalue": "EOL while scanning string literal (1148975488.py, line 1)",
     "output_type": "error",
     "traceback": [
      "\u001b[1;36m  File \u001b[1;32m\"C:\\Users\\Andre\\AppData\\Local\\Temp\\ipykernel_15688\\1148975488.py\"\u001b[1;36m, line \u001b[1;32m1\u001b[0m\n\u001b[1;33m    base = pd.read_excel(\"Planilha.xlsx\"\")\u001b[0m\n\u001b[1;37m                                          ^\u001b[0m\n\u001b[1;31mSyntaxError\u001b[0m\u001b[1;31m:\u001b[0m EOL while scanning string literal\n"
     ]
    }
   ],
   "source": [
    "base = pd.read_excel(\"Planilha.xlsx\"\")"
   ]
  },
  {
   "cell_type": "code",
   "execution_count": 12,
   "id": "ee139639",
   "metadata": {},
   "outputs": [
    {
     "data": {
      "text/plain": [
       "pandas.core.frame.DataFrame"
      ]
     },
     "execution_count": 12,
     "metadata": {},
     "output_type": "execute_result"
    }
   ],
   "source": [
    "type(base)"
   ]
  },
  {
   "cell_type": "code",
   "execution_count": 14,
   "id": "f16e7afd",
   "metadata": {},
   "outputs": [
    {
     "data": {
      "text/html": [
       "<div>\n",
       "<style scoped>\n",
       "    .dataframe tbody tr th:only-of-type {\n",
       "        vertical-align: middle;\n",
       "    }\n",
       "\n",
       "    .dataframe tbody tr th {\n",
       "        vertical-align: top;\n",
       "    }\n",
       "\n",
       "    .dataframe thead th {\n",
       "        text-align: right;\n",
       "    }\n",
       "</style>\n",
       "<table border=\"1\" class=\"dataframe\">\n",
       "  <thead>\n",
       "    <tr style=\"text-align: right;\">\n",
       "      <th></th>\n",
       "      <th>Segundos</th>\n",
       "      <th>Taxa de retenção</th>\n",
       "      <th>Venda $</th>\n",
       "      <th>Custo</th>\n",
       "    </tr>\n",
       "  </thead>\n",
       "  <tbody>\n",
       "    <tr>\n",
       "      <th>0</th>\n",
       "      <td>5</td>\n",
       "      <td>1.00</td>\n",
       "      <td>126600.0</td>\n",
       "      <td>20000</td>\n",
       "    </tr>\n",
       "    <tr>\n",
       "      <th>1</th>\n",
       "      <td>8</td>\n",
       "      <td>0.99</td>\n",
       "      <td>200534.4</td>\n",
       "      <td>32000</td>\n",
       "    </tr>\n",
       "    <tr>\n",
       "      <th>2</th>\n",
       "      <td>10</td>\n",
       "      <td>0.99</td>\n",
       "      <td>250668.0</td>\n",
       "      <td>40000</td>\n",
       "    </tr>\n",
       "    <tr>\n",
       "      <th>3</th>\n",
       "      <td>15</td>\n",
       "      <td>0.95</td>\n",
       "      <td>360810.0</td>\n",
       "      <td>60000</td>\n",
       "    </tr>\n",
       "    <tr>\n",
       "      <th>4</th>\n",
       "      <td>21</td>\n",
       "      <td>0.90</td>\n",
       "      <td>478548.0</td>\n",
       "      <td>84000</td>\n",
       "    </tr>\n",
       "    <tr>\n",
       "      <th>5</th>\n",
       "      <td>25</td>\n",
       "      <td>0.90</td>\n",
       "      <td>569700.0</td>\n",
       "      <td>100000</td>\n",
       "    </tr>\n",
       "    <tr>\n",
       "      <th>6</th>\n",
       "      <td>27</td>\n",
       "      <td>0.90</td>\n",
       "      <td>615276.0</td>\n",
       "      <td>108000</td>\n",
       "    </tr>\n",
       "    <tr>\n",
       "      <th>7</th>\n",
       "      <td>29</td>\n",
       "      <td>0.87</td>\n",
       "      <td>638823.6</td>\n",
       "      <td>116000</td>\n",
       "    </tr>\n",
       "    <tr>\n",
       "      <th>8</th>\n",
       "      <td>30</td>\n",
       "      <td>0.87</td>\n",
       "      <td>660852.0</td>\n",
       "      <td>120000</td>\n",
       "    </tr>\n",
       "    <tr>\n",
       "      <th>9</th>\n",
       "      <td>35</td>\n",
       "      <td>0.82</td>\n",
       "      <td>726684.0</td>\n",
       "      <td>140000</td>\n",
       "    </tr>\n",
       "  </tbody>\n",
       "</table>\n",
       "</div>"
      ],
      "text/plain": [
       "   Segundos  Taxa de retenção   Venda $   Custo\n",
       "0         5              1.00  126600.0   20000\n",
       "1         8              0.99  200534.4   32000\n",
       "2        10              0.99  250668.0   40000\n",
       "3        15              0.95  360810.0   60000\n",
       "4        21              0.90  478548.0   84000\n",
       "5        25              0.90  569700.0  100000\n",
       "6        27              0.90  615276.0  108000\n",
       "7        29              0.87  638823.6  116000\n",
       "8        30              0.87  660852.0  120000\n",
       "9        35              0.82  726684.0  140000"
      ]
     },
     "execution_count": 14,
     "metadata": {},
     "output_type": "execute_result"
    }
   ],
   "source": [
    "#visualizar\n",
    "base.head(10)"
   ]
  },
  {
   "cell_type": "code",
   "execution_count": 17,
   "id": "2e40c069",
   "metadata": {},
   "outputs": [
    {
     "data": {
      "text/plain": [
       "Segundos              int64\n",
       "Taxa de retenção    float64\n",
       "Venda $             float64\n",
       "Custo                 int64\n",
       "dtype: object"
      ]
     },
     "execution_count": 17,
     "metadata": {},
     "output_type": "execute_result"
    }
   ],
   "source": [
    "#VER OS TIPOS DE DADOS\n",
    "base.dtypes"
   ]
  },
  {
   "cell_type": "code",
   "execution_count": 19,
   "id": "383d056f",
   "metadata": {},
   "outputs": [
    {
     "data": {
      "text/html": [
       "<div>\n",
       "<style scoped>\n",
       "    .dataframe tbody tr th:only-of-type {\n",
       "        vertical-align: middle;\n",
       "    }\n",
       "\n",
       "    .dataframe tbody tr th {\n",
       "        vertical-align: top;\n",
       "    }\n",
       "\n",
       "    .dataframe thead th {\n",
       "        text-align: right;\n",
       "    }\n",
       "</style>\n",
       "<table border=\"1\" class=\"dataframe\">\n",
       "  <thead>\n",
       "    <tr style=\"text-align: right;\">\n",
       "      <th></th>\n",
       "      <th>Segundos</th>\n",
       "      <th>Taxa de retenção</th>\n",
       "      <th>Venda $</th>\n",
       "      <th>Custo</th>\n",
       "    </tr>\n",
       "  </thead>\n",
       "  <tbody>\n",
       "    <tr>\n",
       "      <th>12</th>\n",
       "      <td>40</td>\n",
       "      <td>0.79</td>\n",
       "      <td>800112.0</td>\n",
       "      <td>160000</td>\n",
       "    </tr>\n",
       "    <tr>\n",
       "      <th>14</th>\n",
       "      <td>60</td>\n",
       "      <td>0.55</td>\n",
       "      <td>835560.0</td>\n",
       "      <td>240000</td>\n",
       "    </tr>\n",
       "  </tbody>\n",
       "</table>\n",
       "</div>"
      ],
      "text/plain": [
       "    Segundos  Taxa de retenção   Venda $   Custo\n",
       "12        40              0.79  800112.0  160000\n",
       "14        60              0.55  835560.0  240000"
      ]
     },
     "execution_count": 19,
     "metadata": {},
     "output_type": "execute_result"
    }
   ],
   "source": [
    "base[base['Venda $'] > 800000]"
   ]
  },
  {
   "cell_type": "code",
   "execution_count": 21,
   "id": "94ca089c",
   "metadata": {},
   "outputs": [
    {
     "data": {
      "image/png": "[encoded data removed]",
      "text/plain": [
       "<Figure size 640x480 with 1 Axes>"
      ]
     },
     "metadata": {},
     "output_type": "display_data"
    }
   ],
   "source": [
    "base.plot.scatter(x='Segundos',y='Venda $');"
   ]
  },
  {
   "cell_type": "code",
   "execution_count": 22,
   "id": "05d01fc6",
   "metadata": {},
   "outputs": [
    {
     "data": {
      "text/plain": [
       "572473.1428571427"
      ]
     },
     "execution_count": 22,
     "metadata": {},
     "output_type": "execute_result"
    }
   ],
   "source": [
    "#Media estatistica\n",
    "base[\"Venda $\"].mean()"
   ]
  },
  {
   "cell_type": "code",
   "execution_count": 24,
   "id": "2b1ac57f",
   "metadata": {},
   "outputs": [
    {
     "data": {
      "text/plain": [
       "count        21.000000\n",
       "mean     572473.142857\n",
       "std      197752.952190\n",
       "min      126600.000000\n",
       "25%      516528.000000\n",
       "50%      615276.000000\n",
       "75%      726684.000000\n",
       "max      835560.000000\n",
       "Name: Venda $, dtype: float64"
      ]
     },
     "execution_count": 24,
     "metadata": {},
     "output_type": "execute_result"
    }
   ],
   "source": [
    "#Funções estatistica\n",
    "base['Venda $'].describe()"
   ]
  }
 ],
 "metadata": {
  "kernelspec": {
   "display_name": "Python 3 (ipykernel)",
   "language": "python",
   "name": "python3"
  },
  "language_info": {
   "codemirror_mode": {
    "name": "ipython",
    "version": 3
   },
   "file_extension": ".py",
   "mimetype": "text/x-python",
   "name": "python",
   "nbconvert_exporter": "python",
   "pygments_lexer": "ipython3",
   "version": "3.9.13"
  }
 },
 "nbformat": 4,
 "nbformat_minor": 5
}
