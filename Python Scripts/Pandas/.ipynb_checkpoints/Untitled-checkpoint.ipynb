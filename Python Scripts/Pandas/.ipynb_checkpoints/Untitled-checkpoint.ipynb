{
 "cells": [
  {
   "cell_type": "markdown",
   "id": "46e58881",
   "metadata": {},
   "source": [
    "# Num py\n",
    "https://numpy.org/doc/stable/user/absolute_beginners.html\n",
    "\n",
    "\n",
    "\n",
    "## O array no numpy\n"
   ]
  },
  {
   "cell_type": "code",
   "execution_count": 3,
   "id": "ab44fe8c",
   "metadata": {},
   "outputs": [],
   "source": [
    "#importando o numpy\n",
    "import numpy as np"
   ]
  },
  {
   "cell_type": "code",
   "execution_count": 69,
   "id": "b2b261b2",
   "metadata": {},
   "outputs": [],
   "source": [
    "a = np.arange(15).reshape(3,5)\n"
   ]
  },
  {
   "cell_type": "code",
   "execution_count": 70,
   "id": "4451ccf3",
   "metadata": {},
   "outputs": [
    {
     "data": {
      "text/plain": [
       "array([[ 0,  1,  2,  3,  4],\n",
       "       [ 5,  6,  7,  8,  9],\n",
       "       [10, 11, 12, 13, 14]])"
      ]
     },
     "metadata": {},
     "output_type": "display_data"
    }
   ],
   "source": [
    "display(a)"
   ]
  },
  {
   "cell_type": "code",
   "execution_count": 6,
   "id": "b370bd8d",
   "metadata": {},
   "outputs": [
    {
     "data": {
      "text/plain": [
       "2"
      ]
     },
     "execution_count": 6,
     "metadata": {},
     "output_type": "execute_result"
    }
   ],
   "source": [
    "#veriicando a dimensão desse array\n",
    "a.ndim"
   ]
  },
  {
   "cell_type": "code",
   "execution_count": 7,
   "id": "42b8e646",
   "metadata": {},
   "outputs": [
    {
     "data": {
      "text/plain": [
       "(3, 5)"
      ]
     },
     "execution_count": 7,
     "metadata": {},
     "output_type": "execute_result"
    }
   ],
   "source": [
    "#Verificando o tipo dos dados\n",
    "a.shape"
   ]
  },
  {
   "cell_type": "code",
   "execution_count": 8,
   "id": "84242f3c",
   "metadata": {},
   "outputs": [
    {
     "data": {
      "text/plain": [
       "dtype('int32')"
      ]
     },
     "execution_count": 8,
     "metadata": {},
     "output_type": "execute_result"
    }
   ],
   "source": [
    "a.dtype"
   ]
  },
  {
   "cell_type": "code",
   "execution_count": 10,
   "id": "2f2c0487",
   "metadata": {},
   "outputs": [],
   "source": [
    "#adicionando array\n",
    "arr = np.array([2, 1, 5, 3, 7, 4, 6, 8])"
   ]
  },
  {
   "cell_type": "code",
   "execution_count": 11,
   "id": "3242f2bd",
   "metadata": {},
   "outputs": [
    {
     "data": {
      "text/plain": [
       "array([2, 1, 5, 3, 7, 4, 6, 8])"
      ]
     },
     "execution_count": 11,
     "metadata": {},
     "output_type": "execute_result"
    }
   ],
   "source": [
    "arr"
   ]
  },
  {
   "cell_type": "code",
   "execution_count": 13,
   "id": "a2cdb7a9",
   "metadata": {},
   "outputs": [
    {
     "data": {
      "text/plain": [
       "array([1, 2, 3, 4, 5, 6, 7, 8])"
      ]
     },
     "execution_count": 13,
     "metadata": {},
     "output_type": "execute_result"
    }
   ],
   "source": [
    "#classificar rapidamente os números em ordem crescente com:\n",
    "np.sort(arr)"
   ]
  },
  {
   "cell_type": "code",
   "execution_count": 14,
   "id": "f63f53ff",
   "metadata": {},
   "outputs": [],
   "source": [
    "#criar um array com intervalo de valores\n",
    "ab = np.arange(10)"
   ]
  },
  {
   "cell_type": "code",
   "execution_count": 15,
   "id": "abaaf13e",
   "metadata": {},
   "outputs": [
    {
     "data": {
      "text/plain": [
       "array([0, 1, 2, 3, 4, 5, 6, 7, 8, 9])"
      ]
     },
     "execution_count": 15,
     "metadata": {},
     "output_type": "execute_result"
    }
   ],
   "source": [
    "ab"
   ]
  },
  {
   "cell_type": "code",
   "execution_count": 17,
   "id": "669f1d9f",
   "metadata": {},
   "outputs": [
    {
     "data": {
      "text/plain": [
       "array([2, 3, 4, 5, 6, 7, 8, 9])"
      ]
     },
     "execution_count": 17,
     "metadata": {},
     "output_type": "execute_result"
    }
   ],
   "source": [
    "#passar o primeiro valor e o ultimo valor\n",
    "ab = np.arange(2,10)\n",
    "ab"
   ]
  },
  {
   "cell_type": "code",
   "execution_count": 33,
   "id": "23e580b3",
   "metadata": {},
   "outputs": [],
   "source": [
    "#Com intervalor --> o segundo termo é o excludente e o terceiro argumento vai ser o passo\n",
    "a = np.arange(5,101, 5)"
   ]
  },
  {
   "cell_type": "code",
   "execution_count": null,
   "id": "6df901cb",
   "metadata": {},
   "outputs": [],
   "source": [
    "# Com intervalo decrescente - o segundo termo é o excludente, terceiro vai ser o passo (decrescente so passar o termo negativa)\n",
    "np.arange(100,4, -5)"
   ]
  },
  {
   "cell_type": "markdown",
   "id": "c385adc0",
   "metadata": {},
   "source": [
    "## numpy.linspace \n",
    "numpy.linspace ( início , parada , num = 50 , ponto final = Verdadeiro , retstep = Falso , dtype = Nenhum , eixo = 0 , * , dispositivo = Nenhum )"
   ]
  },
  {
   "cell_type": "code",
   "execution_count": 40,
   "id": "1e4e713d",
   "metadata": {},
   "outputs": [
    {
     "data": {
      "text/plain": [
       "array([16., 32., 48., 64., 80.])"
      ]
     },
     "execution_count": 40,
     "metadata": {},
     "output_type": "execute_result"
    }
   ],
   "source": [
    "# quero buscar a faixa de idade de 16 anos a 80 dividindo em 21 grupos\n",
    "a = np.linspace(16, 80, num=5)\n",
    "a"
   ]
  },
  {
   "cell_type": "markdown",
   "id": "978a9da3",
   "metadata": {},
   "source": [
    "# ------------------------------------------\n",
    "## Buscando elementos no array"
   ]
  },
  {
   "cell_type": "code",
   "execution_count": 46,
   "id": "2d0a6fae",
   "metadata": {},
   "outputs": [
    {
     "data": {
      "text/plain": [
       "(array([0, 1, 2, 3]), array([4, 5, 6, 7]), array([ 8,  9, 10, 11]))"
      ]
     },
     "execution_count": 46,
     "metadata": {},
     "output_type": "execute_result"
    }
   ],
   "source": [
    "b[0],b[1], b[2]"
   ]
  },
  {
   "cell_type": "code",
   "execution_count": 48,
   "id": "ec2bf64a",
   "metadata": {},
   "outputs": [
    {
     "data": {
      "text/plain": [
       "3"
      ]
     },
     "execution_count": 48,
     "metadata": {},
     "output_type": "execute_result"
    }
   ],
   "source": [
    "#buscar o lemento 3 na primeira linha\n",
    "b[0] [3]"
   ]
  },
  {
   "cell_type": "code",
   "execution_count": 51,
   "id": "f9ace104",
   "metadata": {},
   "outputs": [
    {
     "data": {
      "text/plain": [
       "10"
      ]
     },
     "execution_count": 51,
     "metadata": {},
     "output_type": "execute_result"
    }
   ],
   "source": [
    "b[2][2]"
   ]
  },
  {
   "cell_type": "code",
   "execution_count": 52,
   "id": "150db659",
   "metadata": {},
   "outputs": [
    {
     "data": {
      "text/plain": [
       "array([1, 2])"
      ]
     },
     "execution_count": 52,
     "metadata": {},
     "output_type": "execute_result"
    }
   ],
   "source": [
    "#Buscando os elementos de indice 1 a 3 (excluindo o 3º indice) n primeira linha\n",
    "b[0][1:3]"
   ]
  },
  {
   "cell_type": "code",
   "execution_count": 55,
   "id": "278ff0a4",
   "metadata": {},
   "outputs": [
    {
     "data": {
      "text/plain": [
       "array([ 6,  7,  8,  9, 10, 11])"
      ]
     },
     "execution_count": 55,
     "metadata": {},
     "output_type": "execute_result"
    }
   ],
   "source": [
    "#buscar os valores > 5\n",
    "b[b>5]"
   ]
  },
  {
   "cell_type": "code",
   "execution_count": 57,
   "id": "781e29ae",
   "metadata": {},
   "outputs": [
    {
     "data": {
      "text/plain": [
       "array([ 4,  5,  6,  7,  8,  9, 10])"
      ]
     },
     "execution_count": 57,
     "metadata": {},
     "output_type": "execute_result"
    }
   ],
   "source": [
    "# buscando valores maiores que 5 e(&) ou (|) menores que 12\n",
    "b[(b>3) & (b<=10)]"
   ]
  },
  {
   "cell_type": "markdown",
   "id": "749f2a4e",
   "metadata": {},
   "source": [
    "### Operações básicas no array \n",
    "Operadores aritméticos em arrays aplicam -se elemento a elemento . Um novo array é criado e preenchido com o resultado."
   ]
  },
  {
   "cell_type": "raw",
   "id": "d7d3dbd0",
   "metadata": {},
   "source": [
    "ab = np.array(20)\n",
    "ab"
   ]
  },
  {
   "cell_type": "code",
   "execution_count": 68,
   "id": "de0af9c6",
   "metadata": {},
   "outputs": [
    {
     "data": {
      "text/plain": [
       "array([2, 3, 4, 5, 6, 7, 8, 9])"
      ]
     },
     "metadata": {},
     "output_type": "display_data"
    }
   ],
   "source": [
    "display(ab)"
   ]
  },
  {
   "cell_type": "code",
   "execution_count": 74,
   "id": "59e79792",
   "metadata": {},
   "outputs": [
    {
     "data": {
      "text/plain": [
       "44"
      ]
     },
     "execution_count": 74,
     "metadata": {},
     "output_type": "execute_result"
    }
   ],
   "source": [
    "#soma todos os valores do array\n",
    "ab.sum()"
   ]
  },
  {
   "cell_type": "code",
   "execution_count": 71,
   "id": "5f9eb8ce",
   "metadata": {},
   "outputs": [
    {
     "data": {
      "text/plain": [
       "array([[ 0,  1,  2,  3],\n",
       "       [ 4,  5,  6,  7],\n",
       "       [ 8,  9, 10, 11]])"
      ]
     },
     "execution_count": 71,
     "metadata": {},
     "output_type": "execute_result"
    }
   ],
   "source": [
    "b"
   ]
  },
  {
   "cell_type": "code",
   "execution_count": 99,
   "id": "2ea4c23b",
   "metadata": {},
   "outputs": [
    {
     "data": {
      "text/plain": [
       "array([12, 15, 18, 21])"
      ]
     },
     "execution_count": 99,
     "metadata": {},
     "output_type": "execute_result"
    }
   ],
   "source": [
    "#soma somente os valores da linha\n",
    "b.sum(axis=0)"
   ]
  },
  {
   "cell_type": "code",
   "execution_count": 103,
   "id": "87b4e369",
   "metadata": {},
   "outputs": [
    {
     "data": {
      "text/plain": [
       "(6, 22, 38)"
      ]
     },
     "execution_count": 103,
     "metadata": {},
     "output_type": "execute_result"
    }
   ],
   "source": [
    "#soma somente os valores da linha indexada\n",
    "b[0].sum(axis=0), b[1].sum(axis=0), b[2].sum(axis=0)"
   ]
  },
  {
   "cell_type": "code",
   "execution_count": 98,
   "id": "c7a0c10a",
   "metadata": {},
   "outputs": [
    {
     "data": {
      "text/plain": [
       "array([ 6, 22, 38])"
      ]
     },
     "execution_count": 98,
     "metadata": {},
     "output_type": "execute_result"
    }
   ],
   "source": [
    "#soma somente os valores da linhas\n",
    "b.sum(axis=1)"
   ]
  },
  {
   "cell_type": "code",
   "execution_count": 94,
   "id": "0900a26b",
   "metadata": {},
   "outputs": [
    {
     "data": {
      "text/plain": [
       "array([[ 0,  2,  4,  6],\n",
       "       [ 8, 10, 12, 14],\n",
       "       [16, 18, 20, 22]])"
      ]
     },
     "execution_count": 94,
     "metadata": {},
     "output_type": "execute_result"
    }
   ],
   "source": [
    "#Multiplicando ou somando 2 a todos os valores do array\n",
    "b*2"
   ]
  },
  {
   "cell_type": "code",
   "execution_count": 95,
   "id": "aec0b6f2",
   "metadata": {},
   "outputs": [
    {
     "data": {
      "text/plain": [
       "0"
      ]
     },
     "execution_count": 95,
     "metadata": {},
     "output_type": "execute_result"
    }
   ],
   "source": [
    "#Verificando o menor valor desse array\n",
    "b.min()"
   ]
  },
  {
   "cell_type": "code",
   "execution_count": 96,
   "id": "e9806180",
   "metadata": {},
   "outputs": [
    {
     "data": {
      "text/plain": [
       "11"
      ]
     },
     "execution_count": 96,
     "metadata": {},
     "output_type": "execute_result"
    }
   ],
   "source": [
    "#Verificando o maior valor desse array\n",
    "b.max()"
   ]
  },
  {
   "cell_type": "code",
   "execution_count": null,
   "id": "673d1246",
   "metadata": {},
   "outputs": [],
   "source": []
  },
  {
   "cell_type": "code",
   "execution_count": 86,
   "id": "85313ff9",
   "metadata": {},
   "outputs": [],
   "source": [
    "cd = np.arange(0,22,5)"
   ]
  },
  {
   "cell_type": "code",
   "execution_count": 87,
   "id": "3a5831dd",
   "metadata": {},
   "outputs": [
    {
     "data": {
      "text/plain": [
       "array([ 0,  5, 10, 15, 20])"
      ]
     },
     "execution_count": 87,
     "metadata": {},
     "output_type": "execute_result"
    }
   ],
   "source": [
    "cd"
   ]
  },
  {
   "cell_type": "code",
   "execution_count": 85,
   "id": "1a6a533d",
   "metadata": {},
   "outputs": [
    {
     "data": {
      "text/plain": [
       "4950"
      ]
     },
     "execution_count": 85,
     "metadata": {},
     "output_type": "execute_result"
    }
   ],
   "source": [
    "cd.sum()"
   ]
  },
  {
   "cell_type": "code",
   "execution_count": null,
   "id": "e43d5e92",
   "metadata": {},
   "outputs": [],
   "source": []
  }
 ],
 "metadata": {
  "kernelspec": {
   "display_name": "Python 3 (ipykernel)",
   "language": "python",
   "name": "python3"
  },
  "language_info": {
   "codemirror_mode": {
    "name": "ipython",
    "version": 3
   },
   "file_extension": ".py",
   "mimetype": "text/x-python",
   "name": "python",
   "nbconvert_exporter": "python",
   "pygments_lexer": "ipython3",
   "version": "3.9.13"
  }
 },
 "nbformat": 4,
 "nbformat_minor": 5
}
