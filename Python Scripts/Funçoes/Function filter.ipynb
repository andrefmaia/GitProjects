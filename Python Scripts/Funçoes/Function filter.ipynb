{
 "cells": [
  {
   "cell_type": "markdown",
   "id": "55faac23",
   "metadata": {},
   "source": [
    "##  Função Filter\n",
    "A função filter () é uma função que filtra elementos de uma estrutura de dados iterável (como uma lista, tupla ou outro objeto iterável) com base em uma determinada condição. A funcão filter() retorna um objeto filtro, que pode ser convertido em outra estrutura de dados, como uma lista, se necessario."
   ]
  },
  {
   "cell_type": "code",
   "execution_count": 8,
   "id": "f243ff84",
   "metadata": {},
   "outputs": [],
   "source": [
    "#create function \n",
    "def verificaPar(num):\n",
    "    if num % 2 == 0:\n",
    "        return True\n",
    "    else:\n",
    "        return False"
   ]
  },
  {
   "cell_type": "code",
   "execution_count": 9,
   "id": "5ce2bee0",
   "metadata": {},
   "outputs": [
    {
     "data": {
      "text/plain": [
       "False"
      ]
     },
     "execution_count": 9,
     "metadata": {},
     "output_type": "execute_result"
    }
   ],
   "source": [
    "verificaPar(35)"
   ]
  },
  {
   "cell_type": "code",
   "execution_count": 10,
   "id": "7a5ba200",
   "metadata": {},
   "outputs": [
    {
     "data": {
      "text/plain": [
       "True"
      ]
     },
     "execution_count": 10,
     "metadata": {},
     "output_type": "execute_result"
    }
   ],
   "source": [
    "verificaPar(10)"
   ]
  },
  {
   "cell_type": "code",
   "execution_count": 14,
   "id": "9acd947a",
   "metadata": {},
   "outputs": [
    {
     "data": {
      "text/plain": [
       "[0, 1, 2, 3, 4, 5, 6, 7, 8, 9, 10, 11, 12, 13, 14, 15, 16, 17, 18]"
      ]
     },
     "metadata": {},
     "output_type": "display_data"
    }
   ],
   "source": [
    "lista = list(range(19))\n",
    "display(lista)"
   ]
  },
  {
   "cell_type": "code",
   "execution_count": 17,
   "id": "bcfcfa73",
   "metadata": {},
   "outputs": [
    {
     "data": {
      "text/plain": [
       "<filter at 0x1ff9909a760>"
      ]
     },
     "execution_count": 17,
     "metadata": {},
     "output_type": "execute_result"
    }
   ],
   "source": [
    "#a função filter() retorna um iterator\n",
    "filter(verificaPar, lista)"
   ]
  },
  {
   "cell_type": "code",
   "execution_count": 18,
   "id": "48801c02",
   "metadata": {},
   "outputs": [
    {
     "data": {
      "text/plain": [
       "[0, 2, 4, 6, 8, 10, 12, 14, 16, 18]"
      ]
     },
     "execution_count": 18,
     "metadata": {},
     "output_type": "execute_result"
    }
   ],
   "source": [
    "#converte o iterator para lista\n",
    "list(filter (lambda x: x % 2==0, lista))"
   ]
  },
  {
   "cell_type": "code",
   "execution_count": 20,
   "id": "efa4d153",
   "metadata": {},
   "outputs": [
    {
     "data": {
      "text/plain": [
       "[9, 10, 11, 12, 13, 14, 15, 16, 17, 18]"
      ]
     },
     "execution_count": 20,
     "metadata": {},
     "output_type": "execute_result"
    }
   ],
   "source": [
    "list(filter(lambda num: num > 8 , lista))"
   ]
  },
  {
   "cell_type": "code",
   "execution_count": null,
   "id": "b7198067",
   "metadata": {},
   "outputs": [],
   "source": []
  }
 ],
 "metadata": {
  "kernelspec": {
   "display_name": "Python 3 (ipykernel)",
   "language": "python",
   "name": "python3"
  },
  "language_info": {
   "codemirror_mode": {
    "name": "ipython",
    "version": 3
   },
   "file_extension": ".py",
   "mimetype": "text/x-python",
   "name": "python",
   "nbconvert_exporter": "python",
   "pygments_lexer": "ipython3",
   "version": "3.9.13"
  }
 },
 "nbformat": 4,
 "nbformat_minor": 5
}
