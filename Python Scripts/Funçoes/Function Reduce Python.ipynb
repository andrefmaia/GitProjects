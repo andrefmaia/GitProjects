{
 "cells": [
  {
   "cell_type": "markdown",
   "id": "7acdbf97",
   "metadata": {},
   "source": [
    "## Function Reduce\n",
    "A função reduce() é uma funcão da biblioteca functools que aplica uma determinada function binária a pares consecutivos de elementos em uma estrutura de dados iteravel( como uma lista, tupla ou outro objeto iterável), reduzinho-a a um unico valor"
   ]
  },
  {
   "cell_type": "code",
   "execution_count": 1,
   "id": "a668c12d",
   "metadata": {},
   "outputs": [],
   "source": [
    "from functools import reduce"
   ]
  },
  {
   "cell_type": "code",
   "execution_count": 4,
   "id": "a8156617",
   "metadata": {},
   "outputs": [],
   "source": [
    "#criando uma lista\n",
    "lista = [47, 11, 42, 13]"
   ]
  },
  {
   "cell_type": "code",
   "execution_count": 5,
   "id": "d9360ec5",
   "metadata": {},
   "outputs": [
    {
     "data": {
      "text/plain": [
       "[47, 11, 42, 13]"
      ]
     },
     "execution_count": 5,
     "metadata": {},
     "output_type": "execute_result"
    }
   ],
   "source": [
    "lista"
   ]
  },
  {
   "cell_type": "code",
   "execution_count": 6,
   "id": "42c17710",
   "metadata": {},
   "outputs": [],
   "source": [
    "#Criar uma funcao de soma\n",
    "def soma(a,b):\n",
    "    x= a+b\n",
    "    return x\n"
   ]
  },
  {
   "cell_type": "code",
   "execution_count": 8,
   "id": "69270916",
   "metadata": {},
   "outputs": [
    {
     "data": {
      "text/plain": [
       "113"
      ]
     },
     "execution_count": 8,
     "metadata": {},
     "output_type": "execute_result"
    }
   ],
   "source": [
    "#usando reduce com funcao e uma lista. A funcao vai retornar o valor maximo\n",
    "reduce(soma, lista)"
   ]
  },
  {
   "cell_type": "code",
   "execution_count": 16,
   "id": "d39216f7",
   "metadata": {},
   "outputs": [],
   "source": [
    "#criando uma lista\n",
    "lst = lista"
   ]
  },
  {
   "cell_type": "code",
   "execution_count": 17,
   "id": "e6758ce5",
   "metadata": {},
   "outputs": [
    {
     "data": {
      "text/plain": [
       "113"
      ]
     },
     "execution_count": 17,
     "metadata": {},
     "output_type": "execute_result"
    }
   ],
   "source": [
    "#Usando a expreção reduce() com lambda\n",
    "reduce(lambda x,y: x+y, lst)"
   ]
  },
  {
   "cell_type": "code",
   "execution_count": 22,
   "id": "4ce53b50",
   "metadata": {},
   "outputs": [],
   "source": [
    "maxfind2 = lambda a,b: a if (a > b) else b"
   ]
  },
  {
   "cell_type": "code",
   "execution_count": 23,
   "id": "3b1e13a6",
   "metadata": {},
   "outputs": [
    {
     "data": {
      "text/plain": [
       "function"
      ]
     },
     "execution_count": 23,
     "metadata": {},
     "output_type": "execute_result"
    }
   ],
   "source": [
    "type(maxfind2)"
   ]
  },
  {
   "cell_type": "code",
   "execution_count": 26,
   "id": "8867a178",
   "metadata": {},
   "outputs": [
    {
     "data": {
      "text/plain": [
       "47"
      ]
     },
     "execution_count": 26,
     "metadata": {},
     "output_type": "execute_result"
    }
   ],
   "source": [
    "reduce(maxfind2, lst)"
   ]
  },
  {
   "cell_type": "code",
   "execution_count": null,
   "id": "10bba7e0",
   "metadata": {},
   "outputs": [],
   "source": []
  }
 ],
 "metadata": {
  "kernelspec": {
   "display_name": "Python 3 (ipykernel)",
   "language": "python",
   "name": "python3"
  },
  "language_info": {
   "codemirror_mode": {
    "name": "ipython",
    "version": 3
   },
   "file_extension": ".py",
   "mimetype": "text/x-python",
   "name": "python",
   "nbconvert_exporter": "python",
   "pygments_lexer": "ipython3",
   "version": "3.9.13"
  }
 },
 "nbformat": 4,
 "nbformat_minor": 5
}
