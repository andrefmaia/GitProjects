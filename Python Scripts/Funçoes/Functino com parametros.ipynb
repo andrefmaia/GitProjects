{
 "cells": [
  {
   "cell_type": "markdown",
   "id": "898e8840",
   "metadata": {},
   "source": [
    "# Usando function com parametro\n",
    "### Estrutura Básica\n",
    "\n",
    "- Criar um programa para categorizar os produtos de uma revendedora de bebidas.\n",
    "\n",
    "Cada produto tem um código. O tipo de produto é dado pelas 3 primeiras letras do código.\n",
    "\n",
    "Ex: \n",
    "VINHO --> BEB12302\n",
    "CERVEJA --> BEB12043\n",
    "VODKA --> BEB34501\n",
    "\n",
    "GUARANA --> BSA11104\n",
    "COCA --> BSA54301\n",
    "SPRITE --> BSA34012\n",
    "AGUA --> BSA09871\n",
    "\n",
    "OBS: Bebidas não alcoolicas começam com BSA e alcoolicas com BEB.\n",
    "\n",
    "Crie um programa que analise uma lista de produtos e envie instruções para a equipe de estoque dizendo quais produtos devem ser enviados para a area de bebidas alcoolicas.\n"
   ]
  },
  {
   "cell_type": "code",
   "execution_count": 5,
   "id": "4fd53c82",
   "metadata": {},
   "outputs": [],
   "source": [
    "def ehalcolico(bebida):\n",
    "    bebida = bebida.upper()\n",
    "    if 'BEB' in bebida:\n",
    "        return True\n",
    "    else:\n",
    "        return False\n",
    "    \n",
    "    \n",
    "    \n",
    "produtos = ['beb46275','TFA23962','TFA64715','TFA69555','TFA56743','BSA45510','TFA44968','CAR75448','CAR23596','CAR13490','BEB21365','BEB31623','BSA62419','BEB73344','TFA20079','BEB80694','BSA11769','BEB19495','TFA14792','TFA78043','BSA33484','BEB97471','BEB62362','TFA27311','TFA17715','BEB85146','BEB48898','BEB79496','CAR38417','TFA19947','TFA58799','CAR94811','BSA59251','BEB15385','BEB24213','BEB56262','BSA96915','CAR53454','BEB75073']"
   ]
  },
  {
   "cell_type": "code",
   "execution_count": null,
   "id": "4c219e15",
   "metadata": {},
   "outputs": [],
   "source": [
    "#percorrer toda a minha lista de produtos\n",
    "#pra cada produto, verificar se ele é bebida alcoolica\n",
    "#se for bebida alcoolica, exibir a mensagem Enviar....\n"
   ]
  },
  {
   "cell_type": "code",
   "execution_count": 8,
   "id": "1bf1218f",
   "metadata": {},
   "outputs": [
    {
     "name": "stdout",
     "output_type": "stream",
     "text": [
      "Enviar BEB46275 para o setor de bebidas alcolicas\n",
      "Enviar BEB21365 para o setor de bebidas alcolicas\n",
      "Enviar BEB31623 para o setor de bebidas alcolicas\n",
      "Enviar BEB73344 para o setor de bebidas alcolicas\n",
      "Enviar BEB80694 para o setor de bebidas alcolicas\n",
      "Enviar BEB19495 para o setor de bebidas alcolicas\n",
      "Enviar BEB97471 para o setor de bebidas alcolicas\n",
      "Enviar BEB62362 para o setor de bebidas alcolicas\n",
      "Enviar BEB85146 para o setor de bebidas alcolicas\n",
      "Enviar BEB48898 para o setor de bebidas alcolicas\n",
      "Enviar BEB79496 para o setor de bebidas alcolicas\n",
      "Enviar BEB15385 para o setor de bebidas alcolicas\n",
      "Enviar BEB24213 para o setor de bebidas alcolicas\n",
      "Enviar BEB56262 para o setor de bebidas alcolicas\n",
      "Enviar BEB75073 para o setor de bebidas alcolicas\n"
     ]
    }
   ],
   "source": [
    "for produto in produtos:\n",
    "    if ehalcolico(produto): \n",
    "        produto_final = produto.upper()\n",
    "        print('Enviar {} para o setor de bebidas alcolicas'.format(produto_final))"
   ]
  }
 ],
 "metadata": {
  "kernelspec": {
   "display_name": "Python 3 (ipykernel)",
   "language": "python",
   "name": "python3"
  },
  "language_info": {
   "codemirror_mode": {
    "name": "ipython",
    "version": 3
   },
   "file_extension": ".py",
   "mimetype": "text/x-python",
   "name": "python",
   "nbconvert_exporter": "python",
   "pygments_lexer": "ipython3",
   "version": "3.9.13"
  }
 },
 "nbformat": 4,
 "nbformat_minor": 5
}
