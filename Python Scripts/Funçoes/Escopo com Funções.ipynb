{
 "cells": [
  {
   "cell_type": "markdown",
   "id": "675ece48",
   "metadata": {},
   "source": [
    "## Escopo de variáveis - Local e Global"
   ]
  },
  {
   "cell_type": "code",
   "execution_count": 12,
   "id": "1419a729",
   "metadata": {},
   "outputs": [],
   "source": [
    "#Variável Global\n",
    "var_global = 10\n",
    "\n",
    "#Function\n",
    "def multiplica_numeros(num1, num2):\n",
    "    var_global = num1 * num2  #variavel local\n",
    "    print(var_global)"
   ]
  },
  {
   "cell_type": "code",
   "execution_count": 13,
   "id": "412eb271",
   "metadata": {},
   "outputs": [
    {
     "name": "stdout",
     "output_type": "stream",
     "text": [
      "40\n"
     ]
    }
   ],
   "source": [
    "multiplica_numeros(4,10)"
   ]
  },
  {
   "cell_type": "code",
   "execution_count": 9,
   "id": "b63516c3",
   "metadata": {},
   "outputs": [
    {
     "name": "stdout",
     "output_type": "stream",
     "text": [
      "10\n"
     ]
    }
   ],
   "source": [
    "print(var_global)"
   ]
  },
  {
   "cell_type": "code",
   "execution_count": 14,
   "id": "b2a58531",
   "metadata": {},
   "outputs": [],
   "source": [
    "#Variável Global\n",
    "var_global = 10\n",
    "\n",
    "#Function\n",
    "def multiplica_numeros(num1, num2):\n",
    "    var_local = num1 * num2  #variavel local\n",
    "    print(var_local)"
   ]
  },
  {
   "cell_type": "code",
   "execution_count": 15,
   "id": "8e833303",
   "metadata": {},
   "outputs": [
    {
     "name": "stdout",
     "output_type": "stream",
     "text": [
      "10\n"
     ]
    }
   ],
   "source": [
    "print(var_global)"
   ]
  },
  {
   "cell_type": "code",
   "execution_count": 17,
   "id": "21294e68",
   "metadata": {},
   "outputs": [
    {
     "ename": "NameError",
     "evalue": "name 'var_local' is not defined",
     "output_type": "error",
     "traceback": [
      "\u001b[1;31m---------------------------------------------------------------------------\u001b[0m",
      "\u001b[1;31mNameError\u001b[0m                                 Traceback (most recent call last)",
      "\u001b[1;32m~\\AppData\\Local\\Temp\\ipykernel_11556\\1083341603.py\u001b[0m in \u001b[0;36m<module>\u001b[1;34m\u001b[0m\n\u001b[0;32m      1\u001b[0m \u001b[1;31m#Não está definida porque o escopo é local e quando chama fora da funcção dá o erro\u001b[0m\u001b[1;33m\u001b[0m\u001b[1;33m\u001b[0m\u001b[0m\n\u001b[1;32m----> 2\u001b[1;33m \u001b[0mprint\u001b[0m\u001b[1;33m(\u001b[0m\u001b[0mvar_local\u001b[0m\u001b[1;33m)\u001b[0m\u001b[1;33m\u001b[0m\u001b[1;33m\u001b[0m\u001b[0m\n\u001b[0m",
      "\u001b[1;31mNameError\u001b[0m: name 'var_local' is not defined"
     ]
    }
   ],
   "source": [
    "#Não está definida porque o escopo é local e quando chama fora da funcção dá o erro\n",
    "print(var_local)\n"
   ]
  },
  {
   "cell_type": "markdown",
   "id": "f2f56cb6",
   "metadata": {},
   "source": [
    "### Não use o mesmo nome da variavel global na variavel local"
   ]
  },
  {
   "cell_type": "code",
   "execution_count": null,
   "id": "ec7db55f",
   "metadata": {},
   "outputs": [],
   "source": []
  }
 ],
 "metadata": {
  "kernelspec": {
   "display_name": "Python 3 (ipykernel)",
   "language": "python",
   "name": "python3"
  },
  "language_info": {
   "codemirror_mode": {
    "name": "ipython",
    "version": 3
   },
   "file_extension": ".py",
   "mimetype": "text/x-python",
   "name": "python",
   "nbconvert_exporter": "python",
   "pygments_lexer": "ipython3",
   "version": "3.9.13"
  }
 },
 "nbformat": 4,
 "nbformat_minor": 5
}
