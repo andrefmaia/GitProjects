{
 "cells": [
  {
   "cell_type": "markdown",
   "id": "3761a1ec",
   "metadata": {},
   "source": [
    "https://pypi.org"
   ]
  },
  {
   "cell_type": "code",
   "execution_count": 1,
   "id": "74f8bcb9",
   "metadata": {},
   "outputs": [],
   "source": [
    "import math\n",
    "\n",
    "#verificando se um numero é primo\n",
    "def numPrimo(num):\n",
    "    if (num % 2) == 0 and num > 2:\n",
    "        return 'Este numero não é primo!'\n",
    "    for i in range(2, int(math.sqrt(num)) + 1,2):\n",
    "        if (num % i) == 0:\n",
    "            return 'Este numero não é primo'\n",
    "    return 'Este número é primo'"
   ]
  },
  {
   "cell_type": "code",
   "execution_count": 2,
   "id": "79d981db",
   "metadata": {},
   "outputs": [
    {
     "data": {
      "text/plain": [
       "'Este número é primo'"
      ]
     },
     "execution_count": 2,
     "metadata": {},
     "output_type": "execute_result"
    }
   ],
   "source": [
    "numPrimo(541)"
   ]
  },
  {
   "cell_type": "markdown",
   "id": "847abfe9",
   "metadata": {},
   "source": [
    "numPrimo(2"
   ]
  },
  {
   "cell_type": "code",
   "execution_count": 3,
   "id": "4d9829d6",
   "metadata": {},
   "outputs": [
    {
     "data": {
      "text/plain": [
       "'Este numero não é primo!'"
      ]
     },
     "execution_count": 3,
     "metadata": {},
     "output_type": "execute_result"
    }
   ],
   "source": [
    "numPrimo(22)"
   ]
  },
  {
   "cell_type": "code",
   "execution_count": 7,
   "id": "727c0d04",
   "metadata": {},
   "outputs": [],
   "source": [
    "caixa_baixa = 'Este Texto deVeria Estar todO em LowerCASE'"
   ]
  },
  {
   "cell_type": "code",
   "execution_count": 8,
   "id": "6af73f1d",
   "metadata": {},
   "outputs": [],
   "source": [
    "def lowercase(caixa_baixa):\n",
    "    return caixa_baixa.lower()"
   ]
  },
  {
   "cell_type": "code",
   "execution_count": 10,
   "id": "62f8ca6a",
   "metadata": {},
   "outputs": [
    {
     "name": "stdout",
     "output_type": "stream",
     "text": [
      "este texto deveria estar todo em lowercase\n"
     ]
    }
   ],
   "source": [
    "print (caixa_baixa.lower()) "
   ]
  },
  {
   "cell_type": "code",
   "execution_count": null,
   "id": "5acf7653",
   "metadata": {},
   "outputs": [],
   "source": []
  },
  {
   "cell_type": "code",
   "execution_count": null,
   "id": "e191ac1b",
   "metadata": {},
   "outputs": [],
   "source": []
  }
 ],
 "metadata": {
  "kernelspec": {
   "display_name": "Python 3 (ipykernel)",
   "language": "python",
   "name": "python3"
  },
  "language_info": {
   "codemirror_mode": {
    "name": "ipython",
    "version": 3
   },
   "file_extension": ".py",
   "mimetype": "text/x-python",
   "name": "python",
   "nbconvert_exporter": "python",
   "pygments_lexer": "ipython3",
   "version": "3.9.13"
  }
 },
 "nbformat": 4,
 "nbformat_minor": 5
}
