{
 "cells": [
  {
   "cell_type": "markdown",
   "id": "7a47f1be",
   "metadata": {},
   "source": [
    "# Funçoes"
   ]
  },
  {
   "cell_type": "markdown",
   "id": "2abf099c",
   "metadata": {},
   "source": [
    "## O que é?\n",
    "As Functions são blocos de código que servem 1 único propósito, fazem uma ação específica\n",
    "\n",
    "## Estrutura Básica\n"
   ]
  },
  {
   "cell_type": "code",
   "execution_count": null,
   "id": "2d17c68e",
   "metadata": {},
   "outputs": [],
   "source": [
    "#def nome_funcao():\n",
    "    faça alguma coisa\n",
    "    faça outra coisa\n",
    "    return valor_final"
   ]
  },
  {
   "cell_type": "code",
   "execution_count": 2,
   "id": "eef0781b",
   "metadata": {},
   "outputs": [
    {
     "name": "stdout",
     "output_type": "stream",
     "text": [
      "Oi\n"
     ]
    }
   ],
   "source": [
    "#Função Built-in (função interna da linguagem)\n",
    "print('Oi')"
   ]
  },
  {
   "cell_type": "code",
   "execution_count": 3,
   "id": "f57efb52",
   "metadata": {},
   "outputs": [],
   "source": [
    "#Definindo uma função em PY\n",
    "def primeiraFunc():\n",
    "    print('Olha Funciona!')"
   ]
  },
  {
   "cell_type": "code",
   "execution_count": 6,
   "id": "73a3035d",
   "metadata": {},
   "outputs": [
    {
     "name": "stdout",
     "output_type": "stream",
     "text": [
      "Olha Funciona!\n"
     ]
    }
   ],
   "source": [
    "#Chamando a function()\n",
    "primeiraFunc()"
   ]
  },
  {
   "cell_type": "code",
   "execution_count": 11,
   "id": "9da0c374",
   "metadata": {},
   "outputs": [],
   "source": [
    "def primeiraFunc():\n",
    "    nome = 'Bob'\n",
    "    print ('Hello %s' %(nome))"
   ]
  },
  {
   "cell_type": "code",
   "execution_count": 12,
   "id": "39943845",
   "metadata": {},
   "outputs": [
    {
     "name": "stdout",
     "output_type": "stream",
     "text": [
      "Hello Bob\n"
     ]
    }
   ],
   "source": [
    "primeiraFunc()"
   ]
  },
  {
   "cell_type": "code",
   "execution_count": 13,
   "id": "46dbf2e6",
   "metadata": {},
   "outputs": [],
   "source": [
    "def segundaFunc(nome):\n",
    "    print('Hello %s' %(nome))"
   ]
  },
  {
   "cell_type": "code",
   "execution_count": 17,
   "id": "ec5f7977",
   "metadata": {},
   "outputs": [
    {
     "name": "stdout",
     "output_type": "stream",
     "text": [
      "Hello André\n"
     ]
    }
   ],
   "source": [
    "#quando chamar a função (argumento) tem que passar a variável\n",
    "segundaFunc('André')"
   ]
  },
  {
   "cell_type": "code",
   "execution_count": 24,
   "id": "f64c3531",
   "metadata": {},
   "outputs": [],
   "source": [
    "#Função para imprimir números\n",
    "def imprimirNumeros(num):\n",
    "    \n",
    "    #Loop\n",
    "    for i in range(1, num+1):\n",
    "        print(\"Número \"+ str(i))"
   ]
  },
  {
   "cell_type": "code",
   "execution_count": 27,
   "id": "3e7689b8",
   "metadata": {},
   "outputs": [
    {
     "name": "stdout",
     "output_type": "stream",
     "text": [
      "Número 1\n",
      "Número 2\n",
      "Número 3\n",
      "Número 4\n",
      "Número 5\n"
     ]
    }
   ],
   "source": [
    "imprimirNumeros(5)"
   ]
  },
  {
   "cell_type": "code",
   "execution_count": 36,
   "id": "9377313d",
   "metadata": {},
   "outputs": [],
   "source": [
    "#Função que recebe 2 parametros e soma os dois\n",
    "def addNum(firstnum, secnum):\n",
    "    print( \"Primeira Nota: \"+str(firstnum))\n",
    "    print( \"Segunda Nota: \"+str(secnum))\n",
    "    print('Soma: ', firstnum + secnum)"
   ]
  },
  {
   "cell_type": "code",
   "execution_count": 37,
   "id": "356538f2",
   "metadata": {},
   "outputs": [
    {
     "name": "stdout",
     "output_type": "stream",
     "text": [
      "Primeira Nota: 10\n",
      "Segunda Nota: 40\n",
      "Soma:  50\n"
     ]
    }
   ],
   "source": [
    "addNum(10, 40)"
   ]
  },
  {
   "cell_type": "code",
   "execution_count": 48,
   "id": "13e6dee6",
   "metadata": {},
   "outputs": [],
   "source": [
    "#Função que recebe 2 parametros e soma os dois\n",
    "def addMedia(firstnum, secnum):\n",
    "    print( \"Primeira Nota: \"+str(firstnum))\n",
    "    print( \"Segunda Nota: \"+str(secnum))\n",
    "    media = (firstnum + secnum)/2\n",
    "    if media >= 7:\n",
    "        print('A média do aluno: ', media)\n",
    "        print('Você foi aprovado!!!')\n",
    "    else:\n",
    "        print('A média do aluno: ' , media)\n",
    "        print('Lamento você está de recuperação!!!')\n",
    "        "
   ]
  },
  {
   "cell_type": "code",
   "execution_count": 50,
   "id": "37ed963d",
   "metadata": {},
   "outputs": [
    {
     "name": "stdout",
     "output_type": "stream",
     "text": [
      "Primeira Nota: 8\n",
      "Segunda Nota: 1\n",
      "A média do aluno:  4.5\n",
      "Lamento você está de recuperação!!!\n"
     ]
    }
   ],
   "source": [
    "addMedia(8, 1)"
   ]
  },
  {
   "cell_type": "code",
   "execution_count": 52,
   "id": "5ddd013e",
   "metadata": {},
   "outputs": [],
   "source": [
    "#Funções com número váriavel de argumentos\n",
    "def printValor( arg1, *vartuple):\n",
    "    #primindo o valor do primeiro argumento\n",
    "    print('O parametro passado foi', arg1)\n",
    "    \n",
    "    #imprimindo o valor do segundo argumento\n",
    "    for item in vartuple:\n",
    "        print('O parametro passado foi: ', item)\n",
    "    return;"
   ]
  },
  {
   "cell_type": "code",
   "execution_count": 54,
   "id": "be15efcd",
   "metadata": {},
   "outputs": [
    {
     "name": "stdout",
     "output_type": "stream",
     "text": [
      "O parametro passado foi 10\n"
     ]
    }
   ],
   "source": [
    "printValor( 10)"
   ]
  },
  {
   "cell_type": "code",
   "execution_count": 56,
   "id": "5a38ee44",
   "metadata": {},
   "outputs": [
    {
     "name": "stdout",
     "output_type": "stream",
     "text": [
      "O parametro passado foi Chocolate\n",
      "O segundo argumento:  Morango\n",
      "O segundo argumento:  Pessego\n"
     ]
    }
   ],
   "source": [
    "printValor( 'Chocolate','Morango','Pessego')"
   ]
  },
  {
   "cell_type": "markdown",
   "id": "ce471f6a",
   "metadata": {},
   "source": [
    "- Function cadastro de produto. Essa função deve garantai que o produto está em letra minúscula"
   ]
  },
  {
   "cell_type": "code",
   "execution_count": 2,
   "id": "06510222",
   "metadata": {},
   "outputs": [],
   "source": [
    "#função tem nomes no infinitivo\n",
    "def cadastrar_produto():\n",
    "    produto = input('Digite o nome do produto que deseja cadastrar')\n",
    "    produto = produto.casefold() #transforma \n",
    "    print('Produto {} cadastrado com sucesso!'.format(produto))\n",
    "    "
   ]
  },
  {
   "cell_type": "code",
   "execution_count": 3,
   "id": "4158bc0e",
   "metadata": {},
   "outputs": [
    {
     "name": "stdout",
     "output_type": "stream",
     "text": [
      "Digite o nome do produto que deseja cadastrarTECLADO NOTEBOOK DELL\n",
      "Produto teclado notebook dell cadastrado com sucesso!\n"
     ]
    }
   ],
   "source": [
    "cadastrar_produto()"
   ]
  },
  {
   "cell_type": "code",
   "execution_count": 4,
   "id": "af854a4f",
   "metadata": {},
   "outputs": [
    {
     "name": "stdout",
     "output_type": "stream",
     "text": [
      "Digite o nome do produto que deseja cadastrarFEIJÃO\n",
      "Produto feijão cadastrado com sucesso!\n",
      "Digite o nome do produto que deseja cadastrarARROZ\n",
      "Produto arroz cadastrado com sucesso!\n",
      "Digite o nome do produto que deseja cadastrarMACARRÃO\n",
      "Produto macarrão cadastrado com sucesso!\n"
     ]
    }
   ],
   "source": [
    "for i in range(3):\n",
    "    cadastrar_produto()"
   ]
  }
 ],
 "metadata": {
  "kernelspec": {
   "display_name": "Python 3 (ipykernel)",
   "language": "python",
   "name": "python3"
  },
  "language_info": {
   "codemirror_mode": {
    "name": "ipython",
    "version": 3
   },
   "file_extension": ".py",
   "mimetype": "text/x-python",
   "name": "python",
   "nbconvert_exporter": "python",
   "pygments_lexer": "ipython3",
   "version": "3.9.13"
  }
 },
 "nbformat": 4,
 "nbformat_minor": 5
}
