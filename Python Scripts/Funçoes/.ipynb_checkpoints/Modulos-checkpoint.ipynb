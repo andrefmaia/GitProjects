{
 "cells": [
  {
   "cell_type": "markdown",
   "id": "5aeb8080",
   "metadata": {},
   "source": [
    "# O que sao Modulos e qual importancia deles?\n",
    "\n",
    "- Importancia\n",
    "-- Já tem muita coisa pronta, então você não precisa criar do zero\n",
    "-- Se você souber usar Módulos e como usar um modulo novo, você vai conseguir fazer praticamente tudo no Python\n",
    "\n",
    "## Estrutura Básica"
   ]
  },
  {
   "cell_type": "code",
   "execution_count": null,
   "id": "def65ea0",
   "metadata": {},
   "outputs": [],
   "source": [
    "import modulo\n",
    "\n",
    "ou \n",
    "\n",
    "import módulo as nome"
   ]
  },
  {
   "cell_type": "code",
   "execution_count": 2,
   "id": "cb9b7c62",
   "metadata": {},
   "outputs": [
    {
     "data": {
      "text/plain": [
       "True"
      ]
     },
     "execution_count": 2,
     "metadata": {},
     "output_type": "execute_result"
    }
   ],
   "source": [
    "import webbrowser as nerdbit\n",
    "\n",
    "nerdbit.open(\"https://nerdbit.com.br/services/\")"
   ]
  },
  {
   "cell_type": "markdown",
   "id": "ad4453ff",
   "metadata": {},
   "source": [
    "## Variações"
   ]
  }
 ],
 "metadata": {
  "kernelspec": {
   "display_name": "Python 3 (ipykernel)",
   "language": "python",
   "name": "python3"
  },
  "language_info": {
   "codemirror_mode": {
    "name": "ipython",
    "version": 3
   },
   "file_extension": ".py",
   "mimetype": "text/x-python",
   "name": "python",
   "nbconvert_exporter": "python",
   "pygments_lexer": "ipython3",
   "version": "3.9.13"
  }
 },
 "nbformat": 4,
 "nbformat_minor": 5
}
