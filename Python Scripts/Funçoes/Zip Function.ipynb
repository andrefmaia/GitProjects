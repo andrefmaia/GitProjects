{
 "cells": [
  {
   "cell_type": "markdown",
   "id": "c63c9865",
   "metadata": {},
   "source": [
    "# Function ZIP\n",
    "\n",
    "A função zip() é usada para combinar duas ou mais sequências (como listas, tuplas, etc.) em pares de elementos correspondentes. Ela retorna um iterador de tuplas, onde a primeira tupla contém os primeiros elementos de cada sequência, a segunda tupla contém os segundos elementos de cada sequência, e assim por diante. Se as sequências tiverem tamanhos diferentes, o iterador será truncado para o comprimento da sequência mais curta.\n",
    "\n",
    "### Duas listas de exemplo\n",
    "lista1 = [1, 2, 3]\n",
    "lista2 = ['a', 'b', 'c']\n",
    "\n",
    "### Usando zip para combinar as listas\n",
    "combinado = zip(lista1, lista2)\n",
    "\n",
    "### Convertendo o resultado para uma lista de tuplas\n",
    "resultado = list(combinado)\n",
    "\n",
    "print(resultado)\n",
    "[(1, 'a'), (2, 'b'), (3, 'c')]"
   ]
  },
  {
   "cell_type": "code",
   "execution_count": 1,
   "id": "b569ae7c",
   "metadata": {},
   "outputs": [],
   "source": [
    "x = [1,2,3]\n",
    "y = [4,5,6]"
   ]
  },
  {
   "cell_type": "code",
   "execution_count": 2,
   "id": "21db89a5",
   "metadata": {},
   "outputs": [
    {
     "data": {
      "text/plain": [
       "<zip at 0x23b6489c3c0>"
      ]
     },
     "execution_count": 2,
     "metadata": {},
     "output_type": "execute_result"
    }
   ],
   "source": [
    "#Unindo as listas. retorna um iterator\n",
    "zip(x,y)"
   ]
  },
  {
   "cell_type": "code",
   "execution_count": 3,
   "id": "f9361060",
   "metadata": {},
   "outputs": [
    {
     "data": {
      "text/plain": [
       "[(1, 4), (2, 5), (3, 6)]"
      ]
     },
     "execution_count": 3,
     "metadata": {},
     "output_type": "execute_result"
    }
   ],
   "source": [
    "#ZIP retorna tuplas. Neste caso, uma lista de tuplas\n",
    "list(zip(x,y))"
   ]
  },
  {
   "cell_type": "code",
   "execution_count": 5,
   "id": "c9279f9c",
   "metadata": {},
   "outputs": [
    {
     "data": {
      "text/plain": [
       "[('A', 'X'), ('B', 'Y')]"
      ]
     },
     "execution_count": 5,
     "metadata": {},
     "output_type": "execute_result"
    }
   ],
   "source": [
    "#Atenção ao criar as sequencias tiverem numeros diferentes de elementos\n",
    "list(zip('ABCD','XY'))"
   ]
  },
  {
   "cell_type": "code",
   "execution_count": 6,
   "id": "2430e40d",
   "metadata": {},
   "outputs": [],
   "source": [
    "#criando duas listas\n",
    "a = [1,2,3]\n",
    "b = [4,5,6,7,8]"
   ]
  },
  {
   "cell_type": "code",
   "execution_count": 9,
   "id": "a1713d99",
   "metadata": {},
   "outputs": [
    {
     "data": {
      "text/plain": [
       "[(1, 4), (2, 5), (3, 6)]"
      ]
     },
     "execution_count": 9,
     "metadata": {},
     "output_type": "execute_result"
    }
   ],
   "source": [
    "#So faz o zip com elementos da primeira lista - a lista a precisa ser exatamente a mesma quantidade da lista b\n",
    "list(zip(a,b))"
   ]
  },
  {
   "cell_type": "code",
   "execution_count": 10,
   "id": "25625a68",
   "metadata": {},
   "outputs": [],
   "source": [
    "#Criando 2 dicionários\n",
    "d1 = {'a': 1, 'b': 2}\n",
    "d2 = {'c': 4, 'd': 5}"
   ]
  },
  {
   "cell_type": "code",
   "execution_count": 11,
   "id": "a30cc2c3",
   "metadata": {},
   "outputs": [
    {
     "data": {
      "text/plain": [
       "[('a', 'c'), ('b', 'd')]"
      ]
     },
     "execution_count": 11,
     "metadata": {},
     "output_type": "execute_result"
    }
   ],
   "source": [
    "#combina as chaves dos dois dicionarios\n",
    "list(zip(d1,d2))"
   ]
  },
  {
   "cell_type": "code",
   "execution_count": 14,
   "id": "38b9e7c2",
   "metadata": {},
   "outputs": [
    {
     "data": {
      "text/plain": [
       "[(1, 4), (2, 5)]"
      ]
     },
     "execution_count": 14,
     "metadata": {},
     "output_type": "execute_result"
    }
   ],
   "source": [
    "# para unir os valores (itens) use o ZIP desta forma\n",
    "list(zip(d1.values(), d2.values()))"
   ]
  },
  {
   "cell_type": "code",
   "execution_count": 18,
   "id": "3e89b296",
   "metadata": {},
   "outputs": [],
   "source": [
    "#Criando uma funcao para trocar valores entre 2 dicionários\n",
    "def trocaValores(d1,d2):\n",
    "    \n",
    "    dicTemp = {}\n",
    "    \n",
    "    for d1key, d2val in zip(d1, d2.values()):\n",
    "        dicTemp[d1key] = d2val\n",
    "        \n",
    "    return dicTemp"
   ]
  },
  {
   "cell_type": "code",
   "execution_count": 19,
   "id": "758d5156",
   "metadata": {},
   "outputs": [
    {
     "data": {
      "text/plain": [
       "{'a': 4, 'b': 5}"
      ]
     },
     "execution_count": 19,
     "metadata": {},
     "output_type": "execute_result"
    }
   ],
   "source": [
    "trocaValores(d1,d2)"
   ]
  },
  {
   "cell_type": "code",
   "execution_count": null,
   "id": "71e39b0d",
   "metadata": {},
   "outputs": [],
   "source": []
  }
 ],
 "metadata": {
  "kernelspec": {
   "display_name": "Python 3 (ipykernel)",
   "language": "python",
   "name": "python3"
  },
  "language_info": {
   "codemirror_mode": {
    "name": "ipython",
    "version": 3
   },
   "file_extension": ".py",
   "mimetype": "text/x-python",
   "name": "python",
   "nbconvert_exporter": "python",
   "pygments_lexer": "ipython3",
   "version": "3.9.13"
  }
 },
 "nbformat": 4,
 "nbformat_minor": 5
}
