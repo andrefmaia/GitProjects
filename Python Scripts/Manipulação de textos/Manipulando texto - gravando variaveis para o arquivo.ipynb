{
 "cells": [
  {
   "cell_type": "code",
   "execution_count": 12,
   "id": "feef1cb9",
   "metadata": {},
   "outputs": [],
   "source": [
    "texto = 'Cientista de Dados pode ser uma excelente alternativa de carreira.\\n'\n",
    "texto = texto + 'Esses profissionais precisam saber como programar em Python.\\n'\n",
    "texto += 'É, claro, devem ser proficientes em Data Science.'"
   ]
  },
  {
   "cell_type": "code",
   "execution_count": 3,
   "id": "a2659315",
   "metadata": {},
   "outputs": [
    {
     "name": "stdout",
     "output_type": "stream",
     "text": [
      "Cientista de Dados pode ser uma excelente alternativa de carreira.\n",
      "Esses profissionais precisam saber como programar em Python.\n",
      "É, claro, devem ser proficientes em Data Science.\n"
     ]
    }
   ],
   "source": [
    "print(texto)"
   ]
  },
  {
   "cell_type": "code",
   "execution_count": 3,
   "id": "2579023f",
   "metadata": {},
   "outputs": [],
   "source": [
    "#importando o módulo OS - Operation System\n",
    "import os"
   ]
  },
  {
   "cell_type": "code",
   "execution_count": 10,
   "id": "1fb69fb8",
   "metadata": {},
   "outputs": [],
   "source": [
    "#criando o arquivo para gravação\n",
    "arquivo = open(os.path.join('arquivos/cientista.txt','w')"
   ]
  },
  {
   "cell_type": "code",
   "execution_count": 11,
   "id": "0a5ef146",
   "metadata": {},
   "outputs": [],
   "source": [
    "for palavra in texto.split():\n",
    "    arquivo.write(palavra + ' ')"
   ]
  },
  {
   "cell_type": "code",
   "execution_count": 12,
   "id": "5c38334c",
   "metadata": {},
   "outputs": [],
   "source": [
    "arquivo.close()"
   ]
  },
  {
   "cell_type": "code",
   "execution_count": 5,
   "id": "2eeed84a",
   "metadata": {},
   "outputs": [
    {
     "name": "stdout",
     "output_type": "stream",
     "text": [
      "Cientista de Dados \n",
      "uma excelente alternativa de carreira.\n"
     ]
    }
   ],
   "source": [
    "#lendo o arquivo\n",
    "arquivo = open('arquivos/cientista.txt','r')\n",
    "conteudo = arquivo.read()\n",
    "arquivo.close()\n",
    "\n",
    "print(conteudo)"
   ]
  },
  {
   "cell_type": "markdown",
   "id": "3186eb97",
   "metadata": {},
   "source": [
    "# Usando a Expressão with\n",
    "o metodo close() é executado automaticamente"
   ]
  },
  {
   "cell_type": "code",
   "execution_count": 7,
   "id": "c7a98950",
   "metadata": {},
   "outputs": [],
   "source": [
    "with open('arquivos/cientista.txt', 'r') as arquivo:\n",
    "    conteudo = arquivo.read()"
   ]
  },
  {
   "cell_type": "code",
   "execution_count": 8,
   "id": "e881462d",
   "metadata": {},
   "outputs": [
    {
     "name": "stdout",
     "output_type": "stream",
     "text": [
      "58\n"
     ]
    }
   ],
   "source": [
    "print (len(conteudo))"
   ]
  },
  {
   "cell_type": "code",
   "execution_count": 9,
   "id": "db9693a6",
   "metadata": {},
   "outputs": [
    {
     "name": "stdout",
     "output_type": "stream",
     "text": [
      "Cientista de Dados \n",
      "uma excelente alternativa de carreira.\n"
     ]
    }
   ],
   "source": [
    "print(conteudo)"
   ]
  },
  {
   "cell_type": "code",
   "execution_count": 13,
   "id": "7945c31a",
   "metadata": {},
   "outputs": [],
   "source": [
    "#usar a expressao with no modo escrita\n",
    "with open('arquivos/cientista.txt', 'w') as arquivo:\n",
    "    arquivo.write(texto[:19])\n",
    "    arquivo.write('\\n')\n",
    "    arquivo.write(texto[28:66])"
   ]
  },
  {
   "cell_type": "code",
   "execution_count": 14,
   "id": "2b52bc6c",
   "metadata": {},
   "outputs": [
    {
     "name": "stdout",
     "output_type": "stream",
     "text": [
      "Cientista de Dados \n",
      "uma excelente alternativa de carreira.\n"
     ]
    }
   ],
   "source": [
    "#Lendo o arquivo\n",
    "arquivo = open('arquivos/cientista.txt', 'r')\n",
    "conteudo = arquivo.read()\n",
    "arquivo.close()\n",
    "print (conteudo)"
   ]
  }
 ],
 "metadata": {
  "kernelspec": {
   "display_name": "Python 3 (ipykernel)",
   "language": "python",
   "name": "python3"
  },
  "language_info": {
   "codemirror_mode": {
    "name": "ipython",
    "version": 3
   },
   "file_extension": ".py",
   "mimetype": "text/x-python",
   "name": "python",
   "nbconvert_exporter": "python",
   "pygments_lexer": "ipython3",
   "version": "3.9.13"
  }
 },
 "nbformat": 4,
 "nbformat_minor": 5
}
