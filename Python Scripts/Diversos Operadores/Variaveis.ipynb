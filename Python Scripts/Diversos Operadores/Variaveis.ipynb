{
 "cells": [
  {
   "cell_type": "markdown",
   "id": "ffa1e9c9",
   "metadata": {},
   "source": [
    "# Trabalhando com variáveis"
   ]
  },
  {
   "cell_type": "code",
   "execution_count": 1,
   "id": "b5ddb649",
   "metadata": {},
   "outputs": [],
   "source": [
    "var_teste = 1"
   ]
  },
  {
   "cell_type": "code",
   "execution_count": 2,
   "id": "202fe3fb",
   "metadata": {},
   "outputs": [
    {
     "name": "stdout",
     "output_type": "stream",
     "text": [
      "1\n"
     ]
    }
   ],
   "source": [
    "print(var_teste)"
   ]
  },
  {
   "cell_type": "code",
   "execution_count": 3,
   "id": "62387358",
   "metadata": {},
   "outputs": [
    {
     "data": {
      "text/plain": [
       "1"
      ]
     },
     "execution_count": 3,
     "metadata": {},
     "output_type": "execute_result"
    }
   ],
   "source": [
    "var_teste"
   ]
  },
  {
   "cell_type": "markdown",
   "id": "00d69ffb",
   "metadata": {},
   "source": [
    " # DECLARAÇÃO MULTIPLA"
   ]
  },
  {
   "cell_type": "code",
   "execution_count": 4,
   "id": "3a15f7df",
   "metadata": {},
   "outputs": [],
   "source": [
    "nome1, nome2, nome3 = \"Bob\", \"Maria\", \"André\""
   ]
  },
  {
   "cell_type": "code",
   "execution_count": 5,
   "id": "43af9170",
   "metadata": {},
   "outputs": [
    {
     "data": {
      "text/plain": [
       "'Bob'"
      ]
     },
     "execution_count": 5,
     "metadata": {},
     "output_type": "execute_result"
    }
   ],
   "source": [
    "nome1"
   ]
  },
  {
   "cell_type": "code",
   "execution_count": 6,
   "id": "5af2240d",
   "metadata": {},
   "outputs": [
    {
     "data": {
      "text/plain": [
       "'André'"
      ]
     },
     "execution_count": 6,
     "metadata": {},
     "output_type": "execute_result"
    }
   ],
   "source": [
    "nome3"
   ]
  },
  {
   "cell_type": "markdown",
   "id": "82f8d30b",
   "metadata": {},
   "source": [
    "### VARIAVEIS ATRIBUIDAS A OUTRAS VARIAVEIS E ORDEM DOS OPERADORES"
   ]
  },
  {
   "cell_type": "code",
   "execution_count": 8,
   "id": "099fb867",
   "metadata": {},
   "outputs": [],
   "source": [
    "largura = 2"
   ]
  },
  {
   "cell_type": "code",
   "execution_count": 9,
   "id": "19167b75",
   "metadata": {},
   "outputs": [],
   "source": [
    "altura = 4"
   ]
  },
  {
   "cell_type": "code",
   "execution_count": 10,
   "id": "00782d76",
   "metadata": {},
   "outputs": [],
   "source": [
    "area = largura * altura"
   ]
  },
  {
   "cell_type": "code",
   "execution_count": 11,
   "id": "51204b14",
   "metadata": {},
   "outputs": [
    {
     "data": {
      "text/plain": [
       "8"
      ]
     },
     "execution_count": 11,
     "metadata": {},
     "output_type": "execute_result"
    }
   ],
   "source": [
    "area"
   ]
  },
  {
   "cell_type": "code",
   "execution_count": 14,
   "id": "0988555c",
   "metadata": {},
   "outputs": [],
   "source": [
    "perimetro = 2 * (largura + 2)*altura"
   ]
  },
  {
   "cell_type": "code",
   "execution_count": 15,
   "id": "90ce1cbf",
   "metadata": {},
   "outputs": [
    {
     "data": {
      "text/plain": [
       "32"
      ]
     },
     "execution_count": 15,
     "metadata": {},
     "output_type": "execute_result"
    }
   ],
   "source": [
    "perimetro"
   ]
  },
  {
   "cell_type": "markdown",
   "id": "c2cd2bd5",
   "metadata": {},
   "source": [
    "## Operações com  Variáveis"
   ]
  }
 ],
 "metadata": {
  "kernelspec": {
   "display_name": "Python 3 (ipykernel)",
   "language": "python",
   "name": "python3"
  },
  "language_info": {
   "codemirror_mode": {
    "name": "ipython",
    "version": 3
   },
   "file_extension": ".py",
   "mimetype": "text/x-python",
   "name": "python",
   "nbconvert_exporter": "python",
   "pygments_lexer": "ipython3",
   "version": "3.9.13"
  }
 },
 "nbformat": 4,
 "nbformat_minor": 5
}
