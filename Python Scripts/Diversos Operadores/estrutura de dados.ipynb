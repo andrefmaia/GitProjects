{
 "cells": [
  {
   "cell_type": "code",
   "execution_count": 7,
   "id": "68cb6277",
   "metadata": {},
   "outputs": [],
   "source": [
    "#Criando uma lista de Arrays\n",
    "lista = ['arroz','frango',\"tomate\",'leite']"
   ]
  },
  {
   "cell_type": "code",
   "execution_count": 8,
   "id": "b9f68e4f",
   "metadata": {},
   "outputs": [
    {
     "data": {
      "text/plain": [
       "['arroz', 'frango', 'tomate', 'leite']"
      ]
     },
     "execution_count": 8,
     "metadata": {},
     "output_type": "execute_result"
    }
   ],
   "source": [
    "lista"
   ]
  },
  {
   "cell_type": "code",
   "execution_count": 9,
   "id": "5d33e9b4",
   "metadata": {},
   "outputs": [
    {
     "data": {
      "text/plain": [
       "'arroz'"
      ]
     },
     "execution_count": 9,
     "metadata": {},
     "output_type": "execute_result"
    }
   ],
   "source": [
    "# Python atribui aos Arrays indices a partir do 0\n",
    "lista[0]"
   ]
  },
  {
   "cell_type": "code",
   "execution_count": 10,
   "id": "3d53a40c",
   "metadata": {},
   "outputs": [
    {
     "data": {
      "text/plain": [
       "'frango'"
      ]
     },
     "execution_count": 10,
     "metadata": {},
     "output_type": "execute_result"
    }
   ],
   "source": [
    "lista[1]"
   ]
  },
  {
   "cell_type": "code",
   "execution_count": 11,
   "id": "c7c08f34",
   "metadata": {},
   "outputs": [
    {
     "data": {
      "text/plain": [
       "'tomate'"
      ]
     },
     "execution_count": 11,
     "metadata": {},
     "output_type": "execute_result"
    }
   ],
   "source": [
    "lista[2]"
   ]
  },
  {
   "cell_type": "code",
   "execution_count": 12,
   "id": "624df38b",
   "metadata": {},
   "outputs": [
    {
     "data": {
      "text/plain": [
       "'leite'"
      ]
     },
     "execution_count": 12,
     "metadata": {},
     "output_type": "execute_result"
    }
   ],
   "source": [
    "lista[3]"
   ]
  },
  {
   "cell_type": "code",
   "execution_count": 13,
   "id": "a5075b3b",
   "metadata": {},
   "outputs": [
    {
     "ename": "IndexError",
     "evalue": "list index out of range",
     "output_type": "error",
     "traceback": [
      "\u001b[1;31m---------------------------------------------------------------------------\u001b[0m",
      "\u001b[1;31mIndexError\u001b[0m                                Traceback (most recent call last)",
      "\u001b[1;32m~\\AppData\\Local\\Temp\\ipykernel_3328\\586525530.py\u001b[0m in \u001b[0;36m<module>\u001b[1;34m\u001b[0m\n\u001b[1;32m----> 1\u001b[1;33m \u001b[0mlista\u001b[0m\u001b[1;33m[\u001b[0m\u001b[1;36m4\u001b[0m\u001b[1;33m]\u001b[0m\u001b[1;33m\u001b[0m\u001b[1;33m\u001b[0m\u001b[0m\n\u001b[0m",
      "\u001b[1;31mIndexError\u001b[0m: list index out of range"
     ]
    }
   ],
   "source": [
    "#Erro encontrao a partir do index 4 que não existe no meu array\n",
    "lista[4]"
   ]
  },
  {
   "cell_type": "code",
   "execution_count": 14,
   "id": "5d31e8ae",
   "metadata": {},
   "outputs": [],
   "source": [
    "#Pode criar a lista perfeitamente com valores em números misturados com strings\n",
    "lista3 = [23,100,'Cientista de Dados']"
   ]
  },
  {
   "cell_type": "code",
   "execution_count": 15,
   "id": "138db735",
   "metadata": {},
   "outputs": [
    {
     "data": {
      "text/plain": [
       "[23, 100, 'Cientista de Dados']"
      ]
     },
     "execution_count": 15,
     "metadata": {},
     "output_type": "execute_result"
    }
   ],
   "source": [
    "lista3"
   ]
  },
  {
   "cell_type": "code",
   "execution_count": 16,
   "id": "cfda521f",
   "metadata": {},
   "outputs": [
    {
     "data": {
      "text/plain": [
       "['Cientista de Dados', 100, 23]"
      ]
     },
     "execution_count": 16,
     "metadata": {},
     "output_type": "execute_result"
    }
   ],
   "source": [
    "#troca a ordem do último vetor ao primeiro, mas não o conteúdo!\n",
    "lista3[::-1]"
   ]
  },
  {
   "cell_type": "code",
   "execution_count": 17,
   "id": "8abe2b4c",
   "metadata": {},
   "outputs": [
    {
     "data": {
      "text/plain": [
       "list"
      ]
     },
     "execution_count": 17,
     "metadata": {},
     "output_type": "execute_result"
    }
   ],
   "source": [
    "type(lista3)"
   ]
  },
  {
   "cell_type": "code",
   "execution_count": 20,
   "id": "319deb29",
   "metadata": {},
   "outputs": [],
   "source": [
    "\n",
    "\n",
    "\n",
    "item1 = lista[0]\n",
    "item2 = lista[1]\n",
    "item3 = lista[2]\n",
    "item4 = lista[3]"
   ]
  },
  {
   "cell_type": "code",
   "execution_count": 21,
   "id": "e7ae1f5f",
   "metadata": {},
   "outputs": [
    {
     "name": "stdout",
     "output_type": "stream",
     "text": [
      "arroz frango tomate leite\n"
     ]
    }
   ],
   "source": [
    "print(item1, item2, item3, item4)"
   ]
  },
  {
   "cell_type": "code",
   "execution_count": 22,
   "id": "8a9348db",
   "metadata": {},
   "outputs": [],
   "source": [
    "lista[2] = 'Chocolate'"
   ]
  },
  {
   "cell_type": "code",
   "execution_count": 23,
   "id": "71483bef",
   "metadata": {},
   "outputs": [
    {
     "data": {
      "text/plain": [
       "['arroz', 'frango', 'Chocolate', 'leite']"
      ]
     },
     "execution_count": 23,
     "metadata": {},
     "output_type": "execute_result"
    }
   ],
   "source": [
    "lista"
   ]
  },
  {
   "cell_type": "markdown",
   "id": "352469ef",
   "metadata": {},
   "source": [
    "### DELETANDO UM ITEM A LISTA"
   ]
  },
  {
   "cell_type": "code",
   "execution_count": 25,
   "id": "ca5c2981",
   "metadata": {},
   "outputs": [],
   "source": [
    "del lista[3]"
   ]
  },
  {
   "cell_type": "code",
   "execution_count": 26,
   "id": "d1515936",
   "metadata": {},
   "outputs": [
    {
     "data": {
      "text/plain": [
       "['arroz', 'frango', 'Chocolate']"
      ]
     },
     "execution_count": 26,
     "metadata": {},
     "output_type": "execute_result"
    }
   ],
   "source": [
    "lista"
   ]
  },
  {
   "cell_type": "code",
   "execution_count": 27,
   "id": "3b5a8ee1",
   "metadata": {},
   "outputs": [],
   "source": [
    "del lista[1]"
   ]
  },
  {
   "cell_type": "code",
   "execution_count": 28,
   "id": "ae3587a3",
   "metadata": {},
   "outputs": [
    {
     "data": {
      "text/plain": [
       "['arroz', 'Chocolate']"
      ]
     },
     "execution_count": 28,
     "metadata": {},
     "output_type": "execute_result"
    }
   ],
   "source": [
    "lista"
   ]
  },
  {
   "cell_type": "code",
   "execution_count": null,
   "id": "9d4bd9d2",
   "metadata": {},
   "outputs": [],
   "source": []
  }
 ],
 "metadata": {
  "kernelspec": {
   "display_name": "Python 3 (ipykernel)",
   "language": "python",
   "name": "python3"
  },
  "language_info": {
   "codemirror_mode": {
    "name": "ipython",
    "version": 3
   },
   "file_extension": ".py",
   "mimetype": "text/x-python",
   "name": "python",
   "nbconvert_exporter": "python",
   "pygments_lexer": "ipython3",
   "version": "3.9.13"
  }
 },
 "nbformat": 4,
 "nbformat_minor": 5
}
