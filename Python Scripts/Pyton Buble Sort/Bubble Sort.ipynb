{
 "cells": [
  {
   "cell_type": "code",
   "execution_count": 4,
   "id": "7b11ec47",
   "metadata": {},
   "outputs": [
    {
     "name": "stdout",
     "output_type": "stream",
     "text": [
      "Lista original: [64, 34, 25, 12, 22, 11, 90, 60, 17, 28, 45, 28]\n",
      "Lista ordenada: [11, 12, 17, 22, 25, 28, 28, 34, 45, 60, 64, 90]\n"
     ]
    }
   ],
   "source": [
    "def bubble_sort(arr):\n",
    "    n = len(arr)\n",
    "\n",
    "    # Percorre todos os elementos da lista\n",
    "    for i in range(n):\n",
    "\n",
    "        # Últimos i elementos já estão ordenados, então não precisamos considerá-los\n",
    "        for j in range(0, n-i-1):\n",
    "\n",
    "            # Troca se o elemento encontrado for maior que o próximo elemento\n",
    "            if arr[j] > arr[j+1]:\n",
    "                arr[j], arr[j+1] = arr[j+1], arr[j]\n",
    "\n",
    "# Exemplo de uso\n",
    "if __name__ == \"__main__\":\n",
    "    # Lista de exemplo\n",
    "    lista = [64, 34, 25, 12, 22, 11, 90,60,17,28,45,28]\n",
    "\n",
    "    print(\"Lista original:\", lista)\n",
    "\n",
    "    # Chama a função bubble_sort para ordenar a lista\n",
    "    bubble_sort(lista)\n",
    "\n",
    "    print(\"Lista ordenada:\", lista)"
   ]
  },
  {
   "cell_type": "code",
   "execution_count": 5,
   "id": "bf5df2f9",
   "metadata": {},
   "outputs": [],
   "source": [
    "lista = [64, 34, 25, 12, 22, 11, 90,50,70,100,200,300,60,17,28,45,28]"
   ]
  },
  {
   "cell_type": "code",
   "execution_count": 6,
   "id": "98a6fc0f",
   "metadata": {},
   "outputs": [],
   "source": [
    " bubble_sort(lista)"
   ]
  },
  {
   "cell_type": "code",
   "execution_count": 7,
   "id": "bcdd7d99",
   "metadata": {},
   "outputs": [
    {
     "name": "stdout",
     "output_type": "stream",
     "text": [
      "Lista ordenada: [11, 12, 17, 22, 25, 28, 28, 34, 45, 50, 60, 64, 70, 90, 100, 200, 300]\n"
     ]
    }
   ],
   "source": [
    "print(\"Lista ordenada:\", lista)"
   ]
  },
  {
   "cell_type": "code",
   "execution_count": null,
   "id": "21009fc3",
   "metadata": {},
   "outputs": [],
   "source": []
  }
 ],
 "metadata": {
  "kernelspec": {
   "display_name": "Python 3 (ipykernel)",
   "language": "python",
   "name": "python3"
  },
  "language_info": {
   "codemirror_mode": {
    "name": "ipython",
    "version": 3
   },
   "file_extension": ".py",
   "mimetype": "text/x-python",
   "name": "python",
   "nbconvert_exporter": "python",
   "pygments_lexer": "ipython3",
   "version": "3.9.13"
  }
 },
 "nbformat": 4,
 "nbformat_minor": 5
}
