{
 "cells": [
  {
   "cell_type": "code",
   "execution_count": 2,
   "id": "dd5ec786",
   "metadata": {},
   "outputs": [],
   "source": [
    "import pandas as pd"
   ]
  },
  {
   "cell_type": "code",
   "execution_count": 3,
   "id": "655c3de4",
   "metadata": {},
   "outputs": [
    {
     "data": {
      "text/plain": [
       "'1.4.4'"
      ]
     },
     "execution_count": 3,
     "metadata": {},
     "output_type": "execute_result"
    }
   ],
   "source": [
    "pd.__version__"
   ]
  },
  {
   "cell_type": "code",
   "execution_count": 4,
   "id": "db94f635",
   "metadata": {},
   "outputs": [],
   "source": [
    "arquivo = 'arquivos/servidores_2024.csv'"
   ]
  },
  {
   "cell_type": "code",
   "execution_count": 5,
   "id": "db6e575d",
   "metadata": {},
   "outputs": [],
   "source": [
    "df = pd.read_csv(arquivo)"
   ]
  },
  {
   "cell_type": "markdown",
   "id": "e805378b",
   "metadata": {},
   "source": [
    "# Salários portal da transparência do Estado do Ceará"
   ]
  },
  {
   "cell_type": "code",
   "execution_count": 6,
   "id": "8e28e7df",
   "metadata": {},
   "outputs": [
    {
     "data": {
      "text/html": [
       "<div>\n",
       "<style scoped>\n",
       "    .dataframe tbody tr th:only-of-type {\n",
       "        vertical-align: middle;\n",
       "    }\n",
       "\n",
       "    .dataframe tbody tr th {\n",
       "        vertical-align: top;\n",
       "    }\n",
       "\n",
       "    .dataframe thead th {\n",
       "        text-align: right;\n",
       "    }\n",
       "</style>\n",
       "<table border=\"1\" class=\"dataframe\">\n",
       "  <thead>\n",
       "    <tr style=\"text-align: right;\">\n",
       "      <th></th>\n",
       "      <th>NOME</th>\n",
       "      <th>ORGAO</th>\n",
       "      <th>CARGO</th>\n",
       "      <th>SITUACAO</th>\n",
       "      <th>SALARIO BASE</th>\n",
       "      <th>DESCONTO</th>\n",
       "      <th>SALARIO BRUTO</th>\n",
       "      <th>EMPRESTIMOS</th>\n",
       "      <th>SALARIO LIQUIDO</th>\n",
       "      <th>IR</th>\n",
       "    </tr>\n",
       "  </thead>\n",
       "  <tbody>\n",
       "    <tr>\n",
       "      <th>0</th>\n",
       "      <td>ANTONIO SERGIO BELTRAO MAFRA                  ...</td>\n",
       "      <td>CGE</td>\n",
       "      <td>AUDITOR DE CONTROLE INTERNO                   ...</td>\n",
       "      <td>Ativo</td>\n",
       "      <td>2773.43</td>\n",
       "      <td>0.00</td>\n",
       "      <td>2773.43</td>\n",
       "      <td>11898.16</td>\n",
       "      <td>9124.73</td>\n",
       "      <td>0.0</td>\n",
       "    </tr>\n",
       "    <tr>\n",
       "      <th>1</th>\n",
       "      <td>CARLOS EDUARDO GUIMARAES LOPES                ...</td>\n",
       "      <td>CGE</td>\n",
       "      <td>AUDITOR DE CONTROLE INTERNO                   ...</td>\n",
       "      <td>Ativo</td>\n",
       "      <td>20301.61</td>\n",
       "      <td>0.00</td>\n",
       "      <td>20301.61</td>\n",
       "      <td>33601.65</td>\n",
       "      <td>13300.04</td>\n",
       "      <td>0.0</td>\n",
       "    </tr>\n",
       "    <tr>\n",
       "      <th>2</th>\n",
       "      <td>ANASTACIA DA SILVA SANTOS                     ...</td>\n",
       "      <td>CGE</td>\n",
       "      <td>AUDITOR DE CONTROLE INTERNO                   ...</td>\n",
       "      <td>Ativo</td>\n",
       "      <td>10786.93</td>\n",
       "      <td>0.00</td>\n",
       "      <td>10786.93</td>\n",
       "      <td>28351.18</td>\n",
       "      <td>17564.25</td>\n",
       "      <td>0.0</td>\n",
       "    </tr>\n",
       "    <tr>\n",
       "      <th>3</th>\n",
       "      <td>ANTONIO MARCONI LEMOS DA SILVA                ...</td>\n",
       "      <td>CGE</td>\n",
       "      <td>AUDITOR DE CONTROLE INTERNO                   ...</td>\n",
       "      <td>Ativo</td>\n",
       "      <td>24345.75</td>\n",
       "      <td>10654.19</td>\n",
       "      <td>13691.56</td>\n",
       "      <td>50371.88</td>\n",
       "      <td>26026.13</td>\n",
       "      <td>0.0</td>\n",
       "    </tr>\n",
       "    <tr>\n",
       "      <th>4</th>\n",
       "      <td>EMERSON CARVALHO DE LIMA                      ...</td>\n",
       "      <td>CGE</td>\n",
       "      <td>AUDITOR DE CONTROLE INTERNO                   ...</td>\n",
       "      <td>Ativo</td>\n",
       "      <td>12982.89</td>\n",
       "      <td>0.00</td>\n",
       "      <td>12982.89</td>\n",
       "      <td>35614.30</td>\n",
       "      <td>22631.41</td>\n",
       "      <td>0.0</td>\n",
       "    </tr>\n",
       "  </tbody>\n",
       "</table>\n",
       "</div>"
      ],
      "text/plain": [
       "  NOME                                                                          \\\n",
       "0  ANTONIO SERGIO BELTRAO MAFRA                  ...                             \n",
       "1  CARLOS EDUARDO GUIMARAES LOPES                ...                             \n",
       "2  ANASTACIA DA SILVA SANTOS                     ...                             \n",
       "3  ANTONIO MARCONI LEMOS DA SILVA                ...                             \n",
       "4  EMERSON CARVALHO DE LIMA                      ...                             \n",
       "\n",
       "   ORGAO                                              CARGO  \\\n",
       "0    CGE  AUDITOR DE CONTROLE INTERNO                   ...   \n",
       "1    CGE  AUDITOR DE CONTROLE INTERNO                   ...   \n",
       "2    CGE  AUDITOR DE CONTROLE INTERNO                   ...   \n",
       "3    CGE  AUDITOR DE CONTROLE INTERNO                   ...   \n",
       "4    CGE  AUDITOR DE CONTROLE INTERNO                   ...   \n",
       "\n",
       "                          SITUACAO   SALARIO BASE   DESCONTO   SALARIO BRUTO  \\\n",
       "0                            Ativo        2773.43       0.00         2773.43   \n",
       "1                            Ativo       20301.61       0.00        20301.61   \n",
       "2                            Ativo       10786.93       0.00        10786.93   \n",
       "3                            Ativo       24345.75   10654.19        13691.56   \n",
       "4                            Ativo       12982.89       0.00        12982.89   \n",
       "\n",
       "    EMPRESTIMOS   SALARIO LIQUIDO   IR     \n",
       "0      11898.16           9124.73     0.0  \n",
       "1      33601.65          13300.04     0.0  \n",
       "2      28351.18          17564.25     0.0  \n",
       "3      50371.88          26026.13     0.0  \n",
       "4      35614.30          22631.41     0.0  "
      ]
     },
     "execution_count": 6,
     "metadata": {},
     "output_type": "execute_result"
    }
   ],
   "source": [
    "df.head(5)"
   ]
  },
  {
   "cell_type": "code",
   "execution_count": null,
   "id": "7d17f272",
   "metadata": {},
   "outputs": [],
   "source": []
  }
 ],
 "metadata": {
  "kernelspec": {
   "display_name": "Python 3 (ipykernel)",
   "language": "python",
   "name": "python3"
  },
  "language_info": {
   "codemirror_mode": {
    "name": "ipython",
    "version": 3
   },
   "file_extension": ".py",
   "mimetype": "text/x-python",
   "name": "python",
   "nbconvert_exporter": "python",
   "pygments_lexer": "ipython3",
   "version": "3.9.13"
  }
 },
 "nbformat": 4,
 "nbformat_minor": 5
}
