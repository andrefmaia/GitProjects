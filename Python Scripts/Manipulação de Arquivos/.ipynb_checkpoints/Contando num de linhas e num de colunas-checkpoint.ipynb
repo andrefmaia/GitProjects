{
 "cells": [
  {
   "cell_type": "markdown",
   "id": "2b1a10b4",
   "metadata": {},
   "source": [
    "## Contando o número de linhas do arquivo salaries.csv"
   ]
  },
  {
   "cell_type": "code",
   "execution_count": 5,
   "id": "8cf76d56",
   "metadata": {},
   "outputs": [],
   "source": [
    "f = open('Arquivos/salaries.csv','r')"
   ]
  },
  {
   "cell_type": "code",
   "execution_count": 6,
   "id": "ce04c13c",
   "metadata": {},
   "outputs": [],
   "source": [
    "data = f.read()"
   ]
  },
  {
   "cell_type": "code",
   "execution_count": 7,
   "id": "17fff21d",
   "metadata": {},
   "outputs": [],
   "source": [
    "rows = data.split('\\n')"
   ]
  },
  {
   "cell_type": "code",
   "execution_count": 8,
   "id": "87bc049e",
   "metadata": {},
   "outputs": [],
   "source": [
    "full_data = []"
   ]
  },
  {
   "cell_type": "code",
   "execution_count": 9,
   "id": "c27af49c",
   "metadata": {},
   "outputs": [],
   "source": [
    "for row in rows:\n",
    "    split_row = row.split(',')\n",
    "    full_data.append(split_row)"
   ]
  },
  {
   "cell_type": "code",
   "execution_count": 10,
   "id": "7a5954f9",
   "metadata": {},
   "outputs": [],
   "source": [
    "count = 0\n",
    "for row in full_data:\n",
    "    count += 1 #Equivalente a: count +1"
   ]
  },
  {
   "cell_type": "code",
   "execution_count": 11,
   "id": "b8751fb4",
   "metadata": {},
   "outputs": [
    {
     "name": "stdout",
     "output_type": "stream",
     "text": [
      "31906\n"
     ]
    }
   ],
   "source": [
    "print(count)"
   ]
  },
  {
   "cell_type": "markdown",
   "id": "ceb13621",
   "metadata": {},
   "source": [
    "## Contando o número de colunas do arquivo salaries.csv"
   ]
  },
  {
   "cell_type": "code",
   "execution_count": 12,
   "id": "ed629030",
   "metadata": {},
   "outputs": [],
   "source": [
    "f = open('Arquivos/salaries.csv','r')\n",
    "data = f.read()\n",
    "rows = data.split('\\n')\n",
    "full_data = []"
   ]
  },
  {
   "cell_type": "code",
   "execution_count": 15,
   "id": "99ea650f",
   "metadata": {},
   "outputs": [],
   "source": [
    "for row in rows:\n",
    "    split_row = row.split(',')\n",
    "    full_data.append(split_row)\n",
    "    first_row = full_data[0]\n",
    "count = 0"
   ]
  },
  {
   "cell_type": "code",
   "execution_count": 16,
   "id": "30b0f348",
   "metadata": {},
   "outputs": [
    {
     "name": "stdout",
     "output_type": "stream",
     "text": [
      "8\n"
     ]
    }
   ],
   "source": [
    "for column in first_row:\n",
    "    count = count + 1\n",
    "    \n",
    "#outra solução possível\n",
    "#for column in full_data[0]:\n",
    "    #count = count + 1\n",
    "print(count)"
   ]
  },
  {
   "cell_type": "markdown",
   "id": "4ea12da7",
   "metadata": {},
   "source": [
    "## Gravando Arquivo pelo jupyter "
   ]
  },
  {
   "cell_type": "code",
   "execution_count": 17,
   "id": "ee34c5ef",
   "metadata": {},
   "outputs": [
    {
     "name": "stdout",
     "output_type": "stream",
     "text": [
      "Writing Arquivos/arquivo3.txt\n"
     ]
    }
   ],
   "source": [
    "%%writefile Arquivos/arquivo3.txt\n",
    "Este arquivo foi gerado pelo Jupyter Notebook.\n",
    "Podemos gerar quantas linhas quisermos e o Jupiter grava no arquivo final."
   ]
  },
  {
   "cell_type": "code",
   "execution_count": 18,
   "id": "c89b0e0e",
   "metadata": {},
   "outputs": [],
   "source": [
    "arq3 = open('Arquivos/Arquivo3.txt', 'r')"
   ]
  },
  {
   "cell_type": "code",
   "execution_count": 19,
   "id": "879eb09e",
   "metadata": {},
   "outputs": [
    {
     "data": {
      "text/plain": [
       "'Este arquivo foi gerado pelo Jupyter Notebook.\\nPodemos gerar quantas linhas quisermos e o Jupiter grava no arquivo final.\\n'"
      ]
     },
     "execution_count": 19,
     "metadata": {},
     "output_type": "execute_result"
    }
   ],
   "source": [
    "arq3.read()"
   ]
  },
  {
   "cell_type": "code",
   "execution_count": 20,
   "id": "e3e304ce",
   "metadata": {},
   "outputs": [
    {
     "data": {
      "text/plain": [
       "''"
      ]
     },
     "execution_count": 20,
     "metadata": {},
     "output_type": "execute_result"
    }
   ],
   "source": [
    "arq3.read()"
   ]
  },
  {
   "cell_type": "code",
   "execution_count": 21,
   "id": "61d38f25",
   "metadata": {},
   "outputs": [
    {
     "data": {
      "text/plain": [
       "0"
      ]
     },
     "execution_count": 21,
     "metadata": {},
     "output_type": "execute_result"
    }
   ],
   "source": [
    "arq3.seek(0)"
   ]
  },
  {
   "cell_type": "code",
   "execution_count": 22,
   "id": "e5312aec",
   "metadata": {},
   "outputs": [
    {
     "data": {
      "text/plain": [
       "['Este arquivo foi gerado pelo Jupyter Notebook.\\n',\n",
       " 'Podemos gerar quantas linhas quisermos e o Jupiter grava no arquivo final.\\n']"
      ]
     },
     "execution_count": 22,
     "metadata": {},
     "output_type": "execute_result"
    }
   ],
   "source": [
    "#Ler linha a linha\n",
    "arq3.seek(0)\n",
    "arq3.readlines()"
   ]
  },
  {
   "cell_type": "code",
   "execution_count": 23,
   "id": "d5d64237",
   "metadata": {},
   "outputs": [
    {
     "name": "stdout",
     "output_type": "stream",
     "text": [
      "Este arquivo foi gerado pelo Jupyter Notebook.\n",
      "\n",
      "Podemos gerar quantas linhas quisermos e o Jupiter grava no arquivo final.\n",
      "\n"
     ]
    }
   ],
   "source": [
    "#Podemos usar um loop for para ler o arquivo\n",
    "for line in open('Arquivos/arquivo3.txt'):\n",
    "    print(line)"
   ]
  },
  {
   "cell_type": "code",
   "execution_count": null,
   "id": "fd2f2643",
   "metadata": {},
   "outputs": [],
   "source": []
  }
 ],
 "metadata": {
  "kernelspec": {
   "display_name": "Python 3 (ipykernel)",
   "language": "python",
   "name": "python3"
  },
  "language_info": {
   "codemirror_mode": {
    "name": "ipython",
    "version": 3
   },
   "file_extension": ".py",
   "mimetype": "text/x-python",
   "name": "python",
   "nbconvert_exporter": "python",
   "pygments_lexer": "ipython3",
   "version": "3.9.13"
  }
 },
 "nbformat": 4,
 "nbformat_minor": 5
}
