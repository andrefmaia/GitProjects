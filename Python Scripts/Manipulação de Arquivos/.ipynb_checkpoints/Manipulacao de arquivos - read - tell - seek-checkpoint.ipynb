{
 "cells": [
  {
   "cell_type": "code",
   "execution_count": 2,
   "id": "b63fd373",
   "metadata": {},
   "outputs": [
    {
     "name": "stdout",
     "output_type": "stream",
     "text": [
      "Versao jupyter 3.9.13\n"
     ]
    }
   ],
   "source": [
    "from platform import python_version\n",
    "print('Versao jupyter', python_version())"
   ]
  },
  {
   "cell_type": "markdown",
   "id": "063a37ea",
   "metadata": {},
   "source": [
    "## Manipulação de Arquivos"
   ]
  },
  {
   "cell_type": "code",
   "execution_count": 12,
   "id": "f8945f87",
   "metadata": {},
   "outputs": [],
   "source": [
    "arq1 = open('Arquivos/arquivo1.txt', 'r') #r = read"
   ]
  },
  {
   "cell_type": "code",
   "execution_count": 13,
   "id": "294def70",
   "metadata": {},
   "outputs": [
    {
     "name": "stdout",
     "output_type": "stream",
     "text": [
      "Teste - teste - teste\n"
     ]
    }
   ],
   "source": [
    "print(arq1.read())"
   ]
  },
  {
   "cell_type": "code",
   "execution_count": 15,
   "id": "71b5a6a9",
   "metadata": {},
   "outputs": [
    {
     "name": "stdout",
     "output_type": "stream",
     "text": [
      "21\n"
     ]
    }
   ],
   "source": [
    "print(arq1.tell()) ## dizer o numero de caracteres\n",
    "#OBS: esse comando deixa o cursor no final do texto "
   ]
  },
  {
   "cell_type": "code",
   "execution_count": 20,
   "id": "5f233326",
   "metadata": {},
   "outputs": [
    {
     "name": "stdout",
     "output_type": "stream",
     "text": [
      "\n"
     ]
    }
   ],
   "source": [
    "print(arq1.read())\n",
    "#por isso vc exuta e não há nada(final do cursor)"
   ]
  },
  {
   "cell_type": "code",
   "execution_count": 36,
   "id": "7fe091fd",
   "metadata": {},
   "outputs": [
    {
     "name": "stdout",
     "output_type": "stream",
     "text": [
      "0\n"
     ]
    }
   ],
   "source": [
    "#retornar para o inicio do arquivo\n",
    "print(arq1.seek(0,0))"
   ]
  },
  {
   "cell_type": "code",
   "execution_count": 22,
   "id": "893cfd97",
   "metadata": {},
   "outputs": [
    {
     "name": "stdout",
     "output_type": "stream",
     "text": [
      "Teste - teste - teste\n"
     ]
    }
   ],
   "source": [
    "print(arq1.read())"
   ]
  },
  {
   "cell_type": "markdown",
   "id": "4045dfc5",
   "metadata": {},
   "source": [
    "# Gravando arquivos    "
   ]
  },
  {
   "cell_type": "code",
   "execution_count": 44,
   "id": "49d72df1",
   "metadata": {},
   "outputs": [],
   "source": [
    "#Abrindo arquivo para gravação\n",
    "arq2 = open('Arquivos/arquivo2.txt', 'w') #w = write"
   ]
  },
  {
   "cell_type": "code",
   "execution_count": 45,
   "id": "7c7cbe1a",
   "metadata": {},
   "outputs": [
    {
     "ename": "UnsupportedOperation",
     "evalue": "not readable",
     "output_type": "error",
     "traceback": [
      "\u001b[1;31m---------------------------------------------------------------------------\u001b[0m",
      "\u001b[1;31mUnsupportedOperation\u001b[0m                      Traceback (most recent call last)",
      "\u001b[1;32m~\\AppData\\Local\\Temp\\ipykernel_13448\\564810189.py\u001b[0m in \u001b[0;36m<module>\u001b[1;34m\u001b[0m\n\u001b[0;32m      1\u001b[0m \u001b[1;31m#Como abrimos arquivo apenas para gravação, não podemos usar comandos de leitura.\u001b[0m\u001b[1;33m\u001b[0m\u001b[1;33m\u001b[0m\u001b[0m\n\u001b[1;32m----> 2\u001b[1;33m \u001b[0mprint\u001b[0m\u001b[1;33m(\u001b[0m\u001b[0marq2\u001b[0m\u001b[1;33m.\u001b[0m\u001b[0mread\u001b[0m\u001b[1;33m(\u001b[0m\u001b[1;33m)\u001b[0m\u001b[1;33m)\u001b[0m\u001b[1;33m\u001b[0m\u001b[1;33m\u001b[0m\u001b[0m\n\u001b[0m",
      "\u001b[1;31mUnsupportedOperation\u001b[0m: not readable"
     ]
    }
   ],
   "source": [
    "#Como abrimos arquivo apenas para gravação, não podemos usar comandos de leitura.\n",
    "print(arq2.read())"
   ]
  },
  {
   "cell_type": "code",
   "execution_count": 49,
   "id": "331f4d3d",
   "metadata": {},
   "outputs": [
    {
     "data": {
      "text/plain": [
       "33"
      ]
     },
     "execution_count": 49,
     "metadata": {},
     "output_type": "execute_result"
    }
   ],
   "source": [
    "#gravando arquivo\n",
    "arq2.write('Ainda bem que vou morar com Deus!')"
   ]
  },
  {
   "cell_type": "code",
   "execution_count": 60,
   "id": "39618cfe",
   "metadata": {},
   "outputs": [],
   "source": [
    "arq2.close()"
   ]
  },
  {
   "cell_type": "code",
   "execution_count": 61,
   "id": "37d917ef",
   "metadata": {},
   "outputs": [],
   "source": [
    "arq2 = open('Arquivos/arquivo2.txt', 'r') #leitura "
   ]
  },
  {
   "cell_type": "code",
   "execution_count": 52,
   "id": "b652a38f",
   "metadata": {},
   "outputs": [
    {
     "data": {
      "text/plain": [
       "33"
      ]
     },
     "execution_count": 52,
     "metadata": {},
     "output_type": "execute_result"
    }
   ],
   "source": [
    "arq2.write('Ainda bem que vou morar nos ceús!')"
   ]
  },
  {
   "cell_type": "code",
   "execution_count": 56,
   "id": "7b59c60e",
   "metadata": {},
   "outputs": [
    {
     "name": "stdout",
     "output_type": "stream",
     "text": [
      "Ainda bem que vou morar com Deus!Ainda bem que vou morar com Deus!Ainda bem que vou morar nos ceús!Ainda bem que vou morar nos ceús!\n"
     ]
    }
   ],
   "source": [
    "print(arq2.read())"
   ]
  },
  {
   "cell_type": "code",
   "execution_count": 57,
   "id": "fa8b434e",
   "metadata": {},
   "outputs": [
    {
     "name": "stdout",
     "output_type": "stream",
     "text": [
      "0\n"
     ]
    }
   ],
   "source": [
    "print(arq2.seek(0,0))"
   ]
  },
  {
   "cell_type": "code",
   "execution_count": 58,
   "id": "7f39fc45",
   "metadata": {},
   "outputs": [],
   "source": [
    "arq2 = open('Arquivos/arquivo2.txt', 'a') #a = append --> acrescentear"
   ]
  },
  {
   "cell_type": "code",
   "execution_count": 59,
   "id": "d541d9e0",
   "metadata": {},
   "outputs": [
    {
     "data": {
      "text/plain": [
       "32"
      ]
     },
     "execution_count": 59,
     "metadata": {},
     "output_type": "execute_result"
    }
   ],
   "source": [
    "arq2.write('Data Science Moderno com Python!')"
   ]
  },
  {
   "cell_type": "code",
   "execution_count": 62,
   "id": "ee45fd66",
   "metadata": {},
   "outputs": [
    {
     "name": "stdout",
     "output_type": "stream",
     "text": [
      "Ainda bem que vou morar com Deus!Ainda bem que vou morar com Deus!Ainda bem que vou morar nos ceús!Ainda bem que vou morar nos ceús!Data Science Moderno com Python!\n"
     ]
    }
   ],
   "source": [
    "print(arq2.read())"
   ]
  },
  {
   "cell_type": "code",
   "execution_count": 63,
   "id": "a15baf22",
   "metadata": {},
   "outputs": [
    {
     "name": "stdout",
     "output_type": "stream",
     "text": [
      "0\n"
     ]
    }
   ],
   "source": [
    "print(arq2.seek(0,0))"
   ]
  },
  {
   "cell_type": "code",
   "execution_count": 64,
   "id": "78e98eee",
   "metadata": {},
   "outputs": [
    {
     "name": "stdout",
     "output_type": "stream",
     "text": [
      "Ainda bem que vou morar com Deus!Ainda bem que vou morar com Deus!Ainda bem que vou morar nos ceús!Ainda bem que vou morar nos ceús!Data Science Moderno com Python!\n"
     ]
    }
   ],
   "source": [
    "print(arq2.read())"
   ]
  },
  {
   "cell_type": "code",
   "execution_count": null,
   "id": "be0c7f37",
   "metadata": {},
   "outputs": [],
   "source": [
    " "
   ]
  },
  {
   "cell_type": "code",
   "execution_count": null,
   "id": "ee93798b",
   "metadata": {},
   "outputs": [],
   "source": []
  }
 ],
 "metadata": {
  "kernelspec": {
   "display_name": "Python 3 (ipykernel)",
   "language": "python",
   "name": "python3"
  },
  "language_info": {
   "codemirror_mode": {
    "name": "ipython",
    "version": 3
   },
   "file_extension": ".py",
   "mimetype": "text/x-python",
   "name": "python",
   "nbconvert_exporter": "python",
   "pygments_lexer": "ipython3",
   "version": "3.9.13"
  }
 },
 "nbformat": 4,
 "nbformat_minor": 5
}
