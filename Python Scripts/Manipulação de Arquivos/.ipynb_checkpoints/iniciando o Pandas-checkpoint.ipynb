{
 "cells": [
  {
   "cell_type": "markdown",
   "id": "3fe93cac",
   "metadata": {},
   "source": [
    "## Importando um Dataset com Pandas"
   ]
  },
  {
   "cell_type": "code",
   "execution_count": 1,
   "id": "c6ca7f9b",
   "metadata": {},
   "outputs": [],
   "source": [
    "import pandas as pd"
   ]
  },
  {
   "cell_type": "code",
   "execution_count": 2,
   "id": "7e827bb7",
   "metadata": {},
   "outputs": [
    {
     "data": {
      "text/plain": [
       "'1.4.4'"
      ]
     },
     "execution_count": 2,
     "metadata": {},
     "output_type": "execute_result"
    }
   ],
   "source": [
    "pd.__version__"
   ]
  },
  {
   "cell_type": "code",
   "execution_count": 3,
   "id": "21101131",
   "metadata": {},
   "outputs": [],
   "source": [
    "arquivo = 'Arquivos/salaries.csv'"
   ]
  },
  {
   "cell_type": "code",
   "execution_count": 4,
   "id": "7b9862be",
   "metadata": {},
   "outputs": [],
   "source": [
    "df = pd.read_csv(arquivo)"
   ]
  },
  {
   "cell_type": "code",
   "execution_count": 5,
   "id": "5428b571",
   "metadata": {},
   "outputs": [
    {
     "data": {
      "text/html": [
       "<div>\n",
       "<style scoped>\n",
       "    .dataframe tbody tr th:only-of-type {\n",
       "        vertical-align: middle;\n",
       "    }\n",
       "\n",
       "    .dataframe tbody tr th {\n",
       "        vertical-align: top;\n",
       "    }\n",
       "\n",
       "    .dataframe thead th {\n",
       "        text-align: right;\n",
       "    }\n",
       "</style>\n",
       "<table border=\"1\" class=\"dataframe\">\n",
       "  <thead>\n",
       "    <tr style=\"text-align: right;\">\n",
       "      <th></th>\n",
       "      <th>Name</th>\n",
       "      <th>Job Titles</th>\n",
       "      <th>Department</th>\n",
       "      <th>Full or Part-Time</th>\n",
       "      <th>Salary or Hourly</th>\n",
       "      <th>Typical Hours</th>\n",
       "      <th>Annual Salary</th>\n",
       "      <th>Hourly Rate</th>\n",
       "    </tr>\n",
       "  </thead>\n",
       "  <tbody>\n",
       "    <tr>\n",
       "      <th>0</th>\n",
       "      <td>GARCIA, CHRISTOPHER A</td>\n",
       "      <td>CLERK - BD OF ELECTIONS</td>\n",
       "      <td>BOARD OF ELECTION COMMISSIONERS</td>\n",
       "      <td>F</td>\n",
       "      <td>SALARY</td>\n",
       "      <td>NaN</td>\n",
       "      <td>34176.0</td>\n",
       "      <td>NaN</td>\n",
       "    </tr>\n",
       "    <tr>\n",
       "      <th>1</th>\n",
       "      <td>SAMAYOA, HUGO A</td>\n",
       "      <td>WARD SUPERINTENDENT</td>\n",
       "      <td>DEPARTMENT OF STREETS AND SANITATION</td>\n",
       "      <td>F</td>\n",
       "      <td>SALARY</td>\n",
       "      <td>NaN</td>\n",
       "      <td>86640.0</td>\n",
       "      <td>NaN</td>\n",
       "    </tr>\n",
       "    <tr>\n",
       "      <th>2</th>\n",
       "      <td>HARRISON, LETECHIA</td>\n",
       "      <td>SR PROCUREMENT SPECIALIST</td>\n",
       "      <td>DEPARTMENT OF PROCUREMENT SERVICES</td>\n",
       "      <td>F</td>\n",
       "      <td>SALARY</td>\n",
       "      <td>NaN</td>\n",
       "      <td>90660.0</td>\n",
       "      <td>NaN</td>\n",
       "    </tr>\n",
       "    <tr>\n",
       "      <th>3</th>\n",
       "      <td>PUEBLA, SANDRA</td>\n",
       "      <td>ALDERMANIC AIDE</td>\n",
       "      <td>CITY COUNCIL</td>\n",
       "      <td>P</td>\n",
       "      <td>HOURLY</td>\n",
       "      <td>20.0</td>\n",
       "      <td>NaN</td>\n",
       "      <td>36.80</td>\n",
       "    </tr>\n",
       "    <tr>\n",
       "      <th>4</th>\n",
       "      <td>GONZALEZ, MICHAEL A</td>\n",
       "      <td>POOL MOTOR TRUCK DRIVER</td>\n",
       "      <td>DEPARTMENT OF STREETS AND SANITATION</td>\n",
       "      <td>F</td>\n",
       "      <td>HOURLY</td>\n",
       "      <td>40.0</td>\n",
       "      <td>NaN</td>\n",
       "      <td>45.98</td>\n",
       "    </tr>\n",
       "  </tbody>\n",
       "</table>\n",
       "</div>"
      ],
      "text/plain": [
       "                    Name                 Job Titles  \\\n",
       "0  GARCIA, CHRISTOPHER A    CLERK - BD OF ELECTIONS   \n",
       "1        SAMAYOA, HUGO A        WARD SUPERINTENDENT   \n",
       "2     HARRISON, LETECHIA  SR PROCUREMENT SPECIALIST   \n",
       "3         PUEBLA, SANDRA            ALDERMANIC AIDE   \n",
       "4    GONZALEZ, MICHAEL A    POOL MOTOR TRUCK DRIVER   \n",
       "\n",
       "                             Department Full or Part-Time Salary or Hourly  \\\n",
       "0       BOARD OF ELECTION COMMISSIONERS                 F           SALARY   \n",
       "1  DEPARTMENT OF STREETS AND SANITATION                 F           SALARY   \n",
       "2    DEPARTMENT OF PROCUREMENT SERVICES                 F           SALARY   \n",
       "3                          CITY COUNCIL                 P           HOURLY   \n",
       "4  DEPARTMENT OF STREETS AND SANITATION                 F           HOURLY   \n",
       "\n",
       "   Typical Hours  Annual Salary  Hourly Rate  \n",
       "0            NaN        34176.0          NaN  \n",
       "1            NaN        86640.0          NaN  \n",
       "2            NaN        90660.0          NaN  \n",
       "3           20.0            NaN        36.80  \n",
       "4           40.0            NaN        45.98  "
      ]
     },
     "execution_count": 5,
     "metadata": {},
     "output_type": "execute_result"
    }
   ],
   "source": [
    "df.head()"
   ]
  },
  {
   "cell_type": "code",
   "execution_count": 10,
   "id": "6acbfa18",
   "metadata": {},
   "outputs": [
    {
     "data": {
      "text/plain": [
       "POLICE OFFICER                            8408\n",
       "FIREFIGHTER-EMT                           1586\n",
       "SERGEANT                                  1282\n",
       "POLICE OFFICER (ASSIGNED AS DETECTIVE)    1098\n",
       "POOL MOTOR TRUCK DRIVER                   1041\n",
       "                                          ... \n",
       "ENVIRONMENTAL HEALTH & SAFETY COORD          1\n",
       "HELP DESK SUPERVISOR - EXCLUDED              1\n",
       "DIR OF WORKERS COMPENSATION                  1\n",
       "CHIEF WATER CHEMIST                          1\n",
       "COORD OF COMMUNITY SERVICES-CFD              1\n",
       "Name: Job Titles, Length: 1124, dtype: int64"
      ]
     },
     "execution_count": 10,
     "metadata": {},
     "output_type": "execute_result"
    }
   ],
   "source": [
    "df['Job Titles'].value_counts()"
   ]
  },
  {
   "cell_type": "code",
   "execution_count": null,
   "id": "a2f22a68",
   "metadata": {},
   "outputs": [],
   "source": []
  }
 ],
 "metadata": {
  "kernelspec": {
   "display_name": "Python 3 (ipykernel)",
   "language": "python",
   "name": "python3"
  },
  "language_info": {
   "codemirror_mode": {
    "name": "ipython",
    "version": 3
   },
   "file_extension": ".py",
   "mimetype": "text/x-python",
   "name": "python",
   "nbconvert_exporter": "python",
   "pygments_lexer": "ipython3",
   "version": "3.9.13"
  }
 },
 "nbformat": 4,
 "nbformat_minor": 5
}
