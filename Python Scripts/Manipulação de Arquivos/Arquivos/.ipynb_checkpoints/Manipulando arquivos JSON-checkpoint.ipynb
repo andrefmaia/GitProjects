{
 "cells": [
  {
   "cell_type": "markdown",
   "id": "d172ee2a",
   "metadata": {},
   "source": [
    "##  Manipulando Arquivos JSON (Java Script Object Notation\n",
    "\n",
    "JSON é um formato de dados de textos simples e leve que é utilizado para transmitir informações em aplicações web. É baseado em uma estrutura de objetos Java Script e usa pares de chave-valor para representar dados. JSON é facilmente lido e escrito por máquinas e é amplamente utilizado como formato de intercâmbio de dados em aplicações web modernas"
   ]
  },
  {
   "cell_type": "code",
   "execution_count": 16,
   "id": "2155604b",
   "metadata": {},
   "outputs": [],
   "source": [
    "#Criando um dicionario\n",
    "dict_guido = {'nome': 'Andre Maia',\n",
    "             'Linguagem': 'Python',\n",
    "             'similar': ['c', 'Modula-3','lisp'], 'users': 1000000}"
   ]
  },
  {
   "cell_type": "code",
   "execution_count": 17,
   "id": "a7b62aee",
   "metadata": {},
   "outputs": [
    {
     "name": "stdout",
     "output_type": "stream",
     "text": [
      "nome Andre Maia\n",
      "Linguagem Python\n",
      "similar ['c', 'Modula-3', 'lisp']\n",
      "users 1000000\n"
     ]
    }
   ],
   "source": [
    "#loop para percorrer os valores do dicionpario\n",
    "for k,v in dict_guido.items():\n",
    "    print (k,v)"
   ]
  },
  {
   "cell_type": "code",
   "execution_count": 18,
   "id": "4df1bd3c",
   "metadata": {},
   "outputs": [],
   "source": [
    "import json"
   ]
  },
  {
   "cell_type": "code",
   "execution_count": 19,
   "id": "e271e36e",
   "metadata": {},
   "outputs": [
    {
     "data": {
      "text/plain": [
       "'{\"nome\": \"Andre Maia\", \"Linguagem\": \"Python\", \"similar\": [\"c\", \"Modula-3\", \"lisp\"], \"users\": 1000000}'"
      ]
     },
     "execution_count": 19,
     "metadata": {},
     "output_type": "execute_result"
    }
   ],
   "source": [
    "#dumps - converte o dicionario em um formato json\n",
    "json.dumps(dict_guido)"
   ]
  },
  {
   "cell_type": "code",
   "execution_count": 22,
   "id": "3b100d76",
   "metadata": {},
   "outputs": [],
   "source": [
    "with open('dados.json', 'w') as arquivo:\n",
    "    arquivo.write(json.dumps(dict_guido))"
   ]
  },
  {
   "cell_type": "code",
   "execution_count": 23,
   "id": "98928a13",
   "metadata": {},
   "outputs": [],
   "source": [
    "#Criando um arquivo Json\n",
    "with open('dados.json', 'r') as arquivo:\n",
    "    texto = arquivo.read()\n",
    "    dados = json.loads(texto)"
   ]
  },
  {
   "cell_type": "code",
   "execution_count": 24,
   "id": "4df1db67",
   "metadata": {},
   "outputs": [
    {
     "data": {
      "text/plain": [
       "{'nome': 'Andre Maia',\n",
       " 'Linguagem': 'Python',\n",
       " 'similar': ['c', 'Modula-3', 'lisp'],\n",
       " 'users': 1000000}"
      ]
     },
     "execution_count": 24,
     "metadata": {},
     "output_type": "execute_result"
    }
   ],
   "source": [
    "dados"
   ]
  },
  {
   "cell_type": "code",
   "execution_count": 25,
   "id": "ee4ba799",
   "metadata": {},
   "outputs": [
    {
     "name": "stdout",
     "output_type": "stream",
     "text": [
      "{'nome': 'Andre Maia', 'Linguagem': 'Python', 'similar': ['c', 'Modula-3', 'lisp'], 'users': 1000000}\n"
     ]
    }
   ],
   "source": [
    "print (dados)"
   ]
  },
  {
   "cell_type": "code",
   "execution_count": 26,
   "id": "f081d95d",
   "metadata": {},
   "outputs": [
    {
     "name": "stdout",
     "output_type": "stream",
     "text": [
      "Andre Maia\n"
     ]
    }
   ],
   "source": [
    "print (dados['nome'])"
   ]
  }
 ],
 "metadata": {
  "kernelspec": {
   "display_name": "Python 3 (ipykernel)",
   "language": "python",
   "name": "python3"
  },
  "language_info": {
   "codemirror_mode": {
    "name": "ipython",
    "version": 3
   },
   "file_extension": ".py",
   "mimetype": "text/x-python",
   "name": "python",
   "nbconvert_exporter": "python",
   "pygments_lexer": "ipython3",
   "version": "3.9.13"
  }
 },
 "nbformat": 4,
 "nbformat_minor": 5
}
