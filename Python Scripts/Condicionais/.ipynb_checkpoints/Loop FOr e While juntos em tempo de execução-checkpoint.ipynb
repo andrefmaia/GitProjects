{
 "cells": [
  {
   "cell_type": "markdown",
   "id": "2574be83",
   "metadata": {},
   "source": [
    "# While e For Juntos"
   ]
  },
  {
   "cell_type": "markdown",
   "id": "7cf14e5f",
   "metadata": {},
   "source": [
    "Um número primo é um número natural maior do que 1 que é divísivel por 1 e por ele mesmo. Isso significa que não há nenhum numero inteiro que possa dividir o número primo sem deixar resto. Por exemplo, o numero 2 é primo, pois é divisivel apenas por 1 e 2. O numero 4 não é primo, pois é divisivel por 2.\n",
    "\n",
    "Aqui está o pseudocódigo"
   ]
  },
  {
   "cell_type": "markdown",
   "id": "2173a0e0",
   "metadata": {},
   "source": [
    "Inicianlize uma lista vazia para armazenar os números primos\n",
    "Para cada número N entre 2 e 30:\n",
    "    Inicialize uma variável eh_primo como verdadeira\n",
    "    Para cada número i entre 2 e N/2:\n",
    "        Se N é divisível por i, então:\n",
    "            Altere a variável eh_primo para falso\n",
    "            Pare de verificar os outros numeros\n",
    "    Se a variavel eh_primo ainda é verdadeira, adicione N à lista de numeros primos\n",
    "Imprima a lista de numeros primos\n"
   ]
  },
  {
   "cell_type": "markdown",
   "id": "1ccd8b8b",
   "metadata": {},
   "source": [
    "Neste código, a função eh_primo verifica se um número é primo ou não. O loop while é usado para iterar de 1 a 30, e dentro dele, a função eh_primo é chamada para verificar se o número atual é primo. Se for, o número é impresso. O contador numero é então incrementado para passar para o próximo número."
   ]
  },
  {
   "cell_type": "code",
   "execution_count": 7,
   "id": "4fd0a7ef",
   "metadata": {},
   "outputs": [
    {
     "name": "stdout",
     "output_type": "stream",
     "text": [
      "2\n",
      "3\n",
      "5\n",
      "7\n",
      "11\n",
      "13\n",
      "17\n",
      "19\n",
      "23\n",
      "29\n",
      "Wall time: 997 µs\n"
     ]
    }
   ],
   "source": [
    "%%time\n",
    "\n",
    "def eh_primo(numero):\n",
    "    if numero < 2:\n",
    "        return False\n",
    "    for i in range(2, int(numero ** 0.5) + 1):\n",
    "        if numero % i == 0:\n",
    "            return False\n",
    "    return True\n",
    "\n",
    "numero = 2\n",
    "while numero <= 30:\n",
    "    for i in range(2, numero):\n",
    "        if numero % i == 0:\n",
    "            break\n",
    "    else:\n",
    "        print(numero)\n",
    "    numero += 1"
   ]
  },
  {
   "cell_type": "code",
   "execution_count": 6,
   "id": "27ccdb30",
   "metadata": {},
   "outputs": [
    {
     "name": "stdout",
     "output_type": "stream",
     "text": [
      "[2, 3, 5, 7, 11, 13, 17, 19, 23, 29]\n",
      "Wall time: 0 ns\n"
     ]
    }
   ],
   "source": [
    "%%time\n",
    "\n",
    "#Encontrando números primos entre 2 e 30 usando loop for e while\n",
    "\n",
    "# variavel para armazenar numeros primos\n",
    "primos = [ ]\n",
    "\n",
    "#Loop for para percorrer números de 2 a 30\n",
    "for num in range(2, 31):\n",
    "    \n",
    "    #criação da Variavel de controle\n",
    "    eh_primo = True\n",
    "    \n",
    "    #Loope while para verificar se o número é primo\n",
    "    i = 2\n",
    "    while i <= num // 2:\n",
    "        if num % i == 0:\n",
    "            eh_primo = False\n",
    "            break\n",
    "        i += 1\n",
    "        \n",
    "    #Adicionando o numero primo na lista\n",
    "    if eh_primo:\n",
    "        primos.append(num)\n",
    "\n",
    "#imprimindo a lista de números primos\n",
    "print(primos)\n",
    "        \n",
    "    "
   ]
  },
  {
   "cell_type": "code",
   "execution_count": null,
   "id": "6a6a8e21",
   "metadata": {},
   "outputs": [],
   "source": []
  }
 ],
 "metadata": {
  "kernelspec": {
   "display_name": "Python 3 (ipykernel)",
   "language": "python",
   "name": "python3"
  },
  "language_info": {
   "codemirror_mode": {
    "name": "ipython",
    "version": 3
   },
   "file_extension": ".py",
   "mimetype": "text/x-python",
   "name": "python",
   "nbconvert_exporter": "python",
   "pygments_lexer": "ipython3",
   "version": "3.9.13"
  }
 },
 "nbformat": 4,
 "nbformat_minor": 5
}
