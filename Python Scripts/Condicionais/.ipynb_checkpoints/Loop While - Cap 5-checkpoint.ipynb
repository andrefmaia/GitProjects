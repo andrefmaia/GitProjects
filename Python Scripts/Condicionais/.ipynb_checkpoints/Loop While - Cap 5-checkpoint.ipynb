{
 "cells": [
  {
   "cell_type": "code",
   "execution_count": 2,
   "id": "d5ee91d3",
   "metadata": {},
   "outputs": [
    {
     "name": "stdout",
     "output_type": "stream",
     "text": [
      "Versão da Linguagem Python usada neste Jupyter Notebook:  3.9.13\n"
     ]
    }
   ],
   "source": [
    "#version da Linguagem Python\n",
    "from platform import python_version\n",
    "print('Versão da Linguagem Python usada neste Jupyter Notebook: ',python_version())"
   ]
  },
  {
   "cell_type": "code",
   "execution_count": 29,
   "id": "4093a515",
   "metadata": {},
   "outputs": [
    {
     "name": "stdout",
     "output_type": "stream",
     "text": [
      "1\n",
      "2\n",
      "3\n",
      "4\n",
      "5\n",
      "6\n",
      "7\n",
      "8\n",
      "9\n",
      "10\n"
     ]
    }
   ],
   "source": [
    "#usando o loop while para imprimir os valores de 0 a 9\n",
    "#a condição tem que deixar de ser verdadeira dentro do loop, senão pode travar o navegador ou mesmo o computador\n",
    "valor = 1\n",
    "while valor <= 10:\n",
    "    print(valor)\n",
    "    valor += 1"
   ]
  },
  {
   "cell_type": "code",
   "execution_count": 30,
   "id": "a02e1bdb",
   "metadata": {},
   "outputs": [
    {
     "name": "stdout",
     "output_type": "stream",
     "text": [
      "11\n"
     ]
    }
   ],
   "source": [
    "#entra no loop somente se a condição for verdadeira\n",
    "\n",
    "while valor < 12:\n",
    "    print(valor)\n",
    "    valor += 1"
   ]
  },
  {
   "cell_type": "code",
   "execution_count": 35,
   "id": "c06e37df",
   "metadata": {},
   "outputs": [
    {
     "name": "stdout",
     "output_type": "stream",
     "text": [
      "O valor de x nestas iteração é:  0\n",
      "O valor de x nestas iteração é:  1\n",
      "O valor de x nestas iteração é:  2\n",
      "O valor de x nestas iteração é:  3\n",
      "O valor de x nestas iteração é:  4\n",
      "O valor de x nestas iteração é:  5\n",
      "O valor de x nestas iteração é:  6\n",
      "O valor de x nestas iteração é:  7\n",
      "O valor de x nestas iteração é:  8\n",
      "O valor de x nestas iteração é:  9\n",
      "Loop Concluído!\n",
      "10\n"
     ]
    }
   ],
   "source": [
    "#Também é possível usar a claúsula else para encerrar o loop While\n",
    "x = 0\n",
    "\n",
    "while x < 10:\n",
    "    print('O valor de x nestas iteração é: ', x)\n",
    "    \n",
    "    x += 1\n",
    "else:\n",
    "    print('Loop Concluído!')\n",
    "print(x)"
   ]
  },
  {
   "cell_type": "markdown",
   "id": "0e85c35c",
   "metadata": {},
   "source": [
    "# Pass, Break, Continue"
   ]
  },
  {
   "cell_type": "code",
   "execution_count": 4,
   "id": "9fd8a304",
   "metadata": {},
   "outputs": [
    {
     "name": "stdout",
     "output_type": "stream",
     "text": [
      "0\n",
      "1\n",
      "2\n",
      "3\n",
      "Esse loop será pausado o valor é igual a: 4\n"
     ]
    }
   ],
   "source": [
    "#Se encontrarmos o número 4 interrompemos o loop\n",
    "valor = 0\n",
    "while valor < 10:\n",
    "    if valor == 4:\n",
    "        print(\"Esse loop será pausado o valor é igual a:\", valor)\n",
    "        break\n",
    "    else:\n",
    "        pass\n",
    "    print(valor)\n",
    "    valor += 1"
   ]
  },
  {
   "cell_type": "code",
   "execution_count": 5,
   "id": "7c2e8097",
   "metadata": {},
   "outputs": [
    {
     "name": "stdout",
     "output_type": "stream",
     "text": [
      "P\n",
      "y\n",
      "t\n",
      "h\n",
      "o\n",
      "n\n",
      " \n",
      "é\n",
      " \n",
      " \n",
      "i\n",
      "n\n",
      "c\n",
      "r\n",
      "í\n",
      "v\n",
      "e\n",
      "l\n"
     ]
    }
   ],
   "source": [
    "#Desconsideramos a letra z ao imprimir os caracteres da frase\n",
    "for letra in \"Python é zzz incrível\":\n",
    "    if letra =='z':\n",
    "        continue\n",
    "    print(letra)"
   ]
  },
  {
   "cell_type": "code",
   "execution_count": null,
   "id": "dac3bb88",
   "metadata": {},
   "outputs": [],
   "source": []
  },
  {
   "cell_type": "code",
   "execution_count": null,
   "id": "db3f5881",
   "metadata": {},
   "outputs": [],
   "source": []
  },
  {
   "cell_type": "code",
   "execution_count": null,
   "id": "4f0c02d3",
   "metadata": {},
   "outputs": [],
   "source": []
  }
 ],
 "metadata": {
  "kernelspec": {
   "display_name": "Python 3 (ipykernel)",
   "language": "python",
   "name": "python3"
  },
  "language_info": {
   "codemirror_mode": {
    "name": "ipython",
    "version": 3
   },
   "file_extension": ".py",
   "mimetype": "text/x-python",
   "name": "python",
   "nbconvert_exporter": "python",
   "pygments_lexer": "ipython3",
   "version": "3.9.13"
  }
 },
 "nbformat": 4,
 "nbformat_minor": 5
}
