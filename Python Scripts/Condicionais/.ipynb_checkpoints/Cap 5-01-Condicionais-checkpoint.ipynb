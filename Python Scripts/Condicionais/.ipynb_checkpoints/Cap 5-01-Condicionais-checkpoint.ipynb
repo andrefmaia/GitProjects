{
 "cells": [
  {
   "cell_type": "markdown",
   "id": "1566c64e",
   "metadata": {},
   "source": [
    "## Capítulo 5 Condicionais"
   ]
  },
  {
   "cell_type": "code",
   "execution_count": null,
   "id": "246a29cf",
   "metadata": {},
   "outputs": [],
   "source": []
  },
  {
   "cell_type": "code",
   "execution_count": 6,
   "id": "ae1dfc20",
   "metadata": {},
   "outputs": [
    {
     "name": "stdout",
     "output_type": "stream",
     "text": [
      "A sentença é falsa\n"
     ]
    }
   ],
   "source": [
    "a = 5\n",
    "b = 8\n",
    "if a > b:\n",
    "    print('A sentença é verdadeira')\n",
    "else: print ('A sentença é falsa')"
   ]
  },
  {
   "cell_type": "code",
   "execution_count": 7,
   "id": "856fb5db",
   "metadata": {},
   "outputs": [
    {
     "name": "stdout",
     "output_type": "stream",
     "text": [
      "Hoje vai chover!\n"
     ]
    }
   ],
   "source": [
    "dia = 'Terça'\n",
    "if dia == 'Segunda':\n",
    "    print('Hoje fará sol!')\n",
    "else: print('Hoje vai chover!')"
   ]
  },
  {
   "cell_type": "code",
   "execution_count": 10,
   "id": "da23f812",
   "metadata": {},
   "outputs": [
    {
     "name": "stdout",
     "output_type": "stream",
     "text": [
      "Sem previsão do tempo para o dia selecionado!\n"
     ]
    }
   ],
   "source": [
    "dia = 'Quarta'\n",
    "if dia == 'Segunda':\n",
    "    print('Hoje fará sol!')\n",
    "elif dia == 'Terça':\n",
    "    print('Hoje vai chover!')\n",
    "else: \n",
    "    print('Sem previsão do tempo para o dia selecionado!')"
   ]
  },
  {
   "cell_type": "markdown",
   "id": "c5601854",
   "metadata": {},
   "source": [
    "### OPERADORES RELACIONAIS"
   ]
  },
  {
   "cell_type": "code",
   "execution_count": 11,
   "id": "fdfe8cc1",
   "metadata": {},
   "outputs": [
    {
     "data": {
      "text/plain": [
       "True"
      ]
     },
     "execution_count": 11,
     "metadata": {},
     "output_type": "execute_result"
    }
   ],
   "source": [
    "6 > 3"
   ]
  },
  {
   "cell_type": "code",
   "execution_count": 12,
   "id": "2e802484",
   "metadata": {},
   "outputs": [
    {
     "data": {
      "text/plain": [
       "False"
      ]
     },
     "execution_count": 12,
     "metadata": {},
     "output_type": "execute_result"
    }
   ],
   "source": [
    "3 > 7"
   ]
  },
  {
   "cell_type": "code",
   "execution_count": 13,
   "id": "5a8cb64b",
   "metadata": {},
   "outputs": [
    {
     "data": {
      "text/plain": [
       "True"
      ]
     },
     "execution_count": 13,
     "metadata": {},
     "output_type": "execute_result"
    }
   ],
   "source": [
    "4 >= 4"
   ]
  },
  {
   "cell_type": "code",
   "execution_count": 16,
   "id": "b4f51f67",
   "metadata": {},
   "outputs": [
    {
     "name": "stdout",
     "output_type": "stream",
     "text": [
      "Comparativo Validada!\n"
     ]
    }
   ],
   "source": [
    "if 5 == 5:\n",
    "    print('Comparativo Validada!')\n",
    "else: print ('Comparativo Inválida!')"
   ]
  },
  {
   "cell_type": "markdown",
   "id": "3c5f1e1e",
   "metadata": {},
   "source": [
    "#Erro de margem --> observar uso do ^ indicando onde está o erro!"
   ]
  },
  {
   "cell_type": "code",
   "execution_count": 17,
   "id": "19d719b1",
   "metadata": {},
   "outputs": [
    {
     "ename": "IndentationError",
     "evalue": "expected an indented block (3519459747.py, line 2)",
     "output_type": "error",
     "traceback": [
      "\u001b[1;36m  File \u001b[1;32m\"C:\\Users\\Andre\\AppData\\Local\\Temp\\ipykernel_11552\\3519459747.py\"\u001b[1;36m, line \u001b[1;32m2\u001b[0m\n\u001b[1;33m    print('Comparativo Validada!')\u001b[0m\n\u001b[1;37m    ^\u001b[0m\n\u001b[1;31mIndentationError\u001b[0m\u001b[1;31m:\u001b[0m expected an indented block\n"
     ]
    }
   ],
   "source": [
    "if 5 == 5:\n",
    "print('Comparativo Validada!')"
   ]
  },
  {
   "cell_type": "markdown",
   "id": "4e8b731c",
   "metadata": {},
   "source": [
    "## FIQUE ATENTO AOS ESPAÇOS DE IDENTAÇÃO!!"
   ]
  },
  {
   "cell_type": "markdown",
   "id": "7b844e55",
   "metadata": {},
   "source": [
    "# Condicionais Aninhados"
   ]
  },
  {
   "cell_type": "code",
   "execution_count": 20,
   "id": "43bdbb26",
   "metadata": {},
   "outputs": [
    {
     "name": "stdout",
     "output_type": "stream",
     "text": [
      "Você pode dirigir!\n"
     ]
    }
   ],
   "source": [
    "idade = 18\n",
    "if idade > 17:\n",
    "    print('Você pode dirigir!')"
   ]
  },
  {
   "cell_type": "code",
   "execution_count": 23,
   "id": "558b9af5",
   "metadata": {},
   "outputs": [
    {
     "name": "stdout",
     "output_type": "stream",
     "text": [
      "OK, Bob você está autorizado a entrar!\n"
     ]
    }
   ],
   "source": [
    "Nome = 'Bob'\n",
    "if idade > 13:\n",
    "    if Nome == 'Bob':\n",
    "        print('OK, '+ Nome+ ' você está autorizado a entrar!')\n",
    "    else: \n",
    "        print('Desculpe, você não está autorizado!')\n",
    "    "
   ]
  },
  {
   "cell_type": "code",
   "execution_count": 34,
   "id": "306963b8",
   "metadata": {},
   "outputs": [
    {
     "name": "stdout",
     "output_type": "stream",
     "text": [
      "Desculpe, você não está autorizado!\n"
     ]
    }
   ],
   "source": [
    "nome = 'Bob'\n",
    "senha = 2020\n",
    "if (nome >= 'Bob' and senha == 20201):\n",
    "    print('OK, '+ Nome+ ' você está autorizado a entrar!')\n",
    "else: \n",
    "    print('Desculpe, você não está autorizado!')"
   ]
  },
  {
   "cell_type": "code",
   "execution_count": 35,
   "id": "7a6e236e",
   "metadata": {},
   "outputs": [
    {
     "name": "stdout",
     "output_type": "stream",
     "text": [
      "Desculpe, você não está autorizado!\n"
     ]
    }
   ],
   "source": [
    "nome = 'Bob'\n",
    "senha = 2020\n",
    "if (nome >= 'Bob') and (senha == 20201):\n",
    "    print('OK, '+ Nome+ ' você está autorizado a entrar!')\n",
    "else: \n",
    "    print('Desculpe, você não está autorizado!')"
   ]
  },
  {
   "cell_type": "markdown",
   "id": "7a810a45",
   "metadata": {},
   "source": [
    "### - Operadores Lógicos\n",
    "- Operador **and** - retorna true se ambas as declarações forem verdadeiras.\n",
    "- Operador **or** retorna true se uma das declarações for verdadeiras\n",
    "- Operador **not** - inverte o resultado."
   ]
  },
  {
   "cell_type": "code",
   "execution_count": 57,
   "id": "95999195",
   "metadata": {},
   "outputs": [
    {
     "name": "stdout",
     "output_type": "stream",
     "text": [
      "Uma das condiçoes é verdadeira!\n"
     ]
    }
   ],
   "source": [
    "numero = 4\n",
    "\n",
    "if (not(numero >= 5) and (numero % 2 ==0)) or (numero == 4):\n",
    "    print('Uma das condiçoes é verdadeira!')\n",
    "else:\n",
    "    print ('Condição é Falsa!')"
   ]
  },
  {
   "cell_type": "code",
   "execution_count": 73,
   "id": "e832c697",
   "metadata": {},
   "outputs": [
    {
     "name": "stdout",
     "output_type": "stream",
     "text": [
      "Parabéns!! Você foi aprovado na disciplina de  Python  com nota:  90\n"
     ]
    }
   ],
   "source": [
    "disciplina = 'Python'\n",
    "nota_final = 90\n",
    "\n",
    "if disciplina == \"Python\" and nota_final >= 70:\n",
    "    print('Parabéns!! Você foi aprovado na disciplina de ',disciplina, ' com nota: ', nota_final)\n",
    "else:\n",
    "    print('Lamento!! Você foi reprovado na disciplina de',disciplina,'com nota:',nota_final)"
   ]
  },
  {
   "cell_type": "code",
   "execution_count": 76,
   "id": "1f0fd95f",
   "metadata": {},
   "outputs": [
    {
     "name": "stdout",
     "output_type": "stream",
     "text": [
      "Parabéns!! Você foi aprovado em Python com média final 90!\n"
     ]
    }
   ],
   "source": [
    "#Usando condicionais e introduzinho Placeholders\n",
    "disciplina = 'Python'\n",
    "nota_final = 90\n",
    "semestre = 2\n",
    "\n",
    "if disciplina == \"Python\" and nota_final >= 70 and semestre != 1:\n",
    "    print('Parabéns!! Você foi aprovado em %s com média final %r!' %(disciplina, nota_final))\n",
    "else:\n",
    "    print('Lamento!! Você foi reprovado em %s com média final %r!' %(disciplina, nota_final))"
   ]
  },
  {
   "cell_type": "code",
   "execution_count": 92,
   "id": "d4a33774",
   "metadata": {},
   "outputs": [
    {
     "name": "stdout",
     "output_type": "stream",
     "text": [
      "Lamento!! Você foi reprovado em Lógica Python com média final 50!\n"
     ]
    }
   ],
   "source": [
    "#Usando condicionais e introduzinho Placeholders\n",
    "disciplina = 'Lógica Python'\n",
    "nota_final = 50\n",
    "semestre = 2\n",
    "\n",
    "if  (nota_final >= 70 and semestre != 1):\n",
    "    print('Parabéns!! Você foi aprovado em %s com média final %r!' %(disciplina, nota_final))\n",
    "else: \n",
    "    print('Lamento!! Você foi reprovado em %s com média final %r!' %(disciplina, nota_final))"
   ]
  },
  {
   "cell_type": "code",
   "execution_count": null,
   "id": "e4a056b7",
   "metadata": {},
   "outputs": [],
   "source": []
  }
 ],
 "metadata": {
  "kernelspec": {
   "display_name": "Python 3 (ipykernel)",
   "language": "python",
   "name": "python3"
  },
  "language_info": {
   "codemirror_mode": {
    "name": "ipython",
    "version": 3
   },
   "file_extension": ".py",
   "mimetype": "text/x-python",
   "name": "python",
   "nbconvert_exporter": "python",
   "pygments_lexer": "ipython3",
   "version": "3.9.13"
  }
 },
 "nbformat": 4,
 "nbformat_minor": 5
}
