{
 "cells": [
  {
   "cell_type": "code",
   "execution_count": 1,
   "id": "6767a9d7",
   "metadata": {},
   "outputs": [
    {
     "name": "stdout",
     "output_type": "stream",
     "text": [
      "\n",
      " 0\n",
      "\n",
      " 0\n",
      "\n",
      " 0\n",
      "----\n",
      "\n",
      " 1\n",
      "\n",
      " 2\n",
      "\n",
      " 3\n",
      "----\n",
      "\n",
      " 2\n",
      "\n",
      " 4\n",
      "\n",
      " 6\n",
      "----\n",
      "\n",
      " 3\n",
      "\n",
      " 6\n",
      "\n",
      " 9\n",
      "----\n",
      "\n",
      " 4\n",
      "\n",
      " 8\n",
      "\n",
      " 12\n",
      "----\n"
     ]
    }
   ],
   "source": [
    "lista1 = [0,1,2,3,4]\n",
    "lista2 = [1,2,3]\n",
    "\n",
    "#Loop Externo\n",
    "for elemento_lista1 in lista1:\n",
    "    \n",
    "    #Loop Interno\n",
    "    for elemento_lista2 in lista2:\n",
    "        print('\\n', elemento_lista1 * elemento_lista2)\n",
    "    \n",
    "    print('----')"
   ]
  },
  {
   "cell_type": "code",
   "execution_count": 2,
   "id": "e05e3319",
   "metadata": {},
   "outputs": [
    {
     "name": "stdout",
     "output_type": "stream",
     "text": [
      "O numero 47 foi encontrado nas duas listas!\n"
     ]
    }
   ],
   "source": [
    "lista1 = [10,16,24,36,47]\n",
    "lista2 = [32,89,47,76,12]\n",
    "\n",
    "#loop externo\n",
    "for elemento_lista1 in lista1:\n",
    "    \n",
    "    #loop externo\n",
    "    for elemento_lista2 in lista2:\n",
    "        \n",
    "        #condicional\n",
    "        if elemento_lista1 == 47 and elemento_lista2 == 47:\n",
    "            print('O numero 47 foi encontrado nas duas listas!')"
   ]
  },
  {
   "cell_type": "code",
   "execution_count": 4,
   "id": "7d75604b",
   "metadata": {},
   "outputs": [
    {
     "name": "stdout",
     "output_type": "stream",
     "text": [
      "A soma dos numeros pares das duas listas é igual a 170\n"
     ]
    }
   ],
   "source": [
    "#some os numeros pares da primeira lista com os numeros pares da segunda lista\n",
    "lista1 = [10,16,24,39,47]\n",
    "lista2 = [32,89,47,76,12]\n",
    "soma = 0\n",
    "\n",
    "#loop externo\n",
    "for lista in [lista1,lista2]:\n",
    "    \n",
    "    #loop interno\n",
    "    for num in lista:\n",
    "        \n",
    "        #condicional\n",
    "        if num % 2 == 0:\n",
    "            soma += num\n",
    "\n",
    "print('A soma dos numeros pares das duas listas é igual a', soma)"
   ]
  },
  {
   "cell_type": "code",
   "execution_count": 5,
   "id": "b7f00ecc",
   "metadata": {},
   "outputs": [
    {
     "data": {
      "text/plain": [
       "[10, 16, 24, 39, 47, 32, 89, 47, 76, 12]"
      ]
     },
     "execution_count": 5,
     "metadata": {},
     "output_type": "execute_result"
    }
   ],
   "source": [
    "#concatenação em Python\n",
    "lista1 + lista2"
   ]
  },
  {
   "cell_type": "code",
   "execution_count": 9,
   "id": "f4d97926",
   "metadata": {},
   "outputs": [
    {
     "name": "stdout",
     "output_type": "stream",
     "text": [
      "A soma dos numeros pares das duas listas é igual a 170\n"
     ]
    }
   ],
   "source": [
    "#some os numeros pares da primeira lista com os numeros pares da segunda lista\n",
    "lista1 = [10,16,24,39,47]\n",
    "lista2 = [32,89,47,76,12]\n",
    "soma = 0\n",
    "\n",
    "#loop interno\n",
    "for num in lista1 + lista2:\n",
    "        \n",
    "    #condicional\n",
    "    if num % 2 == 0:\n",
    "            soma += num\n",
    "print('A soma dos numeros pares das duas listas é igual a', soma)"
   ]
  },
  {
   "cell_type": "code",
   "execution_count": 10,
   "id": "933391a6",
   "metadata": {},
   "outputs": [
    {
     "name": "stdout",
     "output_type": "stream",
     "text": [
      "Maior número: 215\n"
     ]
    }
   ],
   "source": [
    "#loop em listas de listas (matrizes) para encotnrar o maior número\n",
    "\n",
    "matriz = [[42,23,34],[100,215,114],[10.1,98.7,12.3]]\n",
    "maior_numero = 0\n",
    "\n",
    "#loop externo\n",
    "for linha in matriz:\n",
    "    \n",
    "    #loop interno\n",
    "    for num in linha:\n",
    "        \n",
    "        #condicional\n",
    "        if num > maior_numero:\n",
    "            maior_numero = num\n",
    "\n",
    "print('Maior número:', maior_numero)"
   ]
  },
  {
   "cell_type": "code",
   "execution_count": 11,
   "id": "d8ddd1ad",
   "metadata": {},
   "outputs": [
    {
     "name": "stdout",
     "output_type": "stream",
     "text": [
      "k1\n",
      "k2\n",
      "k3\n"
     ]
    }
   ],
   "source": [
    "#Listando as chaves de um dicionário\n",
    "dict = {'k1':'Python','k2': 'R', 'k3':'Scala'}\n",
    "for item in dict:\n",
    "    print (item)"
   ]
  },
  {
   "cell_type": "code",
   "execution_count": 12,
   "id": "cda9a715",
   "metadata": {},
   "outputs": [
    {
     "name": "stdout",
     "output_type": "stream",
     "text": [
      "k1 Python\n",
      "k2 R\n",
      "k3 Scala\n"
     ]
    }
   ],
   "source": [
    "#imprimindo chave e valor do dicionário. Usando o metodo items() para retornar os itens de um dicionário\n",
    "for k,v in dict.items():\n",
    "    print (k,v)"
   ]
  },
  {
   "cell_type": "code",
   "execution_count": null,
   "id": "3d2b956e",
   "metadata": {},
   "outputs": [],
   "source": []
  }
 ],
 "metadata": {
  "kernelspec": {
   "display_name": "Python 3 (ipykernel)",
   "language": "python",
   "name": "python3"
  },
  "language_info": {
   "codemirror_mode": {
    "name": "ipython",
    "version": 3
   },
   "file_extension": ".py",
   "mimetype": "text/x-python",
   "name": "python",
   "nbconvert_exporter": "python",
   "pygments_lexer": "ipython3",
   "version": "3.9.13"
  }
 },
 "nbformat": 4,
 "nbformat_minor": 5
}
