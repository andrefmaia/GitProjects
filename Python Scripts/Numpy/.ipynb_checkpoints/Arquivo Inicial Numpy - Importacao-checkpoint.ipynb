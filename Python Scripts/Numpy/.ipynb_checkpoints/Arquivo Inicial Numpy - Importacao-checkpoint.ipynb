{
 "cells": [
  {
   "cell_type": "markdown",
   "id": "86f19a06",
   "metadata": {},
   "source": [
    "### Numppy Objetivos\n",
    "O objeto principal do NumPy é o array multidimensional homogêneo. É uma tabela de elementos (geralmente números), todos do mesmo tipo, indexados por uma tupla de inteiros não negativos. No NumPy, as dimensões são chamadas de axes . \n",
    "Por exemplo, o array para as coordenadas de um ponto no espaço 3D, , tem um eixo. Esse eixo tem 3 elementos nele, então dizemos que ele tem um comprimento de 3. No exemplo mostrado abaixo, o array tem 2 eixos. O primeiro eixo tem um comprimento de 2, o segundo eixo tem um comprimento de 3.[1, 2, 1]\n",
    "\n",
    "[[1., 0., 0.],\n",
    " [0., 1., 2.]]\n"
   ]
  },
  {
   "cell_type": "code",
   "execution_count": 1,
   "id": "1e61e9b5",
   "metadata": {},
   "outputs": [],
   "source": [
    "import numpy as np"
   ]
  },
  {
   "cell_type": "code",
   "execution_count": 4,
   "id": "9c0d13fe",
   "metadata": {},
   "outputs": [
    {
     "data": {
      "text/plain": [
       "array([[ 0,  1,  2,  3,  4],\n",
       "       [ 5,  6,  7,  8,  9],\n",
       "       [10, 11, 12, 13, 14]])"
      ]
     },
     "execution_count": 4,
     "metadata": {},
     "output_type": "execute_result"
    }
   ],
   "source": [
    "#Um um array multidimencional de 15 numeros com 3 linhas e 5 colunas\n",
    "a = np.arange(15).reshape(3, 5)\n",
    "a"
   ]
  },
  {
   "cell_type": "code",
   "execution_count": 6,
   "id": "6aaf4128",
   "metadata": {},
   "outputs": [
    {
     "data": {
      "text/plain": [
       "2"
      ]
     },
     "execution_count": 6,
     "metadata": {},
     "output_type": "execute_result"
    }
   ],
   "source": [
    "#o número de eixos (dimensões) da matriz.\n",
    "a.ndim"
   ]
  },
  {
   "cell_type": "code",
   "execution_count": 7,
   "id": "3d8cef37",
   "metadata": {},
   "outputs": [
    {
     "data": {
      "text/plain": [
       "(3, 5)"
      ]
     },
     "execution_count": 7,
     "metadata": {},
     "output_type": "execute_result"
    }
   ],
   "source": [
    "#Verificando a forma do array. \n",
    "a.shape"
   ]
  },
  {
   "cell_type": "code",
   "execution_count": 8,
   "id": "b467a457",
   "metadata": {},
   "outputs": [
    {
     "data": {
      "text/plain": [
       "15"
      ]
     },
     "execution_count": 8,
     "metadata": {},
     "output_type": "execute_result"
    }
   ],
   "source": [
    "#verificando o tipo de dados\n",
    "a.size"
   ]
  },
  {
   "cell_type": "code",
   "execution_count": 9,
   "id": "097067fb",
   "metadata": {},
   "outputs": [
    {
     "data": {
      "text/plain": [
       "dtype('int32')"
      ]
     },
     "execution_count": 9,
     "metadata": {},
     "output_type": "execute_result"
    }
   ],
   "source": [
    "#verificando o tipo de dados\n",
    "a.dtype"
   ]
  },
  {
   "cell_type": "code",
   "execution_count": 10,
   "id": "9b322570",
   "metadata": {},
   "outputs": [
    {
     "data": {
      "text/plain": [
       "4"
      ]
     },
     "execution_count": 10,
     "metadata": {},
     "output_type": "execute_result"
    }
   ],
   "source": [
    "#tamanho em bytes de cada elemento do array\n",
    "a.itemsize"
   ]
  },
  {
   "cell_type": "code",
   "execution_count": 19,
   "id": "350346d1",
   "metadata": {},
   "outputs": [
    {
     "data": {
      "text/plain": [
       "array([['1', '2', '3'],\n",
       "       ['4', '5', '6']], dtype='<U11')"
      ]
     },
     "execution_count": 19,
     "metadata": {},
     "output_type": "execute_result"
    }
   ],
   "source": [
    "b = np.array([[1,2,3],[4,'5',6]])\n",
    "b"
   ]
  },
  {
   "cell_type": "code",
   "execution_count": 20,
   "id": "ca9422d3",
   "metadata": {},
   "outputs": [
    {
     "data": {
      "text/plain": [
       "dtype('<U11')"
      ]
     },
     "execution_count": 20,
     "metadata": {},
     "output_type": "execute_result"
    }
   ],
   "source": [
    "b.dtype"
   ]
  },
  {
   "cell_type": "code",
   "execution_count": 23,
   "id": "4622d86e",
   "metadata": {},
   "outputs": [
    {
     "data": {
      "text/plain": [
       "dtype('float64')"
      ]
     },
     "execution_count": 23,
     "metadata": {},
     "output_type": "execute_result"
    }
   ],
   "source": [
    "c = np.array([[1,2.2,3],[4,5,6]])\n",
    "c\n",
    "c.dtype"
   ]
  },
  {
   "cell_type": "markdown",
   "id": "9bf12939",
   "metadata": {},
   "source": [
    "## A principal diferença entre uma lista e um array (ou matriz) em NumPy\n",
    "A principal diferença entre uma lista e um array (ou matriz) em NumPy está em como eles são implementados e nas operações que podem ser realizadas com eles. Aqui estão as principais diferenças:\n",
    "### 1. Tipo de Dados\n",
    "- Array (NumPy): Os arrays do NumPy são homogêneos, ou seja, todos os elementos do array devem ser do mesmo tipo de dado (por exemplo, todos inteiros, todos floats, etc.).\n",
    "\n",
    "### 2. Eficiência e Desempenho\n",
    "- Array (NumPy): Arrays do NumPy são mais eficientes para operações matemáticas e científicas porque são implementados em C, o que permite uma manipulação de dados muito mais rápida e eficiente.\n",
    "\n",
    "### 3. Operações Matriciais\n",
    "- Array (NumPy): NumPy permite realizar operações matemáticas diretamente nos arrays de forma element-wise (elemento por elemento) sem a necessidade de loops explícitos. Por exemplo, você pode somar dois arrays ou multiplicá-los diretamente, e o NumPy aplicará a operação a cada par de elementos correspondentes.\n",
    "\n",
    "### 4. Dimensionalidade\n",
    "- Array (NumPy): Arrays do NumPy podem ser unidimensionais, bidimensionais (matrizes), ou até de dimensões superiores, o que é muito útil para operações em álgebra linear, computação científica e aprendizado de máquina.\n",
    "\n",
    "### 5. Funcionalidades Adicionais\n",
    "- Array (NumPy): O NumPy oferece uma vasta gama de funcionalidades adicionais, como funções de álgebra linear, transformações de Fourier, geração de números aleatórios, entre outras, que são projetadas especificamente para trabalhar com arrays.\n",
    "\n",
    "\n",
    "### Exemplo:\n",
    "import numpy as np\n",
    "\n",
    "lista = [1, 2, 3]\n",
    "array = np.array([1, 2, 3])\n",
    "\n",
    "# Soma de listas (não funciona diretamente)\n",
    "soma_lista = [x + y for x, y in zip(lista, lista)]\n",
    "\n",
    "# Soma de arrays (funciona diretamente)\n",
    "soma_array = array + array\n",
    "\n",
    "print(\"Soma Lista:\", soma_lista)  # Output: [2, 4, 6]\n",
    "print(\"Soma Array:\", soma_array)  # Output: [2, 4, 6]\n"
   ]
  },
  {
   "cell_type": "code",
   "execution_count": 28,
   "id": "70dca27e",
   "metadata": {},
   "outputs": [
    {
     "data": {
      "text/plain": [
       "[1, 2, 3]"
      ]
     },
     "execution_count": 28,
     "metadata": {},
     "output_type": "execute_result"
    }
   ],
   "source": [
    "#criando uma lista\n",
    "lista = [1, 2, 3]\n",
    "lista"
   ]
  },
  {
   "cell_type": "code",
   "execution_count": 30,
   "id": "bf1941be",
   "metadata": {},
   "outputs": [
    {
     "data": {
      "text/plain": [
       "array([1, 2, 3, 4, 5])"
      ]
     },
     "execution_count": 30,
     "metadata": {},
     "output_type": "execute_result"
    }
   ],
   "source": [
    "a = np.array([1, 2, 3,4,5])\n",
    "a"
   ]
  },
  {
   "cell_type": "code",
   "execution_count": 32,
   "id": "fdba9dda",
   "metadata": {},
   "outputs": [
    {
     "data": {
      "text/plain": [
       "array([0., 0.])"
      ]
     },
     "execution_count": 32,
     "metadata": {},
     "output_type": "execute_result"
    }
   ],
   "source": [
    "#Criando um array de zeros\n",
    "np.zeros((2))"
   ]
  },
  {
   "cell_type": "code",
   "execution_count": 35,
   "id": "71720c28",
   "metadata": {},
   "outputs": [
    {
     "data": {
      "text/plain": [
       "array([[0., 0., 0., 0.],\n",
       "       [0., 0., 0., 0.],\n",
       "       [0., 0., 0., 0.]])"
      ]
     },
     "execution_count": 35,
     "metadata": {},
     "output_type": "execute_result"
    }
   ],
   "source": [
    "#Criando um array de zeros(x,y) --> (x = linhas , y = colunas)\n",
    "np.zeros((3, 4))"
   ]
  },
  {
   "cell_type": "code",
   "execution_count": 37,
   "id": "9d20dba3",
   "metadata": {},
   "outputs": [
    {
     "data": {
      "text/plain": [
       "array([[[1., 1., 1., 1.],\n",
       "        [1., 1., 1., 1.],\n",
       "        [1., 1., 1., 1.]],\n",
       "\n",
       "       [[1., 1., 1., 1.],\n",
       "        [1., 1., 1., 1.],\n",
       "        [1., 1., 1., 1.]]])"
      ]
     },
     "execution_count": 37,
     "metadata": {},
     "output_type": "execute_result"
    }
   ],
   "source": [
    "#criando 2 arrays com valor 1. Com com 3 linhas e 4 colunas \n",
    "np.ones((2, 3, 4))"
   ]
  },
  {
   "cell_type": "code",
   "execution_count": 38,
   "id": "3be284b3",
   "metadata": {},
   "outputs": [
    {
     "data": {
      "text/plain": [
       "array([0, 1, 2, 3])"
      ]
     },
     "execution_count": 38,
     "metadata": {},
     "output_type": "execute_result"
    }
   ],
   "source": [
    "#array com um intervalo de valores\n",
    "np.arange(4)"
   ]
  },
  {
   "cell_type": "code",
   "execution_count": 43,
   "id": "a1a27a48",
   "metadata": {},
   "outputs": [
    {
     "data": {
      "text/plain": [
       "array([ 4,  5,  6,  7,  8,  9, 10])"
      ]
     },
     "execution_count": 43,
     "metadata": {},
     "output_type": "execute_result"
    }
   ],
   "source": [
    "#array com um intervalo de valores o ultimo valor é exclusivo\n",
    "np.arange(4,11)"
   ]
  },
  {
   "cell_type": "code",
   "execution_count": 47,
   "id": "12596e52",
   "metadata": {},
   "outputs": [
    {
     "data": {
      "text/plain": [
       "array([ 0,  5, 10, 15, 20])"
      ]
     },
     "execution_count": 47,
     "metadata": {},
     "output_type": "execute_result"
    }
   ],
   "source": [
    "#array com um intervalo de valores passo de 5\n",
    "np.arange(0,21, 5)"
   ]
  },
  {
   "cell_type": "code",
   "execution_count": 51,
   "id": "26d451a3",
   "metadata": {},
   "outputs": [
    {
     "data": {
      "text/plain": [
       "array([20, 18, 16, 14, 12, 10,  8,  6,  4,  2])"
      ]
     },
     "execution_count": 51,
     "metadata": {},
     "output_type": "execute_result"
    }
   ],
   "source": [
    "#array com um intervalo de valores passo de 5 na ordem inversa\n",
    "np.arange(20,0, -2)"
   ]
  },
  {
   "cell_type": "code",
   "execution_count": 53,
   "id": "819ef7d8",
   "metadata": {},
   "outputs": [
    {
     "data": {
      "text/plain": [
       "array([16.  , 17.25, 18.5 , 19.75, 21.  ])"
      ]
     },
     "execution_count": 53,
     "metadata": {},
     "output_type": "execute_result"
    }
   ],
   "source": [
    "#array com um intervalo de grupo valores \n",
    "np.linspace(16, 21, 5)  "
   ]
  },
  {
   "cell_type": "code",
   "execution_count": 55,
   "id": "717693ff",
   "metadata": {},
   "outputs": [
    {
     "data": {
      "text/plain": [
       "array([[ 0,  1,  2,  3,  4],\n",
       "       [ 5,  6,  7,  8,  9],\n",
       "       [10, 11, 12, 13, 14]])"
      ]
     },
     "execution_count": 55,
     "metadata": {},
     "output_type": "execute_result"
    }
   ],
   "source": [
    "b = np.arange(15).reshape(3, 5) \n",
    "b"
   ]
  },
  {
   "cell_type": "code",
   "execution_count": 60,
   "id": "f2486e20",
   "metadata": {},
   "outputs": [
    {
     "data": {
      "text/plain": [
       "array([0, 1, 2, 3, 4])"
      ]
     },
     "execution_count": 60,
     "metadata": {},
     "output_type": "execute_result"
    }
   ],
   "source": [
    "#buscando os dados da primeira linha\n",
    "b[0]\n"
   ]
  },
  {
   "cell_type": "code",
   "execution_count": 59,
   "id": "072c6127",
   "metadata": {},
   "outputs": [
    {
     "data": {
      "text/plain": [
       "array([5, 6, 7, 8, 9])"
      ]
     },
     "execution_count": 59,
     "metadata": {},
     "output_type": "execute_result"
    }
   ],
   "source": [
    "#buscando os dados da segynda linha\n",
    "b[1]"
   ]
  },
  {
   "cell_type": "code",
   "execution_count": 62,
   "id": "01345ae7",
   "metadata": {},
   "outputs": [
    {
     "data": {
      "text/plain": [
       "8"
      ]
     },
     "execution_count": 62,
     "metadata": {},
     "output_type": "execute_result"
    }
   ],
   "source": [
    "#buscando os dados da segunda linha 4 elemento\n",
    "#lembrando que a contagem dos indices começa com zero\n",
    "b[1,3]"
   ]
  },
  {
   "cell_type": "code",
   "execution_count": 64,
   "id": "1f6b758a",
   "metadata": {},
   "outputs": [
    {
     "data": {
      "text/plain": [
       "14"
      ]
     },
     "execution_count": 64,
     "metadata": {},
     "output_type": "execute_result"
    }
   ],
   "source": [
    "b[2,4]"
   ]
  },
  {
   "cell_type": "code",
   "execution_count": 65,
   "id": "73836c75",
   "metadata": {},
   "outputs": [
    {
     "data": {
      "text/plain": [
       "4"
      ]
     },
     "execution_count": 65,
     "metadata": {},
     "output_type": "execute_result"
    }
   ],
   "source": [
    "#buscando por intervalo de valores\n",
    "b[0][4]"
   ]
  },
  {
   "cell_type": "code",
   "execution_count": 66,
   "id": "35eef777",
   "metadata": {},
   "outputs": [
    {
     "data": {
      "text/plain": [
       "9"
      ]
     },
     "execution_count": 66,
     "metadata": {},
     "output_type": "execute_result"
    }
   ],
   "source": [
    "#buscando por intervalo de valores\n",
    "b[1][4]"
   ]
  },
  {
   "cell_type": "code",
   "execution_count": 72,
   "id": "5d8e81bb",
   "metadata": {},
   "outputs": [
    {
     "data": {
      "text/plain": [
       "array([6, 7, 8, 9])"
      ]
     },
     "execution_count": 72,
     "metadata": {},
     "output_type": "execute_result"
    }
   ],
   "source": [
    "#uscando elementos de ince 1 a 4 na segunda linha\n",
    "b[1][1:5]"
   ]
  },
  {
   "cell_type": "code",
   "execution_count": 74,
   "id": "580dbe6d",
   "metadata": {},
   "outputs": [
    {
     "data": {
      "text/plain": [
       "array([ 6,  7,  8,  9, 10, 11, 12, 13, 14])"
      ]
     },
     "execution_count": 74,
     "metadata": {},
     "output_type": "execute_result"
    }
   ],
   "source": [
    "#buscando valores > 5\n",
    "b[b>5]"
   ]
  },
  {
   "cell_type": "code",
   "execution_count": 76,
   "id": "b8b7926c",
   "metadata": {},
   "outputs": [
    {
     "data": {
      "text/plain": [
       "array([ 6,  7,  8,  9, 10, 11, 12])"
      ]
     },
     "execution_count": 76,
     "metadata": {},
     "output_type": "execute_result"
    }
   ],
   "source": [
    "# buscando valores com operações logicas ou\n",
    "soma = b[(b > 5) & (b<13)]\n",
    "soma"
   ]
  },
  {
   "cell_type": "code",
   "execution_count": 78,
   "id": "28d7789e",
   "metadata": {},
   "outputs": [
    {
     "data": {
      "text/plain": [
       "63"
      ]
     },
     "execution_count": 78,
     "metadata": {},
     "output_type": "execute_result"
    }
   ],
   "source": [
    "#somar todos os valores .sum\n",
    "soma.sum()"
   ]
  },
  {
   "cell_type": "code",
   "execution_count": 79,
   "id": "6d264373",
   "metadata": {},
   "outputs": [
    {
     "data": {
      "text/plain": [
       "array([15, 18, 21, 24, 27])"
      ]
     },
     "execution_count": 79,
     "metadata": {},
     "output_type": "execute_result"
    }
   ],
   "source": [
    "#somar os valores das colunas (axis=0)\n",
    "\n",
    "b.sum(axis=0)"
   ]
  },
  {
   "cell_type": "code",
   "execution_count": 80,
   "id": "d1518062",
   "metadata": {},
   "outputs": [
    {
     "data": {
      "text/plain": [
       "array([10, 35, 60])"
      ]
     },
     "execution_count": 80,
     "metadata": {},
     "output_type": "execute_result"
    }
   ],
   "source": [
    "#somar os valores das linhas sum(axis=1)\n",
    "b.sum(axis=1)"
   ]
  },
  {
   "cell_type": "code",
   "execution_count": 81,
   "id": "5574ed8d",
   "metadata": {},
   "outputs": [
    {
     "data": {
      "text/plain": [
       "array([[ 2,  3,  4,  5,  6],\n",
       "       [ 7,  8,  9, 10, 11],\n",
       "       [12, 13, 14, 15, 16]])"
      ]
     },
     "execution_count": 81,
     "metadata": {},
     "output_type": "execute_result"
    }
   ],
   "source": [
    "b + 2"
   ]
  },
  {
   "cell_type": "code",
   "execution_count": 82,
   "id": "2aeb32fa",
   "metadata": {},
   "outputs": [
    {
     "data": {
      "text/plain": [
       "array([[ 0,  2,  4,  6,  8],\n",
       "       [10, 12, 14, 16, 18],\n",
       "       [20, 22, 24, 26, 28]])"
      ]
     },
     "execution_count": 82,
     "metadata": {},
     "output_type": "execute_result"
    }
   ],
   "source": [
    "b * 2"
   ]
  },
  {
   "cell_type": "code",
   "execution_count": null,
   "id": "f895f62d",
   "metadata": {},
   "outputs": [],
   "source": []
  }
 ],
 "metadata": {
  "kernelspec": {
   "display_name": "Python 3 (ipykernel)",
   "language": "python",
   "name": "python3"
  },
  "language_info": {
   "codemirror_mode": {
    "name": "ipython",
    "version": 3
   },
   "file_extension": ".py",
   "mimetype": "text/x-python",
   "name": "python",
   "nbconvert_exporter": "python",
   "pygments_lexer": "ipython3",
   "version": "3.9.13"
  }
 },
 "nbformat": 4,
 "nbformat_minor": 5
}
