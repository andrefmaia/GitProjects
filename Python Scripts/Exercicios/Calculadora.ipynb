{
 "cells": [
  {
   "cell_type": "markdown",
   "id": "5cc87727",
   "metadata": {},
   "source": [
    "## Calculadora Py"
   ]
  },
  {
   "cell_type": "code",
   "execution_count": null,
   "id": "1e62fa85",
   "metadata": {},
   "outputs": [],
   "source": [
    "\n"
   ]
  },
  {
   "cell_type": "code",
   "execution_count": null,
   "id": "e7933566",
   "metadata": {},
   "outputs": [],
   "source": [
    "\n",
    "\n"
   ]
  },
  {
   "cell_type": "code",
   "execution_count": 14,
   "id": "538c2942",
   "metadata": {},
   "outputs": [
    {
     "name": "stdout",
     "output_type": "stream",
     "text": [
      "************ Calculadora em Py *****************\n",
      "Selecione o número da operação desejada:\n",
      "1. Adição\n",
      "2. Subtração\n",
      "3. Multiplicação\n",
      "4. Divisão\n",
      "Digite o número da operação desejada: ( 1 / 2 / 3 / 4): 3\n",
      "Digite o primeiro número: 10\n",
      "Digite o segundo número: 10\n",
      "10.0 x 10.0 = 100.0\n"
     ]
    }
   ],
   "source": [
    "#Funcções de operações\n",
    "def adicao(x, y):\n",
    "    return x + y\n",
    "\n",
    "def subtracao(x, y):\n",
    "    return x - y\n",
    "\n",
    "def multiplicacao(x, y):\n",
    "    return x * y\n",
    "\n",
    "def divisao(x, y):\n",
    "    if y != 0:\n",
    "        return x / y\n",
    "    else:\n",
    "        return \"Erro: Divisão por zero!\"\n",
    "\n",
    "# Função principal\n",
    "\n",
    "def calculadora():\n",
    "    print(\"************ Calculadora em Py *****************\")\n",
    "    print('Selecione o número da operação desejada:')\n",
    "    print(\"1. Adição\")\n",
    "    print(\"2. Subtração\")\n",
    "    print(\"3. Multiplicação\")\n",
    "    print(\"4. Divisão\")\n",
    "\n",
    "    escolha = input(\"Digite o número da operação desejada: ( 1 / 2 / 3 / 4): \")\n",
    "\n",
    "    num1 = float(input(\"Digite o primeiro número: \"))\n",
    "    num2 = float(input(\"Digite o segundo número: \"))\n",
    "\n",
    "    if escolha == '1':\n",
    "        print(num1, \"+\", num2, \"=\", adicao(num1, num2))\n",
    "    elif escolha == '2':\n",
    "        print(num1, \"-\", num2, \"=\", subtracao(num1, num2))\n",
    "    elif escolha == '3':\n",
    "        print(num1, \"x\", num2, \"=\", multiplicacao(num1, num2))\n",
    "    elif escolha == '4':\n",
    "        print(num1, \"/\", num2, \"=\", divisao(num1, num2))\n",
    "    else:\n",
    "        print(\"Opção inválida!\")\n",
    "\n",
    "# Chamando a função da calculadora\n",
    "calculadora()"
   ]
  },
  {
   "cell_type": "code",
   "execution_count": null,
   "id": "d5359668",
   "metadata": {},
   "outputs": [],
   "source": []
  }
 ],
 "metadata": {
  "kernelspec": {
   "display_name": "Python 3 (ipykernel)",
   "language": "python",
   "name": "python3"
  },
  "language_info": {
   "codemirror_mode": {
    "name": "ipython",
    "version": 3
   },
   "file_extension": ".py",
   "mimetype": "text/x-python",
   "name": "python",
   "nbconvert_exporter": "python",
   "pygments_lexer": "ipython3",
   "version": "3.9.13"
  }
 },
 "nbformat": 4,
 "nbformat_minor": 5
}
