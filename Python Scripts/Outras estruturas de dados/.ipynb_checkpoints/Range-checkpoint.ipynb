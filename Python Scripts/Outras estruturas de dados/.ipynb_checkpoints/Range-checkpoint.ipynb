{
 "cells": [
  {
   "cell_type": "markdown",
   "id": "db62aaec",
   "metadata": {},
   "source": [
    "# Range\n",
    "\n",
    "### Estrutura:\n",
    "- range(tamanho)\n",
    "\n",
    "ou \n",
    "\n",
    "- range(inicio, fim)\n",
    "\n",
    "ou \n",
    "\n",
    "- range(inicio, fim, passo)"
   ]
  },
  {
   "cell_type": "code",
   "execution_count": 2,
   "id": "553d4086",
   "metadata": {},
   "outputs": [
    {
     "name": "stdout",
     "output_type": "stream",
     "text": [
      "arroz: 50 unidades em estoque \n",
      "feijao: 100 unidades em estoque \n",
      "macarrão: 20 unidades em estoque \n",
      "atum: 5 unidades em estoque \n",
      "azeite: 80 unidades em estoque \n"
     ]
    }
   ],
   "source": [
    "#uso mais comum no for:\n",
    "produtos = ['arroz', 'feijao', 'macarrão', 'atum', 'azeite']\n",
    "estoque = [50, 100, 20, 5, 80]\n",
    "\n",
    "for i in range(5):\n",
    "    print('{}: {} unidades em estoque '.format(produtos[i], estoque[i]))"
   ]
  },
  {
   "cell_type": "code",
   "execution_count": 3,
   "id": "b90fb68b",
   "metadata": {},
   "outputs": [
    {
     "name": "stdout",
     "output_type": "stream",
     "text": [
      "range(1, 10)\n",
      "1\n",
      "2\n",
      "3\n",
      "4\n",
      "5\n",
      "6\n",
      "7\n",
      "8\n",
      "9\n"
     ]
    }
   ],
   "source": [
    "#range com inicio e fim\n",
    "#o 10 é o excludente\n",
    "print (range(1,10))\n",
    "\n",
    "#vamos olhar no for para entender\n",
    "for i in range(1,10): \n",
    "    print(i)"
   ]
  },
  {
   "cell_type": "markdown",
   "id": "c681bc3b",
   "metadata": {},
   "source": [
    "# \n",
    "1. Classe A: 10% melhor\n",
    "2. Classe B: 80% mantém / busca melhorar\n",
    "3. Classe C: 10% pior\n",
    "\n",
    "Quem são os funcionário casse B?"
   ]
  },
  {
   "cell_type": "code",
   "execution_count": 6,
   "id": "77090983",
   "metadata": {},
   "outputs": [
    {
     "name": "stdout",
     "output_type": "stream",
     "text": [
      "Funcionários Classe B\n",
      "Funcionario: Antônio vendeu 1500 unidades.\n",
      "Funcionario: Francisco vendeu 1200 unidades.\n",
      "Funcionario: Ana vendeu 1111 unidades.\n",
      "Funcionario: Luiz vendeu 1100 unidades.\n",
      "Funcionario: Paulo vendeu 999 unidades.\n",
      "Funcionario: Carlos vendeu 900 unidades.\n",
      "Funcionario: Manoel vendeu 880 unidades.\n",
      "Funcionario: Pedro vendeu 870 unidades.\n",
      "Funcionario: Francisco José vendeu 800 unidades.\n",
      "Funcionario: Maria Manoela vendeu 800 unidades.\n",
      "Funcionario: Andre vendeu 450 unidades.\n",
      "Funcionario: Fabio vendeu 400 unidades.\n",
      "Funcionario: Edson vendeu 300 unidades.\n",
      "Funcionario: Miguel vendeu 300 unidades.\n",
      "Funcionario: Veronica vendeu 120 unidades.\n",
      "Funcionario: Sonia vendeu 90 unidades.\n"
     ]
    }
   ],
   "source": [
    "funcionarios = [ 'Maria', 'José', 'Antônio', 'Francisco', 'Ana', 'Luiz', 'Paulo', 'Carlos', 'Manoel', 'Pedro', 'Francisco José', 'Maria Manoela', 'Andre', 'Fabio', 'Edson', 'Miguel', 'Veronica', 'Sonia', 'Edson', 'Fabiana']\n",
    "vendas = [2750, 1900, 1500, 1200, 1111, 1100, 999, 900, 880, 870, 800, 800, 450, 400, 300, 300, 120, 90, 80, 70]\n",
    "\n",
    "print('Funcionários Classe B')\n",
    "for i in range(2, 18):\n",
    "    print('Funcionario: {} vendeu {} unidades.'.format(funcionarios[i], vendas[i]))"
   ]
  },
  {
   "cell_type": "code",
   "execution_count": 9,
   "id": "ee2fe8ab",
   "metadata": {},
   "outputs": [
    {
     "name": "stdout",
     "output_type": "stream",
     "text": [
      "range(0, 10, 2)\n",
      "0\n",
      "10\n",
      "20\n",
      "30\n",
      "40\n",
      "50\n",
      "60\n",
      "70\n",
      "80\n",
      "90\n",
      "100\n",
      "110\n",
      "120\n",
      "130\n",
      "140\n",
      "150\n",
      "160\n",
      "170\n",
      "180\n",
      "190\n",
      "200\n",
      "210\n",
      "220\n",
      "230\n",
      "240\n",
      "250\n",
      "260\n",
      "270\n",
      "280\n",
      "290\n",
      "300\n",
      "310\n",
      "320\n",
      "330\n",
      "340\n",
      "350\n",
      "360\n",
      "370\n",
      "380\n",
      "390\n",
      "400\n",
      "410\n",
      "420\n",
      "430\n",
      "440\n",
      "450\n",
      "460\n",
      "470\n",
      "480\n",
      "490\n",
      "500\n",
      "510\n",
      "520\n",
      "530\n",
      "540\n",
      "550\n",
      "560\n",
      "570\n",
      "580\n",
      "590\n",
      "600\n",
      "610\n",
      "620\n",
      "630\n",
      "640\n",
      "650\n",
      "660\n",
      "670\n",
      "680\n",
      "690\n",
      "700\n",
      "710\n",
      "720\n",
      "730\n",
      "740\n",
      "750\n",
      "760\n",
      "770\n",
      "780\n",
      "790\n",
      "800\n",
      "810\n",
      "820\n",
      "830\n",
      "840\n",
      "850\n",
      "860\n",
      "870\n",
      "880\n",
      "890\n",
      "900\n",
      "910\n",
      "920\n",
      "930\n",
      "940\n",
      "950\n",
      "960\n",
      "970\n",
      "980\n",
      "990\n"
     ]
    }
   ],
   "source": [
    "#range com passo\n",
    "print(range(0, 10, 2))\n",
    "\n",
    "for i in range(0, 1000, 10):\n",
    "    print(i)"
   ]
  },
  {
   "cell_type": "code",
   "execution_count": null,
   "id": "a870858a",
   "metadata": {},
   "outputs": [],
   "source": []
  },
  {
   "cell_type": "code",
   "execution_count": null,
   "id": "407c4bf9",
   "metadata": {},
   "outputs": [],
   "source": []
  }
 ],
 "metadata": {
  "kernelspec": {
   "display_name": "Python 3 (ipykernel)",
   "language": "python",
   "name": "python3"
  },
  "language_info": {
   "codemirror_mode": {
    "name": "ipython",
    "version": 3
   },
   "file_extension": ".py",
   "mimetype": "text/x-python",
   "name": "python",
   "nbconvert_exporter": "python",
   "pygments_lexer": "ipython3",
   "version": "3.9.13"
  }
 },
 "nbformat": 4,
 "nbformat_minor": 5
}
