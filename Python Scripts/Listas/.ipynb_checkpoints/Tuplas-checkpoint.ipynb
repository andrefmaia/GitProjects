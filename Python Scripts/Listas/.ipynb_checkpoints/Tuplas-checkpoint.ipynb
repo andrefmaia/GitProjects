{
 "cells": [
  {
   "cell_type": "markdown",
   "id": "1b5dba59",
   "metadata": {},
   "source": [
    "## Tuplas"
   ]
  },
  {
   "cell_type": "markdown",
   "id": "661f51f3",
   "metadata": {},
   "source": [
    "### Estrutura\n",
    "\n",
    "tupla = (valor, valor, valor)"
   ]
  },
  {
   "cell_type": "markdown",
   "id": "da3c4fb0",
   "metadata": {},
   "source": [
    "### Diferenca --> parece uma lista, mas é imutável\n",
    "\n",
    "### Vantagens\n",
    "Mais eficiente (em termos de performace)\n",
    "protege a base de dados)\n",
    "Muito usado para dados heterogêneos\n",
    "\n",
    "## Criando Tuplas"
   ]
  },
  {
   "cell_type": "code",
   "execution_count": 2,
   "id": "ef2e5cac",
   "metadata": {},
   "outputs": [],
   "source": [
    "vendas = ('André Maia', '25/08/2020', '15/02/2014', 2000, 'Analista de Vendas')"
   ]
  },
  {
   "cell_type": "markdown",
   "id": "6b568c18",
   "metadata": {},
   "source": [
    "### Acessando o valor de uma tupla"
   ]
  },
  {
   "cell_type": "code",
   "execution_count": 4,
   "id": "67bbf6ef",
   "metadata": {},
   "outputs": [],
   "source": [
    "nome = vendas[0]\n",
    "data_contratacao = vendas[1]\n",
    "data_nascimento = vendas [2]\n",
    "salario = vendas[3]\n",
    "cargo = vendas[4]"
   ]
  },
  {
   "cell_type": "code",
   "execution_count": 12,
   "id": "b6ade5e6",
   "metadata": {},
   "outputs": [],
   "source": [
    "nome, data_contratacao, data_nascimento, salario, cargo = vendas"
   ]
  },
  {
   "cell_type": "code",
   "execution_count": 5,
   "id": "ddab6c36",
   "metadata": {},
   "outputs": [
    {
     "data": {
      "text/plain": [
       "'15/02/2014'"
      ]
     },
     "execution_count": 5,
     "metadata": {},
     "output_type": "execute_result"
    }
   ],
   "source": [
    "data_nascimento"
   ]
  },
  {
   "cell_type": "code",
   "execution_count": 6,
   "id": "ed80bb7f",
   "metadata": {},
   "outputs": [],
   "source": [
    "salario = 2030"
   ]
  },
  {
   "cell_type": "code",
   "execution_count": 7,
   "id": "50c6b09a",
   "metadata": {},
   "outputs": [
    {
     "data": {
      "text/plain": [
       "2030"
      ]
     },
     "execution_count": 7,
     "metadata": {},
     "output_type": "execute_result"
    }
   ],
   "source": [
    "salario"
   ]
  },
  {
   "cell_type": "code",
   "execution_count": 13,
   "id": "379d49d2",
   "metadata": {},
   "outputs": [
    {
     "name": "stdout",
     "output_type": "stream",
     "text": [
      "O funcionário André Maia, nascido em 15/02/2014, foi contratado em 25/08/2020 com salário de 2000 no cargo de Analista de Vendas\n"
     ]
    }
   ],
   "source": [
    "print('O funcionário {}, nascido em {}, foi contratado em {} com salário de {} no cargo de {}'.format(nome, data_nascimento, data_contratacao, salario, cargo))"
   ]
  },
  {
   "cell_type": "markdown",
   "id": "d06eb46a",
   "metadata": {},
   "source": [
    "### o enumerate cria uma tupla."
   ]
  },
  {
   "cell_type": "code",
   "execution_count": 14,
   "id": "9308855d",
   "metadata": {},
   "outputs": [
    {
     "name": "stdout",
     "output_type": "stream",
     "text": [
      "Flavia vendeu, 1000 unidades\n",
      "Andre vendeu, 2000 unidades\n",
      "Sonia vendeu, 300 unidades\n",
      "Maria vendeu, 300 unidades\n",
      "Fabio vendeu, 150 unidades\n"
     ]
    }
   ],
   "source": [
    "vendas = [1000, 2000, 300, 300, 150]\n",
    "funcionarios = [ 'Flavia', 'Andre', 'Sonia', 'Maria', 'Fabio']\n",
    "\n",
    "for i, venda in enumerate(vendas):\n",
    "    print('{} vendeu, {} unidades'. format(funcionarios[i], venda))"
   ]
  },
  {
   "cell_type": "code",
   "execution_count": null,
   "id": "70d223b1",
   "metadata": {},
   "outputs": [],
   "source": []
  },
  {
   "cell_type": "code",
   "execution_count": null,
   "id": "704c091d",
   "metadata": {},
   "outputs": [],
   "source": []
  }
 ],
 "metadata": {
  "kernelspec": {
   "display_name": "Python 3 (ipykernel)",
   "language": "python",
   "name": "python3"
  },
  "language_info": {
   "codemirror_mode": {
    "name": "ipython",
    "version": 3
   },
   "file_extension": ".py",
   "mimetype": "text/x-python",
   "name": "python",
   "nbconvert_exporter": "python",
   "pygments_lexer": "ipython3",
   "version": "3.9.13"
  }
 },
 "nbformat": 4,
 "nbformat_minor": 5
}
