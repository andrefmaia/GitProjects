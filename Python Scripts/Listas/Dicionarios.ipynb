{
 "cells": [
  {
   "cell_type": "markdown",
   "id": "e5e163c1",
   "metadata": {},
   "source": [
    "# Dicionários em Python\n",
    "\n",
    "## Estrutura:\n",
    "\n",
    "dicionario = { chave: valor, chave: valor; chave: valor ....}\n",
    "Vantagens e desvantagens\n",
    "\n",
    "- Não devem ser usados para pegar itens em um determinada ordem\n",
    "- Podem ter valores heterogêneos\n",
    "- Chaves são unicas obrigatoriamente\n",
    "- Mais intuitivos de trabalhar"
   ]
  },
  {
   "cell_type": "code",
   "execution_count": 1,
   "id": "98a58af2",
   "metadata": {},
   "outputs": [],
   "source": [
    "mais_vendidos = {'tecnologia': 'iphone', 'refrigeracao': 'ar consul 12000 btu', 'livros': 'o alquimista', 'eletrodomestico': 'Geladeira Consul Free'}\n",
    "vendas_tecnologia = {'iphone': 15000, 'samsung galaxy': 12000, 'tv samsung': 10000, 'ps5': 14300, 'tablet': 1720, 'ipad': 1200}"
   ]
  },
  {
   "cell_type": "markdown",
   "id": "2d36bfad",
   "metadata": {},
   "source": [
    "- qual foi o item mais vendido nas categorias 'livros' e 'lazer'?\n",
    "\n",
    "- Quanto foi vendido de 'notebook asus' e de 'ipad'?"
   ]
  },
  {
   "cell_type": "code",
   "execution_count": 8,
   "id": "7051ee58",
   "metadata": {},
   "outputs": [
    {
     "name": "stdout",
     "output_type": "stream",
     "text": [
      "o alquimista\n",
      "Geladeira Consul Free\n"
     ]
    }
   ],
   "source": [
    "livro = mais_vendidos['livros']\n",
    "eletrodomesticos = mais_vendidos['eletrodomestico']\n",
    "print(livro)\n",
    "print(eletrodomesticos)"
   ]
  },
  {
   "cell_type": "markdown",
   "id": "e34414f8",
   "metadata": {},
   "source": [
    "# ----------------------------------------------"
   ]
  },
  {
   "cell_type": "code",
   "execution_count": 2,
   "id": "589cefc5",
   "metadata": {},
   "outputs": [],
   "source": [
    "qtde_iphone = vendas_tecnologia['iphone']"
   ]
  },
  {
   "cell_type": "code",
   "execution_count": 3,
   "id": "5f341e90",
   "metadata": {},
   "outputs": [
    {
     "name": "stdout",
     "output_type": "stream",
     "text": [
      "15000\n"
     ]
    }
   ],
   "source": [
    "print(qtde_iphone)"
   ]
  },
  {
   "cell_type": "code",
   "execution_count": 5,
   "id": "dbd4e442",
   "metadata": {},
   "outputs": [
    {
     "name": "stdout",
     "output_type": "stream",
     "text": [
      "14300\n"
     ]
    }
   ],
   "source": [
    "qtde_ps5 = vendas_tecnologia['ps5']\n",
    "print(qtde_ps5)"
   ]
  },
  {
   "cell_type": "markdown",
   "id": "33d731a1",
   "metadata": {},
   "source": [
    "# Para um dicionário o recomendado é pegar pela chave e não pelo indíce"
   ]
  },
  {
   "cell_type": "code",
   "execution_count": 21,
   "id": "edf239d6",
   "metadata": {},
   "outputs": [],
   "source": [
    "#Isso é uma lista\n",
    "estudantes_lst = ['Pedro', 24, \"Ana\", 22, \"Ronaldo\", 26, \"Janaína\", 25]"
   ]
  },
  {
   "cell_type": "code",
   "execution_count": 24,
   "id": "d1fac67a",
   "metadata": {},
   "outputs": [],
   "source": [
    "del estudantes_lst"
   ]
  },
  {
   "cell_type": "code",
   "execution_count": 3,
   "id": "745caa4c",
   "metadata": {},
   "outputs": [
    {
     "data": {
      "text/plain": [
       "list"
      ]
     },
     "execution_count": 3,
     "metadata": {},
     "output_type": "execute_result"
    }
   ],
   "source": [
    "type(estudantes_lst)"
   ]
  },
  {
   "cell_type": "code",
   "execution_count": 25,
   "id": "855bf5ee",
   "metadata": {},
   "outputs": [],
   "source": [
    "estudantes = {'Pedro':24, \"Ana\":22, \"Ronaldo\":26, \"Janaina\":25}"
   ]
  },
  {
   "cell_type": "code",
   "execution_count": 5,
   "id": "35f71149",
   "metadata": {},
   "outputs": [
    {
     "data": {
      "text/plain": [
       "{'Pedro': 24, 'Ana': 22, 'Ronaldo': 26, 'Janaina': 25}"
      ]
     },
     "execution_count": 5,
     "metadata": {},
     "output_type": "execute_result"
    }
   ],
   "source": [
    "estudantes_dict"
   ]
  },
  {
   "cell_type": "code",
   "execution_count": 6,
   "id": "ae4d3d9e",
   "metadata": {},
   "outputs": [
    {
     "data": {
      "text/plain": [
       "24"
      ]
     },
     "execution_count": 6,
     "metadata": {},
     "output_type": "execute_result"
    }
   ],
   "source": [
    "estudantes_dict['Pedro']"
   ]
  },
  {
   "cell_type": "code",
   "execution_count": 7,
   "id": "efd02e2e",
   "metadata": {},
   "outputs": [
    {
     "ename": "TypeError",
     "evalue": "can only concatenate str (not \"int\") to str",
     "output_type": "error",
     "traceback": [
      "\u001b[1;31m---------------------------------------------------------------------------\u001b[0m",
      "\u001b[1;31mTypeError\u001b[0m                                 Traceback (most recent call last)",
      "\u001b[1;32m~\\AppData\\Local\\Temp\\ipykernel_7976\\562035232.py\u001b[0m in \u001b[0;36m<module>\u001b[1;34m\u001b[0m\n\u001b[1;32m----> 1\u001b[1;33m \u001b[0mprint\u001b[0m\u001b[1;33m(\u001b[0m\u001b[1;34m'A idade do Pedro é:'\u001b[0m \u001b[1;33m+\u001b[0m\u001b[0mestudantes_dict\u001b[0m\u001b[1;33m[\u001b[0m\u001b[1;34m'Pedro'\u001b[0m\u001b[1;33m]\u001b[0m\u001b[1;33m)\u001b[0m\u001b[1;33m\u001b[0m\u001b[1;33m\u001b[0m\u001b[0m\n\u001b[0m",
      "\u001b[1;31mTypeError\u001b[0m: can only concatenate str (not \"int\") to str"
     ]
    }
   ],
   "source": [
    "print('A idade do Pedro é:' +estudantes_dict['Pedro'])"
   ]
  },
  {
   "cell_type": "code",
   "execution_count": 8,
   "id": "30f449ec",
   "metadata": {},
   "outputs": [
    {
     "name": "stdout",
     "output_type": "stream",
     "text": [
      "24\n"
     ]
    }
   ],
   "source": [
    "print(estudantes_dict['Pedro'])"
   ]
  },
  {
   "cell_type": "code",
   "execution_count": 14,
   "id": "28b4364e",
   "metadata": {},
   "outputs": [
    {
     "name": "stdout",
     "output_type": "stream",
     "text": [
      "A idade do Pedro é  24 anos.\n"
     ]
    }
   ],
   "source": [
    "print('A idade do Pedro é ',estudantes_dict['Pedro'], 'anos.')"
   ]
  },
  {
   "cell_type": "code",
   "execution_count": 15,
   "id": "ec28edf4",
   "metadata": {},
   "outputs": [],
   "source": [
    "estudantes_dict['Marcelo']= 23"
   ]
  },
  {
   "cell_type": "code",
   "execution_count": 16,
   "id": "41b2a83d",
   "metadata": {},
   "outputs": [
    {
     "data": {
      "text/plain": [
       "{'Pedro': 24, 'Ana': 22, 'Ronaldo': 26, 'Janaina': 25, 'Marcelo': 23}"
      ]
     },
     "execution_count": 16,
     "metadata": {},
     "output_type": "execute_result"
    }
   ],
   "source": [
    "estudantes_dict"
   ]
  },
  {
   "cell_type": "code",
   "execution_count": 17,
   "id": "a8c9b137",
   "metadata": {},
   "outputs": [],
   "source": [
    "estudantes_dict.clear()"
   ]
  },
  {
   "cell_type": "code",
   "execution_count": 18,
   "id": "9c2a5ff2",
   "metadata": {},
   "outputs": [
    {
     "data": {
      "text/plain": [
       "{}"
      ]
     },
     "execution_count": 18,
     "metadata": {},
     "output_type": "execute_result"
    }
   ],
   "source": [
    "estudantes_dict"
   ]
  },
  {
   "cell_type": "code",
   "execution_count": 19,
   "id": "d5bd94ea",
   "metadata": {},
   "outputs": [],
   "source": [
    "del estudantes_dict"
   ]
  },
  {
   "cell_type": "code",
   "execution_count": 26,
   "id": "6aea3536",
   "metadata": {},
   "outputs": [
    {
     "data": {
      "text/plain": [
       "{'Pedro': 24, 'Ana': 22, 'Ronaldo': 26, 'Janaina': 25}"
      ]
     },
     "execution_count": 26,
     "metadata": {},
     "output_type": "execute_result"
    }
   ],
   "source": [
    "estudantes"
   ]
  },
  {
   "cell_type": "markdown",
   "id": "1bfc86ff",
   "metadata": {},
   "source": [
    "### cada par é um elemento"
   ]
  },
  {
   "cell_type": "code",
   "execution_count": 27,
   "id": "5bbea90f",
   "metadata": {},
   "outputs": [
    {
     "data": {
      "text/plain": [
       "4"
      ]
     },
     "execution_count": 27,
     "metadata": {},
     "output_type": "execute_result"
    }
   ],
   "source": [
    "len(estudantes)"
   ]
  },
  {
   "cell_type": "code",
   "execution_count": 33,
   "id": "c7505286",
   "metadata": {},
   "outputs": [
    {
     "data": {
      "text/plain": [
       "dict_keys(['Pedro', 'Ana', 'Ronaldo', 'Janaina'])"
      ]
     },
     "execution_count": 33,
     "metadata": {},
     "output_type": "execute_result"
    }
   ],
   "source": [
    "estudantes.keys()"
   ]
  },
  {
   "cell_type": "code",
   "execution_count": 34,
   "id": "104dbc58",
   "metadata": {},
   "outputs": [
    {
     "data": {
      "text/plain": [
       "dict_values([24, 22, 26, 25])"
      ]
     },
     "execution_count": 34,
     "metadata": {},
     "output_type": "execute_result"
    }
   ],
   "source": [
    "estudantes.values()"
   ]
  },
  {
   "cell_type": "code",
   "execution_count": 35,
   "id": "59aa4211",
   "metadata": {},
   "outputs": [
    {
     "data": {
      "text/plain": [
       "dict_items([('Pedro', 24), ('Ana', 22), ('Ronaldo', 26), ('Janaina', 25)])"
      ]
     },
     "execution_count": 35,
     "metadata": {},
     "output_type": "execute_result"
    }
   ],
   "source": [
    "estudantes.items()"
   ]
  },
  {
   "cell_type": "code",
   "execution_count": 36,
   "id": "9605113d",
   "metadata": {},
   "outputs": [],
   "source": [
    "estudantes2 = {'Camila': 27, 'Adriana': 28, 'Roberta':26}"
   ]
  },
  {
   "cell_type": "code",
   "execution_count": 37,
   "id": "c3c9275b",
   "metadata": {},
   "outputs": [],
   "source": [
    "estudantes.update(estudantes2)"
   ]
  },
  {
   "cell_type": "code",
   "execution_count": 39,
   "id": "de2efe42",
   "metadata": {},
   "outputs": [
    {
     "data": {
      "text/plain": [
       "{'Pedro': 24,\n",
       " 'Ana': 22,\n",
       " 'Ronaldo': 26,\n",
       " 'Janaina': 25,\n",
       " 'Camila': 27,\n",
       " 'Adriana': 28,\n",
       " 'Roberta': 26}"
      ]
     },
     "execution_count": 39,
     "metadata": {},
     "output_type": "execute_result"
    }
   ],
   "source": [
    "estudantes"
   ]
  },
  {
   "cell_type": "code",
   "execution_count": 40,
   "id": "4f3a9789",
   "metadata": {},
   "outputs": [],
   "source": [
    "dict2 = {}"
   ]
  },
  {
   "cell_type": "code",
   "execution_count": 44,
   "id": "4f447ffc",
   "metadata": {},
   "outputs": [],
   "source": [
    "dict2['key1']= 'Data Science'"
   ]
  },
  {
   "cell_type": "code",
   "execution_count": 43,
   "id": "8a060dbc",
   "metadata": {},
   "outputs": [],
   "source": [
    "dict2['key2']= '10'"
   ]
  },
  {
   "cell_type": "code",
   "execution_count": 42,
   "id": "4fc943e3",
   "metadata": {},
   "outputs": [],
   "source": [
    "dict2['key3']= '100'"
   ]
  },
  {
   "cell_type": "code",
   "execution_count": 45,
   "id": "65dade10",
   "metadata": {},
   "outputs": [
    {
     "data": {
      "text/plain": [
       "{'key1': 'Data Science', 'key3': '100', 'key2': '10'}"
      ]
     },
     "execution_count": 45,
     "metadata": {},
     "output_type": "execute_result"
    }
   ],
   "source": [
    "dict2"
   ]
  },
  {
   "cell_type": "code",
   "execution_count": 46,
   "id": "fef7da1c",
   "metadata": {},
   "outputs": [],
   "source": [
    "#vou extrair cada uma das 3 chaves e enviar para variaveis distintas\n",
    "a = dict2['key1']\n",
    "b = dict2['key2']\n",
    "c = dict2['key3']"
   ]
  },
  {
   "cell_type": "code",
   "execution_count": 47,
   "id": "9fab4e40",
   "metadata": {},
   "outputs": [
    {
     "data": {
      "text/plain": [
       "('Data Science', '10', '100')"
      ]
     },
     "execution_count": 47,
     "metadata": {},
     "output_type": "execute_result"
    }
   ],
   "source": [
    "a, b, c"
   ]
  },
  {
   "cell_type": "markdown",
   "id": "bd6213db",
   "metadata": {},
   "source": [
    "## Trabalhando com dicionário parte III"
   ]
  },
  {
   "cell_type": "code",
   "execution_count": 50,
   "id": "9b4b9ccc",
   "metadata": {},
   "outputs": [],
   "source": [
    "dict3 = {'chave1': 1230, 'chave2': [22,453,73.4], 'chave3': ['picanha','fraldinha','alcatra']}"
   ]
  },
  {
   "cell_type": "code",
   "execution_count": 51,
   "id": "b12b7213",
   "metadata": {},
   "outputs": [
    {
     "data": {
      "text/plain": [
       "{'chave1': 1230,\n",
       " 'chave2': [22, 453, 73.4],\n",
       " 'chave3': ['picanha', 'fraldinha', 'alcatra']}"
      ]
     },
     "execution_count": 51,
     "metadata": {},
     "output_type": "execute_result"
    }
   ],
   "source": [
    "dict3"
   ]
  },
  {
   "cell_type": "code",
   "execution_count": 52,
   "id": "23c3ee7f",
   "metadata": {},
   "outputs": [
    {
     "data": {
      "text/plain": [
       "[22, 453, 73.4]"
      ]
     },
     "execution_count": 52,
     "metadata": {},
     "output_type": "execute_result"
    }
   ],
   "source": [
    "dict3['chave2']"
   ]
  },
  {
   "cell_type": "code",
   "execution_count": 53,
   "id": "fdb37f30",
   "metadata": {},
   "outputs": [
    {
     "data": {
      "text/plain": [
       "'PICANHA'"
      ]
     },
     "execution_count": 53,
     "metadata": {},
     "output_type": "execute_result"
    }
   ],
   "source": [
    "#acessando um item da lista, dentro do dicionário\n",
    "dict3['chave3'][0].upper()"
   ]
  },
  {
   "cell_type": "code",
   "execution_count": 69,
   "id": "1416283f",
   "metadata": {},
   "outputs": [],
   "source": [
    "#Operaçoes com itens da lista, dentro do dicionário\n",
    "var1 = dict3['chave2'][0] - 2"
   ]
  },
  {
   "cell_type": "code",
   "execution_count": 70,
   "id": "d8de7fc7",
   "metadata": {},
   "outputs": [
    {
     "data": {
      "text/plain": [
       "20"
      ]
     },
     "execution_count": 70,
     "metadata": {},
     "output_type": "execute_result"
    }
   ],
   "source": [
    "var1"
   ]
  },
  {
   "cell_type": "code",
   "execution_count": 71,
   "id": "1229c388",
   "metadata": {},
   "outputs": [
    {
     "data": {
      "text/plain": [
       "22"
      ]
     },
     "execution_count": 71,
     "metadata": {},
     "output_type": "execute_result"
    }
   ],
   "source": [
    "dict3['chave2'][0]"
   ]
  },
  {
   "cell_type": "code",
   "execution_count": null,
   "id": "3b249c62",
   "metadata": {},
   "outputs": [],
   "source": []
  },
  {
   "cell_type": "code",
   "execution_count": null,
   "id": "90e02d98",
   "metadata": {},
   "outputs": [],
   "source": []
  }
 ],
 "metadata": {
  "kernelspec": {
   "display_name": "Python 3 (ipykernel)",
   "language": "python",
   "name": "python3"
  },
  "language_info": {
   "codemirror_mode": {
    "name": "ipython",
    "version": 3
   },
   "file_extension": ".py",
   "mimetype": "text/x-python",
   "name": "python",
   "nbconvert_exporter": "python",
   "pygments_lexer": "ipython3",
   "version": "3.9.13"
  }
 },
 "nbformat": 4,
 "nbformat_minor": 5
}
