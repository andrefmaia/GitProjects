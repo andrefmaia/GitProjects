{
 "cells": [
  {
   "cell_type": "code",
   "execution_count": 1,
   "id": "4974b173",
   "metadata": {},
   "outputs": [],
   "source": [
    "lista1 = [\"arroz, frango, tomate, leite\"]"
   ]
  },
  {
   "cell_type": "code",
   "execution_count": 2,
   "id": "f1232fdf",
   "metadata": {},
   "outputs": [
    {
     "data": {
      "text/plain": [
       "list"
      ]
     },
     "execution_count": 2,
     "metadata": {},
     "output_type": "execute_result"
    }
   ],
   "source": [
    "type(lista1)"
   ]
  },
  {
   "cell_type": "code",
   "execution_count": 3,
   "id": "75ce1266",
   "metadata": {},
   "outputs": [
    {
     "data": {
      "text/plain": [
       "['arroz, frango, tomate, leite']"
      ]
     },
     "execution_count": 3,
     "metadata": {},
     "output_type": "execute_result"
    }
   ],
   "source": [
    "lista1"
   ]
  },
  {
   "cell_type": "code",
   "execution_count": 4,
   "id": "f44867ae",
   "metadata": {},
   "outputs": [],
   "source": [
    "lista2 = ['arroz', 'frango', 'tomate', 'leite']"
   ]
  },
  {
   "cell_type": "code",
   "execution_count": 5,
   "id": "4aae549d",
   "metadata": {},
   "outputs": [
    {
     "data": {
      "text/plain": [
       "['arroz', 'frango', 'tomate', 'leite']"
      ]
     },
     "execution_count": 5,
     "metadata": {},
     "output_type": "execute_result"
    }
   ],
   "source": [
    "lista2"
   ]
  },
  {
   "cell_type": "code",
   "execution_count": 6,
   "id": "2b9fe679",
   "metadata": {},
   "outputs": [],
   "source": [
    "lista2[3]='Alecrin'"
   ]
  },
  {
   "cell_type": "code",
   "execution_count": 7,
   "id": "5dc403e6",
   "metadata": {},
   "outputs": [
    {
     "data": {
      "text/plain": [
       "'Alecrin'"
      ]
     },
     "execution_count": 7,
     "metadata": {},
     "output_type": "execute_result"
    }
   ],
   "source": [
    "lista2[3]"
   ]
  },
  {
   "cell_type": "code",
   "execution_count": 8,
   "id": "b17d3414",
   "metadata": {},
   "outputs": [
    {
     "data": {
      "text/plain": [
       "['arroz', 'frango', 'tomate', 'Alecrin']"
      ]
     },
     "execution_count": 8,
     "metadata": {},
     "output_type": "execute_result"
    }
   ],
   "source": [
    "lista2"
   ]
  },
  {
   "cell_type": "code",
   "execution_count": 9,
   "id": "9945566a",
   "metadata": {},
   "outputs": [],
   "source": [
    "lista3 = [23,100,'Cientista de Dados']"
   ]
  },
  {
   "cell_type": "code",
   "execution_count": 10,
   "id": "c2488699",
   "metadata": {},
   "outputs": [
    {
     "data": {
      "text/plain": [
       "[23, 100, 'Cientista de Dados']"
      ]
     },
     "execution_count": 10,
     "metadata": {},
     "output_type": "execute_result"
    }
   ],
   "source": [
    "lista3"
   ]
  },
  {
   "cell_type": "code",
   "execution_count": 11,
   "id": "0f8d905c",
   "metadata": {},
   "outputs": [],
   "source": [
    "item1 = lista3[0]"
   ]
  },
  {
   "cell_type": "code",
   "execution_count": 12,
   "id": "f7c5eb5a",
   "metadata": {},
   "outputs": [],
   "source": [
    "item2 = lista3[1]"
   ]
  },
  {
   "cell_type": "code",
   "execution_count": 13,
   "id": "09bb2356",
   "metadata": {},
   "outputs": [],
   "source": [
    "item3 = lista3[2]"
   ]
  },
  {
   "cell_type": "code",
   "execution_count": 14,
   "id": "c1c059e5",
   "metadata": {},
   "outputs": [
    {
     "name": "stdout",
     "output_type": "stream",
     "text": [
      "23 100 Cientista de Dados\n"
     ]
    }
   ],
   "source": [
    "print (item1, item2, item3)"
   ]
  },
  {
   "cell_type": "code",
   "execution_count": 60,
   "id": "3b51bfd4",
   "metadata": {},
   "outputs": [],
   "source": [
    "lista5 = [ 34,32,100,150,56,90,35]"
   ]
  },
  {
   "cell_type": "code",
   "execution_count": 16,
   "id": "9213d116",
   "metadata": {},
   "outputs": [
    {
     "name": "stdout",
     "output_type": "stream",
     "text": [
      "False\n"
     ]
    }
   ],
   "source": [
    "print( 10 in lista5)"
   ]
  },
  {
   "cell_type": "code",
   "execution_count": 17,
   "id": "166ddf75",
   "metadata": {},
   "outputs": [
    {
     "name": "stdout",
     "output_type": "stream",
     "text": [
      "True\n"
     ]
    }
   ],
   "source": [
    "print(100 in lista5)"
   ]
  },
  {
   "cell_type": "code",
   "execution_count": 18,
   "id": "85042ec6",
   "metadata": {},
   "outputs": [
    {
     "name": "stdout",
     "output_type": "stream",
     "text": [
      "True\n"
     ]
    }
   ],
   "source": [
    "print('frango' in lista2)"
   ]
  },
  {
   "cell_type": "markdown",
   "id": "7fca7c92",
   "metadata": {},
   "source": [
    "### Funcões Built-In"
   ]
  },
  {
   "cell_type": "code",
   "execution_count": 19,
   "id": "198140e9",
   "metadata": {},
   "outputs": [
    {
     "data": {
      "text/plain": [
       "6"
      ]
     },
     "execution_count": 19,
     "metadata": {},
     "output_type": "execute_result"
    }
   ],
   "source": [
    "#Função len() retorna o comprimento da lista\n",
    "len(lista5)"
   ]
  },
  {
   "cell_type": "code",
   "execution_count": 20,
   "id": "b6e2232e",
   "metadata": {},
   "outputs": [
    {
     "data": {
      "text/plain": [
       "150"
      ]
     },
     "execution_count": 20,
     "metadata": {},
     "output_type": "execute_result"
    }
   ],
   "source": [
    "#Função max() retorna o valor máximo da lista\n",
    "max(lista5)"
   ]
  },
  {
   "cell_type": "code",
   "execution_count": 21,
   "id": "d16a0a38",
   "metadata": {},
   "outputs": [
    {
     "data": {
      "text/plain": [
       "32"
      ]
     },
     "execution_count": 21,
     "metadata": {},
     "output_type": "execute_result"
    }
   ],
   "source": [
    "#Função min() retorna o valor menor da lista\n",
    "min(lista5)"
   ]
  },
  {
   "cell_type": "code",
   "execution_count": 22,
   "id": "03e66cde",
   "metadata": {},
   "outputs": [],
   "source": [
    "lista_profissionais_dados = ['Analista de Dados', 'Cientista de Dados', 'Engenheiro de Dados']"
   ]
  },
  {
   "cell_type": "code",
   "execution_count": 23,
   "id": "e899ec48",
   "metadata": {},
   "outputs": [],
   "source": [
    "lista_profissionais_dados.append('Engenheiro de IA')"
   ]
  },
  {
   "cell_type": "code",
   "execution_count": 24,
   "id": "97fcccb9",
   "metadata": {},
   "outputs": [
    {
     "data": {
      "text/plain": [
       "['Analista de Dados',\n",
       " 'Cientista de Dados',\n",
       " 'Engenheiro de Dados',\n",
       " 'Engenheiro de IA']"
      ]
     },
     "execution_count": 24,
     "metadata": {},
     "output_type": "execute_result"
    }
   ],
   "source": [
    "lista_profissionais_dados"
   ]
  },
  {
   "cell_type": "code",
   "execution_count": 25,
   "id": "f49c3f06",
   "metadata": {},
   "outputs": [],
   "source": [
    "lista_profissionais_dados.append('Engenheiro de IA')"
   ]
  },
  {
   "cell_type": "code",
   "execution_count": 26,
   "id": "44371485",
   "metadata": {},
   "outputs": [
    {
     "data": {
      "text/plain": [
       "['Analista de Dados',\n",
       " 'Cientista de Dados',\n",
       " 'Engenheiro de Dados',\n",
       " 'Engenheiro de IA',\n",
       " 'Engenheiro de IA']"
      ]
     },
     "execution_count": 26,
     "metadata": {},
     "output_type": "execute_result"
    }
   ],
   "source": [
    "lista_profissionais_dados"
   ]
  },
  {
   "cell_type": "code",
   "execution_count": 27,
   "id": "43d9f4e3",
   "metadata": {},
   "outputs": [],
   "source": [
    "#o append() Não verifica se tem dados duplicados ele apenas adiciona o conteúdo da lista em outro índice."
   ]
  },
  {
   "cell_type": "code",
   "execution_count": 28,
   "id": "29c538a0",
   "metadata": {},
   "outputs": [],
   "source": [
    "a = []"
   ]
  },
  {
   "cell_type": "code",
   "execution_count": 29,
   "id": "e7b83ccb",
   "metadata": {},
   "outputs": [
    {
     "name": "stdout",
     "output_type": "stream",
     "text": [
      "[]\n"
     ]
    }
   ],
   "source": [
    "print(a)"
   ]
  },
  {
   "cell_type": "code",
   "execution_count": 30,
   "id": "8f129401",
   "metadata": {},
   "outputs": [],
   "source": [
    "a.append(10)"
   ]
  },
  {
   "cell_type": "code",
   "execution_count": 31,
   "id": "9fd01d2b",
   "metadata": {},
   "outputs": [
    {
     "data": {
      "text/plain": [
       "[10]"
      ]
     },
     "execution_count": 31,
     "metadata": {},
     "output_type": "execute_result"
    }
   ],
   "source": [
    "a"
   ]
  },
  {
   "cell_type": "code",
   "execution_count": 32,
   "id": "100ddab1",
   "metadata": {},
   "outputs": [],
   "source": [
    "a.append(20)"
   ]
  },
  {
   "cell_type": "code",
   "execution_count": 33,
   "id": "a77307a2",
   "metadata": {},
   "outputs": [],
   "source": [
    "a.append(30)"
   ]
  },
  {
   "cell_type": "code",
   "execution_count": 34,
   "id": "16717a45",
   "metadata": {},
   "outputs": [],
   "source": [
    "a.append(40)"
   ]
  },
  {
   "cell_type": "code",
   "execution_count": 35,
   "id": "e5f212bb",
   "metadata": {},
   "outputs": [],
   "source": [
    "a.append(50)"
   ]
  },
  {
   "cell_type": "code",
   "execution_count": 36,
   "id": "1bcc3f20",
   "metadata": {},
   "outputs": [
    {
     "data": {
      "text/plain": [
       "[10, 20, 30, 40, 50]"
      ]
     },
     "execution_count": 36,
     "metadata": {},
     "output_type": "execute_result"
    }
   ],
   "source": [
    "a"
   ]
  },
  {
   "cell_type": "code",
   "execution_count": 37,
   "id": "519182eb",
   "metadata": {},
   "outputs": [
    {
     "ename": "TypeError",
     "evalue": "list.count() takes exactly one argument (0 given)",
     "output_type": "error",
     "traceback": [
      "\u001b[1;31m---------------------------------------------------------------------------\u001b[0m",
      "\u001b[1;31mTypeError\u001b[0m                                 Traceback (most recent call last)",
      "\u001b[1;32m~\\AppData\\Local\\Temp\\ipykernel_7248\\4086721465.py\u001b[0m in \u001b[0;36m<module>\u001b[1;34m\u001b[0m\n\u001b[1;32m----> 1\u001b[1;33m \u001b[0ma\u001b[0m\u001b[1;33m.\u001b[0m\u001b[0mcount\u001b[0m\u001b[1;33m(\u001b[0m\u001b[1;33m)\u001b[0m\u001b[1;33m\u001b[0m\u001b[1;33m\u001b[0m\u001b[0m\n\u001b[0m",
      "\u001b[1;31mTypeError\u001b[0m: list.count() takes exactly one argument (0 given)"
     ]
    }
   ],
   "source": [
    "a.count()"
   ]
  },
  {
   "cell_type": "code",
   "execution_count": 38,
   "id": "d01c00f0",
   "metadata": {},
   "outputs": [
    {
     "data": {
      "text/plain": [
       "2"
      ]
     },
     "execution_count": 38,
     "metadata": {},
     "output_type": "execute_result"
    }
   ],
   "source": [
    "lista_profissionais_dados.count('Engenheiro de IA')"
   ]
  },
  {
   "cell_type": "code",
   "execution_count": 39,
   "id": "6aa6939c",
   "metadata": {},
   "outputs": [
    {
     "data": {
      "text/plain": [
       "0"
      ]
     },
     "execution_count": 39,
     "metadata": {},
     "output_type": "execute_result"
    }
   ],
   "source": [
    "a.count([])"
   ]
  },
  {
   "cell_type": "code",
   "execution_count": 40,
   "id": "3818d2d5",
   "metadata": {},
   "outputs": [
    {
     "ename": "NameError",
     "evalue": "name 'count' is not defined",
     "output_type": "error",
     "traceback": [
      "\u001b[1;31m---------------------------------------------------------------------------\u001b[0m",
      "\u001b[1;31mNameError\u001b[0m                                 Traceback (most recent call last)",
      "\u001b[1;32m~\\AppData\\Local\\Temp\\ipykernel_7248\\3702539440.py\u001b[0m in \u001b[0;36m<module>\u001b[1;34m\u001b[0m\n\u001b[1;32m----> 1\u001b[1;33m \u001b[0mcount\u001b[0m\u001b[1;33m(\u001b[0m\u001b[0ma\u001b[0m\u001b[1;33m)\u001b[0m\u001b[1;33m\u001b[0m\u001b[1;33m\u001b[0m\u001b[0m\n\u001b[0m",
      "\u001b[1;31mNameError\u001b[0m: name 'count' is not defined"
     ]
    }
   ],
   "source": [
    "count(a)"
   ]
  },
  {
   "cell_type": "code",
   "execution_count": 41,
   "id": "d177e697",
   "metadata": {},
   "outputs": [
    {
     "ename": "SyntaxError",
     "evalue": "invalid syntax (1011339633.py, line 1)",
     "output_type": "error",
     "traceback": [
      "\u001b[1;36m  File \u001b[1;32m\"C:\\Users\\Andre\\AppData\\Local\\Temp\\ipykernel_7248\\1011339633.py\"\u001b[1;36m, line \u001b[1;32m1\u001b[0m\n\u001b[1;33m    a.count(a[])\u001b[0m\n\u001b[1;37m              ^\u001b[0m\n\u001b[1;31mSyntaxError\u001b[0m\u001b[1;31m:\u001b[0m invalid syntax\n"
     ]
    }
   ],
   "source": [
    "a.count(a[])"
   ]
  },
  {
   "cell_type": "code",
   "execution_count": 42,
   "id": "beac56b5",
   "metadata": {},
   "outputs": [],
   "source": [
    "new_list = []"
   ]
  },
  {
   "cell_type": "code",
   "execution_count": 45,
   "id": "8a7a4cda",
   "metadata": {},
   "outputs": [],
   "source": [
    "#copia toda lista a para dentro da new_lista com o loop for"
   ]
  },
  {
   "cell_type": "code",
   "execution_count": 43,
   "id": "bb5b66f0",
   "metadata": {},
   "outputs": [],
   "source": [
    "for item in a:\n",
    "    new_list.append(item)"
   ]
  },
  {
   "cell_type": "code",
   "execution_count": 44,
   "id": "7ceb5aea",
   "metadata": {},
   "outputs": [
    {
     "data": {
      "text/plain": [
       "[10, 20, 30, 40, 50]"
      ]
     },
     "execution_count": 44,
     "metadata": {},
     "output_type": "execute_result"
    }
   ],
   "source": [
    "new_list"
   ]
  },
  {
   "cell_type": "code",
   "execution_count": null,
   "id": "7da8c179",
   "metadata": {},
   "outputs": [],
   "source": [
    "#usando o metodo extend() "
   ]
  },
  {
   "cell_type": "code",
   "execution_count": 46,
   "id": "17773b78",
   "metadata": {},
   "outputs": [
    {
     "ename": "NameError",
     "evalue": "name 'Manaus' is not defined",
     "output_type": "error",
     "traceback": [
      "\u001b[1;31m---------------------------------------------------------------------------\u001b[0m",
      "\u001b[1;31mNameError\u001b[0m                                 Traceback (most recent call last)",
      "\u001b[1;32m~\\AppData\\Local\\Temp\\ipykernel_7248\\3111399929.py\u001b[0m in \u001b[0;36m<module>\u001b[1;34m\u001b[0m\n\u001b[1;32m----> 1\u001b[1;33m \u001b[0mcidades\u001b[0m \u001b[1;33m=\u001b[0m \u001b[1;33m[\u001b[0m\u001b[1;34m'Recife'\u001b[0m\u001b[1;33m,\u001b[0m \u001b[0mManaus\u001b[0m\u001b[1;33m,\u001b[0m\u001b[1;34m'Salvador'\u001b[0m\u001b[1;33m]\u001b[0m\u001b[1;33m\u001b[0m\u001b[1;33m\u001b[0m\u001b[0m\n\u001b[0m",
      "\u001b[1;31mNameError\u001b[0m: name 'Manaus' is not defined"
     ]
    }
   ],
   "source": [
    "cidades = ['Recife', Manaus,'Salvador']"
   ]
  },
  {
   "cell_type": "code",
   "execution_count": 47,
   "id": "76f63192",
   "metadata": {},
   "outputs": [],
   "source": [
    "cidades = ['Recife', 'Manaus','Salvador']"
   ]
  },
  {
   "cell_type": "code",
   "execution_count": 48,
   "id": "b3bb026c",
   "metadata": {},
   "outputs": [],
   "source": [
    "cidades.extend(['Fortaleza', 'Palmas'])"
   ]
  },
  {
   "cell_type": "code",
   "execution_count": 49,
   "id": "5e89db8b",
   "metadata": {},
   "outputs": [
    {
     "data": {
      "text/plain": [
       "['Recife', 'Manaus', 'Salvador', 'Fortaleza', 'Palmas']"
      ]
     },
     "execution_count": 49,
     "metadata": {},
     "output_type": "execute_result"
    }
   ],
   "source": [
    "cidades"
   ]
  },
  {
   "cell_type": "code",
   "execution_count": 50,
   "id": "a6b34d0c",
   "metadata": {},
   "outputs": [
    {
     "data": {
      "text/plain": [
       "2"
      ]
     },
     "execution_count": 50,
     "metadata": {},
     "output_type": "execute_result"
    }
   ],
   "source": [
    "cidades.index('Salvador')"
   ]
  },
  {
   "cell_type": "code",
   "execution_count": 51,
   "id": "7e5165ab",
   "metadata": {},
   "outputs": [],
   "source": [
    "cidades.insert(2, 110)"
   ]
  },
  {
   "cell_type": "code",
   "execution_count": 52,
   "id": "c6ab1a36",
   "metadata": {},
   "outputs": [
    {
     "data": {
      "text/plain": [
       "['Recife', 'Manaus', 110, 'Salvador', 'Fortaleza', 'Palmas']"
      ]
     },
     "execution_count": 52,
     "metadata": {},
     "output_type": "execute_result"
    }
   ],
   "source": [
    "cidades"
   ]
  },
  {
   "cell_type": "code",
   "execution_count": 53,
   "id": "0e47d7a6",
   "metadata": {},
   "outputs": [],
   "source": [
    "cidades.remove(110)"
   ]
  },
  {
   "cell_type": "code",
   "execution_count": 54,
   "id": "50e48c30",
   "metadata": {},
   "outputs": [
    {
     "data": {
      "text/plain": [
       "['Recife', 'Manaus', 'Salvador', 'Fortaleza', 'Palmas']"
      ]
     },
     "execution_count": 54,
     "metadata": {},
     "output_type": "execute_result"
    }
   ],
   "source": [
    "cidades"
   ]
  },
  {
   "cell_type": "code",
   "execution_count": 55,
   "id": "f76cf42f",
   "metadata": {},
   "outputs": [],
   "source": [
    "cidades.reverse()"
   ]
  },
  {
   "cell_type": "code",
   "execution_count": 56,
   "id": "ff23c6c0",
   "metadata": {},
   "outputs": [
    {
     "data": {
      "text/plain": [
       "['Palmas', 'Fortaleza', 'Salvador', 'Manaus', 'Recife']"
      ]
     },
     "execution_count": 56,
     "metadata": {},
     "output_type": "execute_result"
    }
   ],
   "source": [
    "cidades"
   ]
  },
  {
   "cell_type": "markdown",
   "id": "26d30f29",
   "metadata": {},
   "source": [
    "### Ordençãom sort()"
   ]
  },
  {
   "cell_type": "code",
   "execution_count": 61,
   "id": "1f635fe6",
   "metadata": {},
   "outputs": [],
   "source": [
    "lista5.sort()"
   ]
  },
  {
   "cell_type": "code",
   "execution_count": 62,
   "id": "26bfcfb9",
   "metadata": {},
   "outputs": [
    {
     "data": {
      "text/plain": [
       "[32, 34, 35, 56, 90, 100, 150]"
      ]
     },
     "execution_count": 62,
     "metadata": {},
     "output_type": "execute_result"
    }
   ],
   "source": [
    "lista5"
   ]
  },
  {
   "cell_type": "code",
   "execution_count": null,
   "id": "c217ddc6",
   "metadata": {},
   "outputs": [],
   "source": []
  }
 ],
 "metadata": {
  "kernelspec": {
   "display_name": "Python 3 (ipykernel)",
   "language": "python",
   "name": "python3"
  },
  "language_info": {
   "codemirror_mode": {
    "name": "ipython",
    "version": 3
   },
   "file_extension": ".py",
   "mimetype": "text/x-python",
   "name": "python",
   "nbconvert_exporter": "python",
   "pygments_lexer": "ipython3",
   "version": "3.9.13"
  }
 },
 "nbformat": 4,
 "nbformat_minor": 5
}
